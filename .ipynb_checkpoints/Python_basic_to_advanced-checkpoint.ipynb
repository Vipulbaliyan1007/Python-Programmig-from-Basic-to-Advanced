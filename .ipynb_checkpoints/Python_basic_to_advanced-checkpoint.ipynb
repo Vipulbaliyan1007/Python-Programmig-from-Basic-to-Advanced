{
 "cells": [
  {
   "cell_type": "markdown",
   "id": "5ed6696d-dad3-4d79-bfc4-e35cf375514e",
   "metadata": {
    "jp-MarkdownHeadingCollapsed": true
   },
   "source": [
    "### Print function in python"
   ]
  },
  {
   "cell_type": "code",
   "execution_count": 1,
   "id": "88613318-31ea-41e2-aa57-3f7fe637a4c0",
   "metadata": {},
   "outputs": [
    {
     "name": "stdout",
     "output_type": "stream",
     "text": [
      "Hello\n"
     ]
    }
   ],
   "source": [
    "print('Hello')"
   ]
  },
  {
   "cell_type": "code",
   "execution_count": 2,
   "id": "6aaccf40-eb10-4aaf-bde8-fe8f83fcdb26",
   "metadata": {},
   "outputs": [
    {
     "name": "stdout",
     "output_type": "stream",
     "text": [
      "4\n"
     ]
    }
   ],
   "source": [
    "print(4)"
   ]
  },
  {
   "cell_type": "code",
   "execution_count": 3,
   "id": "6278be95-6477-469f-aa3d-212085f89e83",
   "metadata": {},
   "outputs": [
    {
     "name": "stdout",
     "output_type": "stream",
     "text": [
      "Vipul Varun Karitk Arjun Lakshya\n"
     ]
    }
   ],
   "source": [
    "print(\"Vipul\",\"Varun\", \"Karitk\", \"Arjun\", \"Lakshya\")"
   ]
  },
  {
   "cell_type": "code",
   "execution_count": 4,
   "id": "cd0b26b3-ba47-4257-ba61-7a25481ed32a",
   "metadata": {},
   "outputs": [
    {
     "name": "stdout",
     "output_type": "stream",
     "text": [
      "Vipul/Varun/Karitk/Arjun/Lakshya\n"
     ]
    }
   ],
   "source": [
    "# Use of sep in print where we can insert special charcters in between our stings, values\n",
    "print(\"Vipul\",\"Varun\", \"Karitk\", \"Arjun\", \"Lakshya\", sep='/')"
   ]
  },
  {
   "cell_type": "code",
   "execution_count": 5,
   "id": "d89fbfa0-e5ce-4a45-bcf4-9505a96af8ef",
   "metadata": {},
   "outputs": [
    {
     "name": "stdout",
     "output_type": "stream",
     "text": [
      "Vipul-Varun-Karitk-Arjun-Lakshya\n"
     ]
    }
   ],
   "source": [
    "print(\"Vipul\",\"Varun\", \"Karitk\", \"Arjun\", \"Lakshya\", sep='-')"
   ]
  },
  {
   "cell_type": "code",
   "execution_count": 6,
   "id": "432f2c07-bfb5-473a-b73a-0c47173df0c7",
   "metadata": {},
   "outputs": [
    {
     "name": "stdout",
     "output_type": "stream",
     "text": [
      "Hello\n",
      "world\n"
     ]
    }
   ],
   "source": [
    "print(\"Hello\")\n",
    "print(\"world\")"
   ]
  },
  {
   "cell_type": "code",
   "execution_count": 11,
   "id": "debeeabf-45af-445b-b90a-ee97060b0d52",
   "metadata": {},
   "outputs": [
    {
     "name": "stdout",
     "output_type": "stream",
     "text": [
      "Hello            world\n"
     ]
    }
   ],
   "source": [
    "# Using end ='' we can print the different lines in single one without going to next line + we can also control the number of spaces\n",
    "print(\"Hello\",end='            ')\n",
    "print(\"world\")"
   ]
  },
  {
   "cell_type": "markdown",
   "id": "1741ac88-b52c-4b39-a06b-eff41d5eeba2",
   "metadata": {
    "jp-MarkdownHeadingCollapsed": true
   },
   "source": [
    "### Data types of python\n",
    "##### Basic type --> interge, float, boolean, float, string \n",
    "##### container type --> List, Tuples, Sets, Dictionary\n",
    "##### User-defined type --> class, objects\n"
   ]
  },
  {
   "cell_type": "code",
   "execution_count": 19,
   "id": "1f5899d9-59ed-478e-903b-aff0e2b5b31f",
   "metadata": {},
   "outputs": [
    {
     "name": "stdout",
     "output_type": "stream",
     "text": [
      "5\n",
      "1e+308\n"
     ]
    }
   ],
   "source": [
    "# integer\n",
    "print(5)\n",
    "print(1e308)\n",
    "\n",
    "# Max size of integer possible in python after which it will show infinity"
   ]
  },
  {
   "cell_type": "code",
   "execution_count": 20,
   "id": "7de001e7-2907-43f4-b2dc-9cca253947c7",
   "metadata": {},
   "outputs": [
    {
     "name": "stdout",
     "output_type": "stream",
     "text": [
      "4.5\n",
      "1.7e+308\n"
     ]
    }
   ],
   "source": [
    "# float\n",
    "print(4.5)\n",
    "print(1.7e308)\n",
    "\n",
    "# Max size of integer possible in python after which it will show infinity"
   ]
  },
  {
   "cell_type": "code",
   "execution_count": null,
   "id": "fa7d598e-7e58-4a62-a5f7-8982e75eeb71",
   "metadata": {},
   "outputs": [],
   "source": [
    "# Boolean\n",
    "print(True)\n",
    "print(False)"
   ]
  },
  {
   "cell_type": "code",
   "execution_count": 23,
   "id": "cbeef59b-8c0e-43cc-b497-ff1891f61bca",
   "metadata": {},
   "outputs": [
    {
     "name": "stdout",
     "output_type": "stream",
     "text": [
      "(4+6j)\n"
     ]
    }
   ],
   "source": [
    "# Complex\n",
    "print(4+6j)"
   ]
  },
  {
   "cell_type": "code",
   "execution_count": 26,
   "id": "9a2c02f5-5ef6-4253-bb33-a17cb739065c",
   "metadata": {},
   "outputs": [
    {
     "name": "stdout",
     "output_type": "stream",
     "text": [
      "Hello\n",
      "Hello\n",
      "Hello\n"
     ]
    }
   ],
   "source": [
    "# Strings \n",
    "print('Hello')\n",
    "print(\"Hello\")\n",
    "print(\"\"\"Hello\"\"\")"
   ]
  },
  {
   "cell_type": "code",
   "execution_count": 29,
   "id": "5180af6d-0ba2-43f2-bc20-a26d62df30d8",
   "metadata": {},
   "outputs": [
    {
     "name": "stdout",
     "output_type": "stream",
     "text": [
      "[4, 46, 756, 34, 65]\n"
     ]
    }
   ],
   "source": [
    "# Lists\n",
    "print([4,46,756,34,65])\n",
    "\n",
    "# Ordered(index-based), Mutable, and allow duplicates"
   ]
  },
  {
   "cell_type": "code",
   "execution_count": 30,
   "id": "255ead1e-2b6c-4c4c-9042-7a87feac6cd4",
   "metadata": {},
   "outputs": [
    {
     "name": "stdout",
     "output_type": "stream",
     "text": [
      "(3, 54, 54, 64, 64, 34)\n"
     ]
    }
   ],
   "source": [
    "# Tuples\n",
    "print((3,54,54,64,64,34,))\n",
    "\n",
    "# Ordered(index-based),Immutable, and allow duplicates"
   ]
  },
  {
   "cell_type": "code",
   "execution_count": 31,
   "id": "7f426309-3c23-4f9d-9282-163bb844ac43",
   "metadata": {},
   "outputs": [
    {
     "name": "stdout",
     "output_type": "stream",
     "text": [
      "{545, 3, 4, 5, 454, 45}\n"
     ]
    }
   ],
   "source": [
    "# Sets\n",
    "print({3,454,545,45,4,5,4,})\n",
    "\n",
    "# Unordered, Mutable, and does not allow duplicates"
   ]
  },
  {
   "cell_type": "code",
   "execution_count": 35,
   "id": "73045638-4c2d-481e-ae0e-b86f66a9e3f3",
   "metadata": {},
   "outputs": [
    {
     "name": "stdout",
     "output_type": "stream",
     "text": [
      "{'Name': 'Vipul', 'Age': '24', 'Gender': 'Male'}\n"
     ]
    }
   ],
   "source": [
    "# Dictonary \n",
    "print({\"Name\":\"Vipul\", \"Age\":\"24\", \"Gender\":\"Male\"})\n",
    "\n",
    "\n",
    "# It is the set of key and value pairs \n",
    "# Ordered, Mutable, and does not allow duplicate keys"
   ]
  },
  {
   "cell_type": "markdown",
   "id": "374fdd8a-4b02-4a05-8f82-69e8d2fd0e51",
   "metadata": {
    "jp-MarkdownHeadingCollapsed": true
   },
   "source": [
    "### Another important concept in python is variable which stores the value or string \n",
    "##### Dynamic typing--> Declaration of variable is not necessary --> PHP, Python\n",
    "##### Static typing --> Declaration of variable before using is necessary  --> C, C++, Java"
   ]
  },
  {
   "cell_type": "code",
   "execution_count": 42,
   "id": "2f429012-54a1-4eb9-8ee8-bcddc240a60b",
   "metadata": {},
   "outputs": [],
   "source": [
    "name='Vipul'"
   ]
  },
  {
   "cell_type": "code",
   "execution_count": 44,
   "id": "fcf0b0e2-79ac-4fc7-80e4-fcafe196a2d9",
   "metadata": {},
   "outputs": [
    {
     "name": "stdout",
     "output_type": "stream",
     "text": [
      "Vipul\n"
     ]
    }
   ],
   "source": [
    "print(name)"
   ]
  },
  {
   "cell_type": "code",
   "execution_count": 55,
   "id": "e4cacbd7-b71a-44bb-a443-cc8d1ea9ac32",
   "metadata": {},
   "outputs": [],
   "source": [
    "# Dynamic binding --> A single varibale can store multiple datatypes.Python variables are not bound to a specific data type at the time of declaration. \n",
    "# The type of the object a variable refers to can change dynamically at runtime.\n",
    "\n",
    "\n",
    "# The opposite of this is static binding where the datatype remains same throughout the program"
   ]
  },
  {
   "cell_type": "code",
   "execution_count": 47,
   "id": "d9b553d9-1ea1-4e1a-ae4a-bce1b5191edd",
   "metadata": {},
   "outputs": [],
   "source": [
    "name='hello'"
   ]
  },
  {
   "cell_type": "code",
   "execution_count": 48,
   "id": "867fe27a-c121-4cfb-ab99-7e80a4d881e2",
   "metadata": {},
   "outputs": [
    {
     "name": "stdout",
     "output_type": "stream",
     "text": [
      "hello\n"
     ]
    }
   ],
   "source": [
    "print(name)"
   ]
  },
  {
   "cell_type": "code",
   "execution_count": 49,
   "id": "7a9b9b76-7e5d-497d-95af-402bdf2a938f",
   "metadata": {},
   "outputs": [],
   "source": [
    "name='4545'"
   ]
  },
  {
   "cell_type": "code",
   "execution_count": 50,
   "id": "11dc303a-68f8-46db-82ba-510984e94dd0",
   "metadata": {},
   "outputs": [
    {
     "name": "stdout",
     "output_type": "stream",
     "text": [
      "4545\n"
     ]
    }
   ],
   "source": [
    "print(name)"
   ]
  },
  {
   "cell_type": "code",
   "execution_count": 53,
   "id": "d254ccc3-9a36-4a21-a893-81208e8e48ae",
   "metadata": {},
   "outputs": [],
   "source": [
    "name=34545+353454"
   ]
  },
  {
   "cell_type": "code",
   "execution_count": 54,
   "id": "9bb26914-e45f-4d6c-b568-a22b8ebd0114",
   "metadata": {},
   "outputs": [
    {
     "name": "stdout",
     "output_type": "stream",
     "text": [
      "387999\n"
     ]
    }
   ],
   "source": [
    "print(name)"
   ]
  },
  {
   "cell_type": "code",
   "execution_count": 56,
   "id": "fce96c42-5449-417c-8b75-2ac139844297",
   "metadata": {},
   "outputs": [
    {
     "name": "stdout",
     "output_type": "stream",
     "text": [
      "23\n",
      "3434\n",
      "Hello\n"
     ]
    }
   ],
   "source": [
    "# Special Syntax in python\n",
    "\n",
    "a='23';b='3434';c=\"Hello\"\n",
    "print(a)\n",
    "print(b)\n",
    "print(c)"
   ]
  },
  {
   "cell_type": "code",
   "execution_count": 58,
   "id": "ef0d504d-614e-4686-920e-24102b6b2ee4",
   "metadata": {},
   "outputs": [
    {
     "name": "stdout",
     "output_type": "stream",
     "text": [
      "23\n",
      "2323\n",
      "Hello\n"
     ]
    }
   ],
   "source": [
    "a,b,c ='23','2323','Hello'\n",
    "print(a)\n",
    "print(b)\n",
    "print(c)"
   ]
  },
  {
   "cell_type": "markdown",
   "id": "48142677-a323-400a-ba51-359b7b9f3ae7",
   "metadata": {
    "jp-MarkdownHeadingCollapsed": true
   },
   "source": [
    "###  Keywords and Identifiers in python\n",
    "##### Keywords are reserved words in Python that have special meanings and cannot be used as variable names, function names, or any other identifier. \n",
    "#####  Identifiers are the names given to variables, functions, classes, or other entities in Python.\n",
    "##### Case-Sensitive: Identifiers are case-sensitive (name and Name are different).\n",
    "##### Start with a letter or underscore (_): Identifiers cannot start with a number.\n",
    "##### Only letters, numbers, and underscores allowed: You cannot use special characters like @, #, $, etc., in identifiers."
   ]
  },
  {
   "cell_type": "code",
   "execution_count": 60,
   "id": "87240ab0-1fe4-40e7-b56b-df673d4e6361",
   "metadata": {},
   "outputs": [
    {
     "name": "stdout",
     "output_type": "stream",
     "text": [
      "['False', 'None', 'True', 'and', 'as', 'assert', 'async', 'await', 'break', 'class', 'continue', 'def', 'del', 'elif', 'else', 'except', 'finally', 'for', 'from', 'global', 'if', 'import', 'in', 'is', 'lambda', 'nonlocal', 'not', 'or', 'pass', 'raise', 'return', 'try', 'while', 'with', 'yield']\n"
     ]
    }
   ],
   "source": [
    "# printing all the keywords in python'\n",
    "import keyword\n",
    "print(keyword.kwlist)\n"
   ]
  },
  {
   "cell_type": "markdown",
   "id": "5e7e249a-7047-4fb8-8efd-7cd27aa3a6b1",
   "metadata": {
    "jp-MarkdownHeadingCollapsed": true
   },
   "source": [
    "### taking input and type conversion\n",
    "##### There are bsically two types of software --> static software(without input) & dynamic software(with input and can interact with user)\n",
    "\n",
    "##### The output of any value taken thorugh the funntio named as input always comes in the string "
   ]
  },
  {
   "cell_type": "code",
   "execution_count": 2,
   "id": "8688cea0-bdec-421d-a649-d4793030929f",
   "metadata": {},
   "outputs": [
    {
     "name": "stdin",
     "output_type": "stream",
     "text": [
      "Enter your name buddy vipul\n"
     ]
    },
    {
     "data": {
      "text/plain": [
       "'vipul'"
      ]
     },
     "execution_count": 2,
     "metadata": {},
     "output_type": "execute_result"
    }
   ],
   "source": [
    " # This is the actual and complete way of writing and taking input but we can remove prompt and it will also work\n",
    "input(prompt='Enter your name buddy')"
   ]
  },
  {
   "cell_type": "code",
   "execution_count": 3,
   "id": "f0d0a462-39d6-4924-8c4e-a1ef28582a25",
   "metadata": {},
   "outputs": [
    {
     "name": "stdin",
     "output_type": "stream",
     "text": [
      "enter the name Vipul Baliyan\n"
     ]
    },
    {
     "data": {
      "text/plain": [
       "'Vipul Baliyan'"
      ]
     },
     "execution_count": 3,
     "metadata": {},
     "output_type": "execute_result"
    }
   ],
   "source": [
    "input(\"enter the name\")"
   ]
  },
  {
   "cell_type": "code",
   "execution_count": 9,
   "id": "1c6e5831-12ef-422a-bdd4-18ec8ac78737",
   "metadata": {},
   "outputs": [
    {
     "name": "stdin",
     "output_type": "stream",
     "text": [
      "Enter first number 23424\n",
      "Enter second number 454353\n"
     ]
    }
   ],
   "source": [
    "# trying to find the sun using sting function\n",
    "f1=input(\"Enter first number\")\n",
    "f2=input(\"Enter second number\")"
   ]
  },
  {
   "cell_type": "code",
   "execution_count": 10,
   "id": "d56e1ed5-829e-40b8-9d05-c1fe30982232",
   "metadata": {},
   "outputs": [
    {
     "name": "stdout",
     "output_type": "stream",
     "text": [
      "23424\n",
      "454353\n"
     ]
    }
   ],
   "source": [
    "print(f1)\n",
    "print(f2)"
   ]
  },
  {
   "cell_type": "code",
   "execution_count": 11,
   "id": "0733c8af-c77e-4781-8d7d-0b982da07b1e",
   "metadata": {},
   "outputs": [
    {
     "name": "stdout",
     "output_type": "stream",
     "text": [
      "23424454353\n"
     ]
    }
   ],
   "source": [
    "sum = f1 + f2\n",
    "print(sum)\n",
    "\n",
    "# Here the value will not be the sum of two numbers because the input we get from is in the string form so it will join the strings together and display a single value"
   ]
  },
  {
   "cell_type": "code",
   "execution_count": 12,
   "id": "7856e91c-ba13-4430-b4a6-518af4d5fda8",
   "metadata": {},
   "outputs": [],
   "source": [
    "# There are basically two types of type conversion in python  and it is not a permanant operation which can change the previous value of data\n",
    "# Implicit --> Automatically done by Python when it converts one data type to another without user intervention.\n",
    "# Explicit --> Manually done by the programmer using predefined Python functions to convert data types.\n",
    "# Type casting is permanent and type conversion is temporary"
   ]
  },
  {
   "cell_type": "code",
   "execution_count": 14,
   "id": "9392a13f-6f8c-4241-95e6-9959d81da42c",
   "metadata": {},
   "outputs": [
    {
     "name": "stdout",
     "output_type": "stream",
     "text": [
      "477777\n"
     ]
    }
   ],
   "source": [
    "# Using type conversion we can easily now find the sum of two numbers \n",
    "sum = int(f1)+ int(f2)\n",
    "print(sum)"
   ]
  },
  {
   "cell_type": "markdown",
   "id": "886f48bf-76bf-4119-83ec-9b6c0cda725d",
   "metadata": {
    "jp-MarkdownHeadingCollapsed": true
   },
   "source": [
    "### Literals in python --> literals are constant values that are directly assigned to variables or used in the code. They represent fixed values and do not change during the execution of the program. \n",
    "##### Numeric literals -->[interger, float, complex]\n",
    "##### String literals  -->[single line, multiple lines]\n",
    "##### Boolean literals -->[true, false]\n",
    "##### Special literals -->[none]\n"
   ]
  },
  {
   "cell_type": "code",
   "execution_count": 25,
   "id": "13119fd4-0976-4f0c-bcd6-be564d3eaef4",
   "metadata": {},
   "outputs": [],
   "source": [
    "a=0b1010 #binary literal\n",
    "b=100 #decimal literal \n",
    "c=0o310 #octal litersl\n",
    "d=0x12c #hexagonal literal\n",
    "\n",
    "\n",
    "#float literals\n",
    "float_a=10.4\n",
    "float_b=1.6e5\n",
    "float_c=1.5e-3\n",
    "\n",
    "\n",
    "#complex literals \n",
    "f=3+6j"
   ]
  },
  {
   "cell_type": "code",
   "execution_count": 27,
   "id": "78a5dd14-fea0-4918-92a5-f176e7bdd38b",
   "metadata": {},
   "outputs": [
    {
     "name": "stdout",
     "output_type": "stream",
     "text": [
      "10 100 200 300\n",
      "10.4 160000.0 0.0015\n",
      "(3+6j) 6.0 3.0\n"
     ]
    }
   ],
   "source": [
    "print(a,b,c,d)\n",
    "print(float_a,float_b,float_c)\n",
    "print(f,f.imag,f.real)"
   ]
  },
  {
   "cell_type": "code",
   "execution_count": 37,
   "id": "a0a8d158-ee05-4d8b-97ba-6a65dfa8e38c",
   "metadata": {},
   "outputs": [
    {
     "name": "stdout",
     "output_type": "stream",
     "text": [
      "Vipul\n",
      "Gurukul kangri\n",
      "It bsically stores large data or string with multiple lines\n",
      " and now i am writing the another line just to check whether i can print \n",
      " multile lines useing 3 interted commas\n",
      "♥☂☯☺✓ \n",
      "raw \\n string\n"
     ]
    }
   ],
   "source": [
    "# Strnig literals\n",
    "# Everything is sting there is no char datatype in python\n",
    "# no difference between ' ' and \" \"\n",
    "# unicode string allows us to print emojies and special charcter\n",
    "# raw sting is used if we want to use python\n",
    "\n",
    "name='Vipul'\n",
    "college=\"Gurukul kangri\"\n",
    "multiline_str= \"\"\"It bsically stores large data or string with multiple lines\n",
    " and now i am writing the another line just to check whether i can print \n",
    " multile lines useing 3 interted commas\"\"\"\n",
    "unicode= u\"\\u2665\\u2602\\u262F\\u263A\\u2713 \"\n",
    "raw_str=r\"raw \\n string\"\n",
    "\n",
    "print(name)\n",
    "print(college)\n",
    "print(multiline_str)\n",
    "print(unicode)\n",
    "print(raw_str)"
   ]
  },
  {
   "cell_type": "code",
   "execution_count": 36,
   "id": "b309a08a-db22-4838-9183-239bc4a101b1",
   "metadata": {},
   "outputs": [
    {
     "name": "stdout",
     "output_type": "stream",
     "text": [
      "35\n",
      "-23\n"
     ]
    }
   ],
   "source": [
    "# Boolean literal\n",
    "val1=True+34\n",
    "val2=False-23\n",
    "\n",
    "print(val1)\n",
    "print(val2)\n",
    "\n",
    "# python itself consider True = 1 and False = 0 by default"
   ]
  },
  {
   "cell_type": "code",
   "execution_count": 39,
   "id": "4aaf5f17-fd7e-4b5b-885e-862dca91cfb1",
   "metadata": {},
   "outputs": [
    {
     "name": "stdout",
     "output_type": "stream",
     "text": [
      "None\n"
     ]
    }
   ],
   "source": [
    "# Special literal --> NONE -->None is a special literal in Python that represents the absence of a value or a null value.\n",
    "\n",
    "a=None\n",
    "print(a)"
   ]
  },
  {
   "cell_type": "markdown",
   "id": "50b24b61-d8d0-4cd8-b19b-4105745f4ba9",
   "metadata": {
    "jp-MarkdownHeadingCollapsed": true
   },
   "source": [
    "### Operators in python\n",
    "##### Arithmetic operators --> {a + b } {a - b} {\ta * b} {a // b} {a / b} {a % b} {a**b}\n",
    "##### Comparision/relational operators -->  {==,!=,>=,<=,<,>}\t\n",
    "##### Logical operators --> {and , or , not}\n",
    "##### Assignment operators --> =, +=, -=, *=,/=, **=, //=\n",
    "##### Bitwise operators --> &(Bitwirse and), |(bitwise OR), ^(bitwise XOR), ~(bitwise not), <<(bitwise left shift), >>(bitwise right shift)\n",
    "##### Identity operators --> is, is not\n",
    "##### Membership operattors --> in, not in"
   ]
  },
  {
   "cell_type": "code",
   "execution_count": 40,
   "id": "6996f33d-78d8-4789-bb30-5f6cc3cca4ba",
   "metadata": {},
   "outputs": [],
   "source": [
    "x=10\n",
    "y=3"
   ]
  },
  {
   "cell_type": "code",
   "execution_count": 50,
   "id": "4f571b17-5046-464c-a5b1-3ca6b771b665",
   "metadata": {},
   "outputs": [
    {
     "name": "stdout",
     "output_type": "stream",
     "text": [
      "13\n",
      "7\n",
      "3.3333333333333335\n",
      "3\n",
      "1000\n",
      "30\n"
     ]
    }
   ],
   "source": [
    "# Arithmetic operators\n",
    "\n",
    "print(x+y)\n",
    "print(x-y)\n",
    "print(x/y)\n",
    "print(x//y) # It prints the value without decimal part or float part\n",
    "print(x**y)\n",
    "print(x*y)"
   ]
  },
  {
   "cell_type": "code",
   "execution_count": 51,
   "id": "3c167e90-7938-4c0c-b1b5-db979635ca9b",
   "metadata": {},
   "outputs": [
    {
     "name": "stdout",
     "output_type": "stream",
     "text": [
      "True\n",
      "False\n",
      "True\n",
      "False\n",
      "True\n"
     ]
    }
   ],
   "source": [
    "# Comparision or relational operators\n",
    "\n",
    "print(x>y)\n",
    "print(x<y)\n",
    "print(x>=y)\n",
    "print(x<=y)\n",
    "print(x!=y)"
   ]
  },
  {
   "cell_type": "code",
   "execution_count": 52,
   "id": "23cfd476-73c2-4b7d-b3e6-a4076c80bcf7",
   "metadata": {},
   "outputs": [
    {
     "name": "stdout",
     "output_type": "stream",
     "text": [
      "True\n",
      "False\n",
      "True\n",
      "False\n"
     ]
    }
   ],
   "source": [
    "# Logical operators \n",
    "\n",
    "x=True\n",
    "y=False\n",
    "\n",
    "print(x or y)\n",
    "print(x and y)\n",
    "print( not y)\n",
    "print(not x )"
   ]
  },
  {
   "cell_type": "code",
   "execution_count": 60,
   "id": "07964cf6-977c-4bf0-854a-7d3c3714c8fd",
   "metadata": {},
   "outputs": [
    {
     "name": "stdout",
     "output_type": "stream",
     "text": [
      "2\n",
      "3\n",
      "-4\n",
      "1\n",
      "0\n",
      "16\n"
     ]
    }
   ],
   "source": [
    "# Bitwise operators works on binary values \n",
    "\n",
    "x=2   #010\n",
    "y=3   #110\n",
    "\n",
    "print(x & y)\n",
    "print(x | y)\n",
    "print(~ y)\n",
    "print(x ^ y)\n",
    "print(x >> y)\n",
    "print(x << y)"
   ]
  },
  {
   "cell_type": "code",
   "execution_count": 70,
   "id": "3a868ca4-d73a-4ebb-a00f-51f7ed9ba951",
   "metadata": {},
   "outputs": [
    {
     "name": "stdout",
     "output_type": "stream",
     "text": [
      "True\n",
      "False\n"
     ]
    }
   ],
   "source": [
    "# Identity operators check whether two values are stored at the same location or not\n",
    "a=2\n",
    "b=2\n",
    "print(a is b)\n",
    "print(a is not b)"
   ]
  },
  {
   "cell_type": "code",
   "execution_count": 66,
   "id": "23984918-3220-4bf5-8d0f-adae4b387d7f",
   "metadata": {},
   "outputs": [
    {
     "name": "stdout",
     "output_type": "stream",
     "text": [
      "False\n"
     ]
    }
   ],
   "source": [
    "a=([1,3,5])\n",
    "b=([1,3,5])\n",
    "print(a is b)\n",
    "# Here we can understand that if two values seems to be same it does not mean they are located at same place or memory location"
   ]
  },
  {
   "cell_type": "code",
   "execution_count": 69,
   "id": "1d1e9234-e821-4079-b794-c9702459aa61",
   "metadata": {},
   "outputs": [
    {
     "name": "stdout",
     "output_type": "stream",
     "text": [
      "True\n",
      "False\n"
     ]
    }
   ],
   "source": [
    "# Membership operator tells whether particular member is the part of string or any bigger value or not\n",
    "x='Mona'\n",
    "print( 'M' in x)\n",
    "print( 'M' not in x)"
   ]
  },
  {
   "cell_type": "markdown",
   "id": "6e242e4f-296d-4a4c-ac4d-517b44c91972",
   "metadata": {
    "jp-MarkdownHeadingCollapsed": true
   },
   "source": [
    "### Decision Control statements or if else statements"
   ]
  },
  {
   "cell_type": "code",
   "execution_count": 12,
   "id": "c82426b7-13e6-4e59-a20d-30e1cac7b0e6",
   "metadata": {},
   "outputs": [
    {
     "name": "stdin",
     "output_type": "stream",
     "text": [
      "Enter your email vipulbaliyansfs@gmail.com\n",
      "Enter your passward 1234\n"
     ]
    },
    {
     "name": "stdout",
     "output_type": "stream",
     "text": [
      "Welcome Vipul\n"
     ]
    }
   ],
   "source": [
    "# correct email - vipulbaliyansfs@gmail.com\n",
    "# correct passward - 1234\n",
    "\n",
    "email = input(\"Enter your email\")\n",
    "passward = input(\"Enter your passward\")\n",
    "\n",
    "if email == \"vipulbaliyansfs@gmail.com\" and passward == \"1234\" :\n",
    "    print(\"Welcome Vipul\")\n",
    "elif email == \"vipulblaiyansfs@gmail.com\" and passward != \"1234\":\n",
    "    print(\"Passward is wrong enter again\")\n",
    "    passward = input(\"Please enter the correct passward\")\n",
    "    if passward == \"1234\":\n",
    "        print(\"Finally the entered passward is correct\")\n",
    "    else:\n",
    "        print(\"Your passward is still incorrect\")\n",
    "    \n",
    "else:\n",
    "   print(\"Incorrect cerredentials\")"
   ]
  },
  {
   "cell_type": "markdown",
   "id": "50fb33c5-614d-4329-be26-f6d7a864e488",
   "metadata": {},
   "source": [
    "### Indentation in python --> Indentation in Python is crucial because it defines the structure of the code, especially for blocks such as loops, conditional statements, functions, and classes. Unlike other programming languages that use braces {} to define blocks of code, Python uses indentation (usually four spaces or a tab)."
   ]
  },
  {
   "cell_type": "markdown",
   "id": "afbd07d7-d0a3-4ce9-8545-27adfa90ade0",
   "metadata": {
    "jp-MarkdownHeadingCollapsed": true
   },
   "source": [
    "### Loops in python --> In Python, loops are used to iterate over a sequence (like a list, tuple, string, or range) or repeat a block of code while a condition is met.\n",
    "##### There are two types of loops in python - for loop and while loop"
   ]
  },
  {
   "cell_type": "code",
   "execution_count": 14,
   "id": "be6ac00f-c276-4793-b851-732108852e16",
   "metadata": {},
   "outputs": [
    {
     "name": "stdin",
     "output_type": "stream",
     "text": [
      "Number bata bhai 11\n"
     ]
    },
    {
     "name": "stdout",
     "output_type": "stream",
     "text": [
      "11\n",
      "22\n",
      "33\n",
      "44\n",
      "55\n",
      "66\n",
      "77\n",
      "88\n",
      "99\n",
      "110\n"
     ]
    }
   ],
   "source": [
    "number = int(input(\"Number bata bhai\"))\n",
    "i = 1\n",
    "while i<11:\n",
    "    print(number*i)\n",
    "    i+=1"
   ]
  },
  {
   "cell_type": "markdown",
   "id": "6c5bea99-08f9-4a43-a2cf-6f390e5ad92b",
   "metadata": {
    "jp-MarkdownHeadingCollapsed": true
   },
   "source": [
    "### Guessing Game"
   ]
  },
  {
   "cell_type": "code",
   "execution_count": 15,
   "id": "1c1b36b2-1ece-49c6-8636-16d3f6b69cfd",
   "metadata": {},
   "outputs": [],
   "source": [
    "import random"
   ]
  },
  {
   "cell_type": "code",
   "execution_count": 17,
   "id": "1c809c26-7252-481a-85e7-430f4e2eb73b",
   "metadata": {},
   "outputs": [
    {
     "data": {
      "text/plain": [
       "66"
      ]
     },
     "execution_count": 17,
     "metadata": {},
     "output_type": "execute_result"
    }
   ],
   "source": [
    "random.randint(1,100)"
   ]
  },
  {
   "cell_type": "code",
   "execution_count": 23,
   "id": "edd250ca-2f0d-49fc-9065-45de69c7d0dd",
   "metadata": {},
   "outputs": [
    {
     "name": "stdin",
     "output_type": "stream",
     "text": [
      "Chal beta guess krr 56\n"
     ]
    },
    {
     "name": "stdout",
     "output_type": "stream",
     "text": [
      "Guess Lower\n"
     ]
    },
    {
     "name": "stdin",
     "output_type": "stream",
     "text": [
      "Chal beta guess krr 30\n"
     ]
    },
    {
     "name": "stdout",
     "output_type": "stream",
     "text": [
      "Guess higher\n"
     ]
    },
    {
     "name": "stdin",
     "output_type": "stream",
     "text": [
      "Chal beta guess krr 35\n"
     ]
    },
    {
     "name": "stdout",
     "output_type": "stream",
     "text": [
      "Guess higher\n"
     ]
    },
    {
     "name": "stdin",
     "output_type": "stream",
     "text": [
      "Chal beta guess krr 37\n"
     ]
    },
    {
     "name": "stdout",
     "output_type": "stream",
     "text": [
      "Guess higher\n"
     ]
    },
    {
     "name": "stdin",
     "output_type": "stream",
     "text": [
      "Chal beta guess krr 39\n"
     ]
    },
    {
     "name": "stdout",
     "output_type": "stream",
     "text": [
      "Guess higher\n"
     ]
    },
    {
     "name": "stdin",
     "output_type": "stream",
     "text": [
      "Chal beta guess krr 45\n"
     ]
    },
    {
     "name": "stdout",
     "output_type": "stream",
     "text": [
      "Guess Lower\n"
     ]
    },
    {
     "name": "stdin",
     "output_type": "stream",
     "text": [
      "Chal beta guess krr 44\n"
     ]
    },
    {
     "name": "stdout",
     "output_type": "stream",
     "text": [
      "Guess Lower\n"
     ]
    },
    {
     "name": "stdin",
     "output_type": "stream",
     "text": [
      "Chal beta guess krr 42\n"
     ]
    },
    {
     "name": "stdout",
     "output_type": "stream",
     "text": [
      "Guess higher\n"
     ]
    },
    {
     "name": "stdin",
     "output_type": "stream",
     "text": [
      "Chal beta guess krr 43\n"
     ]
    },
    {
     "name": "stdout",
     "output_type": "stream",
     "text": [
      "Sahi jawab\n",
      "You took 9 attempt\n"
     ]
    }
   ],
   "source": [
    "jackpot = random.randint(1,100)\n",
    "guess = int(input(\"Chal beta guess krr\"))\n",
    "counter =1\n",
    "\n",
    "while jackpot != guess:\n",
    "    if guess < jackpot:\n",
    "        print(\"Guess higher\")\n",
    "    else:\n",
    "        print(\"Guess Lower\")\n",
    "    guess = int(input(\"Chal beta guess krr\"))  \n",
    "    counter+=1\n",
    "print(\"Sahi jawab\")\n",
    "print(\"You took\",counter,\"attempt\")"
   ]
  },
  {
   "cell_type": "markdown",
   "id": "d02e9dd2-5955-4667-b7aa-e0362a32d019",
   "metadata": {
    "jp-MarkdownHeadingCollapsed": true
   },
   "source": [
    "### For loops"
   ]
  },
  {
   "cell_type": "code",
   "execution_count": 28,
   "id": "ed7a086c-a19d-448b-8241-16a33aa2e784",
   "metadata": {},
   "outputs": [
    {
     "data": {
      "text/plain": [
       "[0, 1, 2, 3, 4]"
      ]
     },
     "execution_count": 28,
     "metadata": {},
     "output_type": "execute_result"
    }
   ],
   "source": [
    "# range function\n",
    "list(range(5)) # Start number is automatically assumed to be zero"
   ]
  },
  {
   "cell_type": "code",
   "execution_count": 27,
   "id": "cff38bbf-b71c-498b-9ae1-1c8f86808a51",
   "metadata": {},
   "outputs": [
    {
     "data": {
      "text/plain": [
       "[5, 6, 7, 8, 9]"
      ]
     },
     "execution_count": 27,
     "metadata": {},
     "output_type": "execute_result"
    }
   ],
   "source": [
    "list(range(5,10))\n",
    "\n",
    "# last number is excluded in the range function"
   ]
  },
  {
   "cell_type": "code",
   "execution_count": 31,
   "id": "d50079ae-6689-4a02-a856-7d04b9f509fa",
   "metadata": {},
   "outputs": [
    {
     "data": {
      "text/plain": [
       "(5, 7, 9, 11, 13)"
      ]
     },
     "execution_count": 31,
     "metadata": {},
     "output_type": "execute_result"
    }
   ],
   "source": [
    "# use of step\n",
    "tuple(range(5,15,2)) # here 2 is used as step which gives the gap of 2 between the numbers"
   ]
  },
  {
   "cell_type": "code",
   "execution_count": 34,
   "id": "a56fcf1b-0d7a-4239-9c78-13b634725389",
   "metadata": {},
   "outputs": [
    {
     "data": {
      "text/plain": [
       "[10, 9, 8, 7, 6, 5, 4, 3, 2, 1]"
      ]
     },
     "execution_count": 34,
     "metadata": {},
     "output_type": "execute_result"
    }
   ],
   "source": [
    "list(range(10,0,-1)) # we can also use negative number for backward counting"
   ]
  },
  {
   "cell_type": "code",
   "execution_count": 35,
   "id": "58d5c175-45b0-4528-92fd-f7e0bab56a25",
   "metadata": {},
   "outputs": [],
   "source": [
    "                          # Sequence\n",
    "#In Python, a sequence is an ordered collection of elements, where each element has a specific position (or index) in the sequence.\n",
    "#Sequences allow access to elements by their index and support various operations like slicing, concatenation, and repetition.\n",
    "#Common types of sequences in Python include lists, tuples, strings, and range objects."
   ]
  },
  {
   "cell_type": "code",
   "execution_count": 37,
   "id": "13787bb6-46fd-409c-81af-55d5a32ace60",
   "metadata": {},
   "outputs": [
    {
     "name": "stdout",
     "output_type": "stream",
     "text": [
      "1\n",
      "2\n",
      "3\n",
      "4\n",
      "5\n",
      "6\n",
      "7\n",
      "8\n",
      "9\n",
      "10\n"
     ]
    }
   ],
   "source": [
    "for i in range(1,11):\n",
    "    print(i)\n"
   ]
  },
  {
   "cell_type": "code",
   "execution_count": 38,
   "id": "ebe237da-d968-487c-b0d6-95b7c3a84274",
   "metadata": {},
   "outputs": [
    {
     "name": "stdout",
     "output_type": "stream",
     "text": [
      "k\n",
      "o\n",
      "l\n",
      "k\n",
      "a\n",
      "t\n",
      "a\n"
     ]
    }
   ],
   "source": [
    "for i in \"kolkata\":\n",
    "    print(i)"
   ]
  },
  {
   "cell_type": "code",
   "execution_count": 39,
   "id": "275a30f4-b9a2-449d-ac4a-275669a8fe2a",
   "metadata": {},
   "outputs": [],
   "source": [
    "# If we know how many times out loop will work we should use for loop and if we don't know how many times our loop will work use while loop"
   ]
  },
  {
   "cell_type": "code",
   "execution_count": 52,
   "id": "6cf3702d-6068-4bb6-8bfe-3664262de496",
   "metadata": {},
   "outputs": [
    {
     "name": "stdin",
     "output_type": "stream",
     "text": [
      "Enter the number 6\n"
     ]
    },
    {
     "name": "stdout",
     "output_type": "stream",
     "text": [
      "* \n",
      "* * \n",
      "* * * \n",
      "* * * * \n",
      "* * * * * \n",
      "* * * * * * \n"
     ]
    }
   ],
   "source": [
    "# Nested loops \n",
    "bb = int(input(\"Enter the number\"))\n",
    "\n",
    "for i in range(1 , bb+1):\n",
    "    for j in range(0,i):\n",
    "        print(\"*\",end=\" \")\n",
    "    print(\"\")"
   ]
  },
  {
   "cell_type": "markdown",
   "id": "d3aca91b-fe33-4aa6-b650-1bad9d3d53c0",
   "metadata": {
    "jp-MarkdownHeadingCollapsed": true
   },
   "source": [
    "### Break, continue, pass"
   ]
  },
  {
   "cell_type": "code",
   "execution_count": 54,
   "id": "85c7cff8-7ce7-417c-80e9-5ac66c9c1340",
   "metadata": {},
   "outputs": [
    {
     "name": "stdout",
     "output_type": "stream",
     "text": [
      "1\n",
      "2\n",
      "3\n",
      "4\n"
     ]
    }
   ],
   "source": [
    "# Break --> It stops the loop after the particular condition is met\n",
    "for i in range(1,11):\n",
    "    if i == 5:\n",
    "        break\n",
    "    print(i)"
   ]
  },
  {
   "cell_type": "code",
   "execution_count": 59,
   "id": "b31e3f6c-0adc-47c3-ae3b-88ee3b54ecb6",
   "metadata": {},
   "outputs": [
    {
     "name": "stdout",
     "output_type": "stream",
     "text": [
      "10\n",
      "11\n",
      "12\n",
      "13\n",
      "14\n",
      "15\n",
      "17\n",
      "18\n",
      "19\n",
      "20\n"
     ]
    }
   ],
   "source": [
    "# Continue --> It skips the particular iteration on which we have applied it\n",
    "for i in range(10,21):\n",
    "    if i== 16:\n",
    "        continue\n",
    "    print(i)"
   ]
  },
  {
   "cell_type": "code",
   "execution_count": 63,
   "id": "60257bd5-acd0-470b-8cde-5df09fa8e9d5",
   "metadata": {},
   "outputs": [],
   "source": [
    "# pass --> If we don't want to write any code to any loop or any such condition we use pass to run the rest of the program smoothly\n",
    "for i in range (1,23,3):\n",
    "    pass"
   ]
  },
  {
   "cell_type": "markdown",
   "id": "8868519d-bfa7-48b2-97b0-ada9ae0af2a5",
   "metadata": {
    "jp-MarkdownHeadingCollapsed": true
   },
   "source": [
    "### Funtions and modules in python\n",
    "##### In Python, functions are reusable blocks of code designed to perform specific tasks. They allow you to organize your code, avoid repetition, and improve clarity by breaking down complex problems into smaller, manageable parts. Functions can accept input (arguments), perform operations, and return output (results)."
   ]
  },
  {
   "cell_type": "code",
   "execution_count": 80,
   "id": "39d11359-55a2-4e58-8cda-d8b4b03d7298",
   "metadata": {},
   "outputs": [],
   "source": [
    "# Built in funtions in python"
   ]
  },
  {
   "cell_type": "code",
   "execution_count": 79,
   "id": "acbfd054-f254-452b-a2e0-8de4112ec974",
   "metadata": {},
   "outputs": [
    {
     "name": "stdout",
     "output_type": "stream",
     "text": [
      "Hey, this function can print anything you pass in double or single quotes\n"
     ]
    }
   ],
   "source": [
    "# print()\n",
    "\n",
    "print(\"Hey, this function can print anything you pass in double or single quotes\")"
   ]
  },
  {
   "cell_type": "code",
   "execution_count": 71,
   "id": "8a9659db-f783-4b49-9af5-e3c1e295ba12",
   "metadata": {},
   "outputs": [
    {
     "name": "stdout",
     "output_type": "stream",
     "text": [
      "<class 'int'>\n",
      "<class 'str'>\n",
      "<class 'bool'>\n"
     ]
    }
   ],
   "source": [
    "# type()\n",
    "\n",
    "a=23\n",
    "b='12'\n",
    "c=True\n",
    "print(type(a))\n",
    "print(type(b))\n",
    "print(type(c))"
   ]
  },
  {
   "cell_type": "code",
   "execution_count": 76,
   "id": "af08be7a-2a76-4fe0-9479-4d19d5c7fbf4",
   "metadata": {},
   "outputs": [
    {
     "name": "stdout",
     "output_type": "stream",
     "text": [
      "3\n",
      "23\n",
      "3.5\n"
     ]
    }
   ],
   "source": [
    "# int etc.\n",
    "\n",
    "a=3.5\n",
    "b='23'\n",
    "print(int(a))\n",
    "print(int(b))\n",
    "print(str(a))"
   ]
  },
  {
   "cell_type": "code",
   "execution_count": 78,
   "id": "49243a98-7bbd-4a8f-b24f-fde8c9ca881a",
   "metadata": {},
   "outputs": [
    {
     "data": {
      "text/plain": [
       "454"
      ]
     },
     "execution_count": 78,
     "metadata": {},
     "output_type": "execute_result"
    }
   ],
   "source": [
    "# abs --> prints the absoulute value\n",
    "\n",
    "a=(-454)\n",
    "abs(a)"
   ]
  },
  {
   "cell_type": "code",
   "execution_count": 82,
   "id": "5cabe199-d28a-4335-8bb4-b59c941b8bc7",
   "metadata": {},
   "outputs": [
    {
     "data": {
      "text/plain": [
       "8"
      ]
     },
     "execution_count": 82,
     "metadata": {},
     "output_type": "execute_result"
    }
   ],
   "source": [
    "# power\n",
    "\n",
    "pow(2,3)"
   ]
  },
  {
   "cell_type": "code",
   "execution_count": 86,
   "id": "d0341763-985c-4f49-b4cb-354296f2372d",
   "metadata": {},
   "outputs": [
    {
     "name": "stdout",
     "output_type": "stream",
     "text": [
      "2\n",
      "4342\n",
      "u\n",
      "a\n"
     ]
    }
   ],
   "source": [
    "# min/max --> can work on both string as well as integer\n",
    "\n",
    "print(min([23,345,45,2,23,9]))\n",
    "print(max((23,53,5,54,54,5,45,4,545,4342)))\n",
    "print(max(\"mumbai\"))\n",
    "print(min(\"dhokla\"))"
   ]
  },
  {
   "cell_type": "code",
   "execution_count": 88,
   "id": "521a310e-6cd9-4e63-b5d8-75640fb7c68c",
   "metadata": {},
   "outputs": [
    {
     "data": {
      "text/plain": [
       "3.14"
      ]
     },
     "execution_count": 88,
     "metadata": {},
     "output_type": "execute_result"
    }
   ],
   "source": [
    "# round   --> round off the decimal part\n",
    "\n",
    "a=22/7\n",
    "round(a,2)"
   ]
  },
  {
   "cell_type": "code",
   "execution_count": 89,
   "id": "b24a23d8-84d1-469e-9dd0-76236fb517ea",
   "metadata": {},
   "outputs": [
    {
     "data": {
      "text/plain": [
       "(2, 1)"
      ]
     },
     "execution_count": 89,
     "metadata": {},
     "output_type": "execute_result"
    }
   ],
   "source": [
    "# divmod --> returns the remainder(%) as well as value without decimal place after division(//)\n",
    "\n",
    "divmod(5,2)"
   ]
  },
  {
   "cell_type": "code",
   "execution_count": 90,
   "id": "70e912d9-8a59-4d5c-84ff-3fe16571e382",
   "metadata": {},
   "outputs": [
    {
     "name": "stdout",
     "output_type": "stream",
     "text": [
      "0b100110000000\n",
      "0o55577\n",
      "0xe8\n"
     ]
    }
   ],
   "source": [
    "# bin/oct/hex\n",
    "\n",
    "print(bin(2432))\n",
    "print(oct(23423))\n",
    "print(hex(232))"
   ]
  },
  {
   "cell_type": "code",
   "execution_count": 93,
   "id": "8728aa49-d7b3-47c7-85e6-026087ecbcb1",
   "metadata": {},
   "outputs": [
    {
     "data": {
      "text/plain": [
       "2014863651504"
      ]
     },
     "execution_count": 93,
     "metadata": {},
     "output_type": "execute_result"
    }
   ],
   "source": [
    "# id  --> It tells the id of location at which this value is stored in memory\n",
    "\n",
    "a=2334\n",
    "id(a)"
   ]
  },
  {
   "cell_type": "code",
   "execution_count": 95,
   "id": "89b3ca05-f7e5-4906-98dc-b32e49471b8b",
   "metadata": {},
   "outputs": [
    {
     "name": "stdout",
     "output_type": "stream",
     "text": [
      "66\n",
      "103\n"
     ]
    }
   ],
   "source": [
    "# ord --> It gives the ASCII value of any string\n",
    "\n",
    "print(ord('B'))\n",
    "print(ord('g'))"
   ]
  },
  {
   "cell_type": "code",
   "execution_count": 97,
   "id": "9b52cf93-4155-4f92-b90e-2a5ae7b3ce62",
   "metadata": {},
   "outputs": [
    {
     "name": "stdout",
     "output_type": "stream",
     "text": [
      "10\n"
     ]
    }
   ],
   "source": [
    "# len()  --> gives the length of any tuple, list ,variable, string\n",
    "\n",
    "print(len([23,234,34,34,34,233,4,234,234234,54]))"
   ]
  },
  {
   "cell_type": "code",
   "execution_count": 98,
   "id": "37ba9d43-2fad-420f-8851-8dfb32bfe133",
   "metadata": {},
   "outputs": [
    {
     "name": "stdout",
     "output_type": "stream",
     "text": [
      "38121\n"
     ]
    }
   ],
   "source": [
    "# sum()   --> sum() function returns  the sum of all the values presnt in any list, tuple, dicrionary etc....\n",
    "\n",
    "print(sum([35423,34,34,24,234,23,4,2334,2,9]))"
   ]
  },
  {
   "cell_type": "code",
   "execution_count": 99,
   "id": "7c2ccc9c-8aee-43c2-825d-f6ea1ebab001",
   "metadata": {},
   "outputs": [
    {
     "name": "stdout",
     "output_type": "stream",
     "text": [
      "Help on method raw_input in module ipykernel.kernelbase:\n",
      "\n",
      "input = raw_input(prompt='') method of ipykernel.ipkernel.IPythonKernel instance\n",
      "    Forward raw_input to frontends\n",
      "\n",
      "    Raises\n",
      "    ------\n",
      "    StdinNotImplementedError if active frontend doesn't support stdin.\n",
      "\n"
     ]
    }
   ],
   "source": [
    "# help()  --> help funtion helps us to read about the properties of any other function presnt in python \n",
    "\n",
    "help('input')"
   ]
  },
  {
   "cell_type": "markdown",
   "id": "afa2ce6b-5815-4e3b-94d0-9b81502a7c16",
   "metadata": {
    "jp-MarkdownHeadingCollapsed": true
   },
   "source": [
    "\n",
    "\n",
    "### Build in modules in python --> math, random, os, time\n",
    "\n",
    "###### module--> A file containing set of functions you want to include in your program/application\n"
   ]
  },
  {
   "cell_type": "code",
   "execution_count": null,
   "id": "c8669671-3a84-4f48-9688-6a43279a062b",
   "metadata": {},
   "outputs": [
    {
     "name": "stdout",
     "output_type": "stream",
     "text": [
      "\n",
      "Please wait a moment while I gather a list of all available modules...\n",
      "\n"
     ]
    }
   ],
   "source": [
    "help('modules')"
   ]
  },
  {
   "cell_type": "code",
   "execution_count": 1,
   "id": "583ec583-434c-4091-8592-0e5ed5ad89e0",
   "metadata": {},
   "outputs": [],
   "source": [
    "import math"
   ]
  },
  {
   "cell_type": "code",
   "execution_count": 2,
   "id": "88b4f589-6667-4821-a5ee-49b5fbac5d6b",
   "metadata": {},
   "outputs": [
    {
     "data": {
      "text/plain": [
       "3.141592653589793"
      ]
     },
     "execution_count": 2,
     "metadata": {},
     "output_type": "execute_result"
    }
   ],
   "source": [
    "math.pi"
   ]
  },
  {
   "cell_type": "code",
   "execution_count": 3,
   "id": "53131781-6c9b-4738-b013-c10f90e97917",
   "metadata": {},
   "outputs": [
    {
     "data": {
      "text/plain": [
       "2.718281828459045"
      ]
     },
     "execution_count": 3,
     "metadata": {},
     "output_type": "execute_result"
    }
   ],
   "source": [
    "math.e"
   ]
  },
  {
   "cell_type": "code",
   "execution_count": 4,
   "id": "109e2d95-1ea1-4978-ac5c-1c28323615da",
   "metadata": {},
   "outputs": [
    {
     "data": {
      "text/plain": [
       "120"
      ]
     },
     "execution_count": 4,
     "metadata": {},
     "output_type": "execute_result"
    }
   ],
   "source": [
    "math.factorial(5)"
   ]
  },
  {
   "cell_type": "code",
   "execution_count": 5,
   "id": "3d219329-6ffc-4051-b16b-178b8b5394e1",
   "metadata": {},
   "outputs": [
    {
     "data": {
      "text/plain": [
       "6"
      ]
     },
     "execution_count": 5,
     "metadata": {},
     "output_type": "execute_result"
    }
   ],
   "source": [
    "math.ceil(5.5)"
   ]
  },
  {
   "cell_type": "code",
   "execution_count": 6,
   "id": "2c72aa6a-30d9-4db2-b459-2f0e057c29ab",
   "metadata": {},
   "outputs": [
    {
     "data": {
      "text/plain": [
       "5"
      ]
     },
     "execution_count": 6,
     "metadata": {},
     "output_type": "execute_result"
    }
   ],
   "source": [
    "math.floor(5.9)"
   ]
  },
  {
   "cell_type": "code",
   "execution_count": 7,
   "id": "62dd1954-5c7e-4bef-bae7-6717e96f2db1",
   "metadata": {},
   "outputs": [
    {
     "data": {
      "text/plain": [
       "10.0"
      ]
     },
     "execution_count": 7,
     "metadata": {},
     "output_type": "execute_result"
    }
   ],
   "source": [
    "math.sqrt(100)"
   ]
  },
  {
   "cell_type": "code",
   "execution_count": 23,
   "id": "e26175f4-eaf6-4ed7-95e9-cb4152b940e5",
   "metadata": {},
   "outputs": [],
   "source": [
    "\n",
    "# Random module\n"
   ]
  },
  {
   "cell_type": "code",
   "execution_count": 8,
   "id": "2d0db5b5-b186-4090-b65c-07b7a02c291d",
   "metadata": {},
   "outputs": [],
   "source": [
    "import random"
   ]
  },
  {
   "cell_type": "code",
   "execution_count": 9,
   "id": "fb0ea5d0-e59b-430e-92b7-ec02a997954b",
   "metadata": {},
   "outputs": [
    {
     "data": {
      "text/plain": [
       "14"
      ]
     },
     "execution_count": 9,
     "metadata": {},
     "output_type": "execute_result"
    }
   ],
   "source": [
    "random.randint(1,23)"
   ]
  },
  {
   "cell_type": "code",
   "execution_count": 13,
   "id": "ddc16402-942e-4a16-b73b-1bdef8a7598b",
   "metadata": {},
   "outputs": [
    {
     "data": {
      "text/plain": [
       "[3, 23, 23, 2, 3, 23, 2, 23, 23, 24, 2, 4]"
      ]
     },
     "execution_count": 13,
     "metadata": {},
     "output_type": "execute_result"
    }
   ],
   "source": [
    "a=[23,23,4,23,23,2,3,23,2,3,24,2]\n",
    "random.shuffle(a)           # It shuffles the list,tuple in different way every time we run it\n",
    "a"
   ]
  },
  {
   "cell_type": "code",
   "execution_count": 25,
   "id": "69c3c668-bc64-4c79-90e7-19f8b7c6e75d",
   "metadata": {},
   "outputs": [],
   "source": [
    "\n",
    "# time module\n"
   ]
  },
  {
   "cell_type": "code",
   "execution_count": 14,
   "id": "c99ccc64-4537-4092-a2e7-1f425292d10f",
   "metadata": {},
   "outputs": [],
   "source": [
    "import time"
   ]
  },
  {
   "cell_type": "code",
   "execution_count": 16,
   "id": "185724ba-8c47-4de6-b694-d2f59530657e",
   "metadata": {},
   "outputs": [
    {
     "data": {
      "text/plain": [
       "1726286174.480633"
      ]
     },
     "execution_count": 16,
     "metadata": {},
     "output_type": "execute_result"
    }
   ],
   "source": [
    "# time.time() is a function from the time module that returns the current time in seconds since the epoch (which is January 1, 1970, 00:00:00 UTC). \n",
    "\n",
    "time.time()  "
   ]
  },
  {
   "cell_type": "code",
   "execution_count": 17,
   "id": "ad08f4e3-54ea-4077-b0db-83121462fda6",
   "metadata": {},
   "outputs": [
    {
     "data": {
      "text/plain": [
       "'Sat Sep 14 09:26:46 2024'"
      ]
     },
     "execution_count": 17,
     "metadata": {},
     "output_type": "execute_result"
    }
   ],
   "source": [
    "# current time\n",
    "\n",
    "time.ctime()"
   ]
  },
  {
   "cell_type": "code",
   "execution_count": 20,
   "id": "23e7ba78-9d42-46eb-9234-19bdeced6826",
   "metadata": {},
   "outputs": [
    {
     "name": "stdout",
     "output_type": "stream",
     "text": [
      "hello\n",
      "world\n"
     ]
    }
   ],
   "source": [
    "print(\"hello\")\n",
    "time.sleep(2)  # takes 2 second to print the another result\n",
    "print('world')"
   ]
  },
  {
   "cell_type": "code",
   "execution_count": 26,
   "id": "7f23dde2-a1db-48c9-8195-add2161371e2",
   "metadata": {},
   "outputs": [],
   "source": [
    "\n",
    "# os moduke\n"
   ]
  },
  {
   "cell_type": "code",
   "execution_count": 21,
   "id": "91a03154-acea-48ba-8ad7-159de2760927",
   "metadata": {},
   "outputs": [],
   "source": [
    "import os"
   ]
  },
  {
   "cell_type": "code",
   "execution_count": 28,
   "id": "1661d9e7-4647-4cac-85db-815643252f6f",
   "metadata": {},
   "outputs": [
    {
     "data": {
      "text/plain": [
       "'C:\\\\Users\\\\vipul\\\\Python from Basics to advanced'"
      ]
     },
     "execution_count": 28,
     "metadata": {},
     "output_type": "execute_result"
    }
   ],
   "source": [
    "os.getcwd()  # get the current working directory"
   ]
  },
  {
   "cell_type": "code",
   "execution_count": 30,
   "id": "0c1a6b25-0fd9-4d73-b213-1faf1b0fc5d1",
   "metadata": {},
   "outputs": [
    {
     "data": {
      "text/plain": [
       "['.ipynb_checkpoints', '5_days_python.ipynb']"
      ]
     },
     "execution_count": 30,
     "metadata": {},
     "output_type": "execute_result"
    }
   ],
   "source": [
    "os.listdir()   # prints all the files presnt in current directory"
   ]
  },
  {
   "cell_type": "markdown",
   "id": "6fb9e1d9-0b96-4593-af48-0eeb427c2fef",
   "metadata": {
    "jp-MarkdownHeadingCollapsed": true
   },
   "source": [
    "### Strings in pyton\n",
    "##### Strings are sequence of characters \n",
    "##### In python specially strings are sequence of Unicode(Initially it was ASCII) characters"
   ]
  },
  {
   "cell_type": "code",
   "execution_count": 2,
   "id": "bc9a5115-2de7-4607-b71c-388fce867373",
   "metadata": {},
   "outputs": [
    {
     "name": "stdout",
     "output_type": "stream",
     "text": [
      "Hello\n"
     ]
    }
   ],
   "source": [
    "c=\"Hello\"\n",
    "print(c)"
   ]
  },
  {
   "cell_type": "code",
   "execution_count": 4,
   "id": "d64293ed-16e8-4c50-8e67-a81ce0c93c16",
   "metadata": {},
   "outputs": [
    {
     "name": "stdout",
     "output_type": "stream",
     "text": [
      "H\n"
     ]
    }
   ],
   "source": [
    "# Positive indexing starts from 1\n",
    "print(c[0])"
   ]
  },
  {
   "cell_type": "code",
   "execution_count": 5,
   "id": "b6effd2f-f9a5-42fa-b258-0aab20a277bd",
   "metadata": {},
   "outputs": [
    {
     "name": "stdout",
     "output_type": "stream",
     "text": [
      "o\n"
     ]
    }
   ],
   "source": [
    "# Negative indexing starts from right and move towards left and last digit in string is -1\n",
    "print(c[-1])"
   ]
  },
  {
   "cell_type": "code",
   "execution_count": 6,
   "id": "769fa910-03aa-4b82-a4f6-62f66ffd5600",
   "metadata": {},
   "outputs": [
    {
     "name": "stdout",
     "output_type": "stream",
     "text": [
      "Hello World\n"
     ]
    }
   ],
   "source": [
    "# Slicing \n",
    "a = \"Hello World\"\n",
    "print(a)"
   ]
  },
  {
   "cell_type": "code",
   "execution_count": 7,
   "id": "88c5024f-adb0-41a9-bbe8-8ef60269ca5a",
   "metadata": {},
   "outputs": [
    {
     "name": "stdout",
     "output_type": "stream",
     "text": [
      "Hello\n"
     ]
    }
   ],
   "source": [
    "print(a[0:5])"
   ]
  },
  {
   "cell_type": "code",
   "execution_count": 8,
   "id": "b233c97f-82bd-4c2a-bab6-e14711f7a06b",
   "metadata": {},
   "outputs": [
    {
     "name": "stdout",
     "output_type": "stream",
     "text": [
      " World\n"
     ]
    }
   ],
   "source": [
    "print(a[5:11])"
   ]
  },
  {
   "cell_type": "code",
   "execution_count": 9,
   "id": "015fa4fa-a2a6-4731-b4ec-59e6e6b94535",
   "metadata": {},
   "outputs": [
    {
     "name": "stdout",
     "output_type": "stream",
     "text": [
      "llo World\n"
     ]
    }
   ],
   "source": [
    "print(a[2:])"
   ]
  },
  {
   "cell_type": "code",
   "execution_count": 10,
   "id": "4df3b711-e733-42ea-bc4d-0a40069b3242",
   "metadata": {},
   "outputs": [
    {
     "name": "stdout",
     "output_type": "stream",
     "text": [
      "Hello Worl\n"
     ]
    }
   ],
   "source": [
    "print(a[:10])"
   ]
  },
  {
   "cell_type": "code",
   "execution_count": 11,
   "id": "4197c77c-5d07-4050-89e0-dc2310bcde43",
   "metadata": {},
   "outputs": [
    {
     "name": "stdout",
     "output_type": "stream",
     "text": [
      "HlWl\n"
     ]
    }
   ],
   "source": [
    "print(a[0:11:3])"
   ]
  },
  {
   "cell_type": "code",
   "execution_count": 13,
   "id": "28f3090e-e443-4e35-8e73-7c17c947d6d2",
   "metadata": {},
   "outputs": [
    {
     "name": "stdout",
     "output_type": "stream",
     "text": [
      "dlroW olleH\n"
     ]
    }
   ],
   "source": [
    "# It reverses the string \n",
    "print(a[::-1])"
   ]
  },
  {
   "cell_type": "code",
   "execution_count": 14,
   "id": "10c9107b-e90c-4990-86ba-e091adc33933",
   "metadata": {},
   "outputs": [],
   "source": [
    "# Strings are immutable data type\n",
    "# In strings we cannot add new character , we can't delete specified index charcter , we can only delete whole string using del"
   ]
  },
  {
   "cell_type": "code",
   "execution_count": 17,
   "id": "07dee651-3a06-4643-b20e-67ba9736a90b",
   "metadata": {},
   "outputs": [
    {
     "data": {
      "text/plain": [
       "'Hello World'"
      ]
     },
     "execution_count": 17,
     "metadata": {},
     "output_type": "execute_result"
    }
   ],
   "source": [
    "# operations in strnigs\n",
    "\n",
    "\"Hello\" + \" \" + \"World\" # Contatenation"
   ]
  },
  {
   "cell_type": "code",
   "execution_count": 18,
   "id": "e785a90f-8275-46c0-a81b-59f72cc6bd5b",
   "metadata": {},
   "outputs": [
    {
     "name": "stdout",
     "output_type": "stream",
     "text": [
      "**********\n"
     ]
    }
   ],
   "source": [
    "print(\"*\"*10)"
   ]
  },
  {
   "cell_type": "code",
   "execution_count": 21,
   "id": "b753974c-dad1-44f1-b333-a8d4fd9a9b35",
   "metadata": {},
   "outputs": [
    {
     "name": "stdout",
     "output_type": "stream",
     "text": [
      "hellohellohellohellohellohellohellohellohellohello\n"
     ]
    }
   ],
   "source": [
    "print(\"hello\"*10)\n",
    "\n",
    "# We can use + and * operator in strings "
   ]
  },
  {
   "cell_type": "code",
   "execution_count": 23,
   "id": "b9eb58fa-7a32-4e27-a7d2-2aa7f90f1104",
   "metadata": {},
   "outputs": [
    {
     "data": {
      "text/plain": [
       "False"
      ]
     },
     "execution_count": 23,
     "metadata": {},
     "output_type": "execute_result"
    }
   ],
   "source": [
    "# Lexiographically --> It means the word which comes first according to dictionary is greater\n",
    "\n",
    "\"Muzaffarnagar\">\"shamli\""
   ]
  },
  {
   "cell_type": "code",
   "execution_count": 25,
   "id": "d0d6e2a7-c6b6-4cd2-9b36-883bb9d87bf6",
   "metadata": {},
   "outputs": [
    {
     "data": {
      "text/plain": [
       "True"
      ]
     },
     "execution_count": 25,
     "metadata": {},
     "output_type": "execute_result"
    }
   ],
   "source": [
    "\"Delhi\" < \"Haryana\""
   ]
  },
  {
   "cell_type": "code",
   "execution_count": 27,
   "id": "06b55e48-593b-4923-988d-dc93afa40be0",
   "metadata": {},
   "outputs": [
    {
     "data": {
      "text/plain": [
       "True"
      ]
     },
     "execution_count": 27,
     "metadata": {},
     "output_type": "execute_result"
    }
   ],
   "source": [
    "\"kol\" > \"Kol\"  # Small letters ocmes first and capital letter comes later"
   ]
  },
  {
   "cell_type": "code",
   "execution_count": 28,
   "id": "36732541-53ec-4cf2-9d45-1d9401fa3a5c",
   "metadata": {},
   "outputs": [],
   "source": [
    "                                             # Using logical operators with string\n",
    "# Any empty sting \" \" in python is by default assumed as False(0)\n",
    "# Any non-empty sting \"dfjkdhfjksh\" in python is by default assumed as True(1)"
   ]
  },
  {
   "cell_type": "code",
   "execution_count": 29,
   "id": "27f0e514-720d-4f7f-8a73-7c57f3877c96",
   "metadata": {},
   "outputs": [
    {
     "data": {
      "text/plain": [
       "''"
      ]
     },
     "execution_count": 29,
     "metadata": {},
     "output_type": "execute_result"
    }
   ],
   "source": [
    "\"\" and \"dfk\"\n",
    "# False(0) and True(1) --> It will return False"
   ]
  },
  {
   "cell_type": "code",
   "execution_count": 30,
   "id": "a30eb693-22f3-4d84-81e1-88925b3154ac",
   "metadata": {},
   "outputs": [
    {
     "data": {
      "text/plain": [
       "'gfsdgsa'"
      ]
     },
     "execution_count": 30,
     "metadata": {},
     "output_type": "execute_result"
    }
   ],
   "source": [
    "\"\" or \"gfsdgsa\""
   ]
  },
  {
   "cell_type": "code",
   "execution_count": 31,
   "id": "e1c138dd-6a1a-4f91-954e-303b3aebecb9",
   "metadata": {},
   "outputs": [
    {
     "data": {
      "text/plain": [
       "True"
      ]
     },
     "execution_count": 31,
     "metadata": {},
     "output_type": "execute_result"
    }
   ],
   "source": [
    "not \"\""
   ]
  },
  {
   "cell_type": "code",
   "execution_count": 32,
   "id": "b910b362-c813-43c1-97bb-3f42581c6e69",
   "metadata": {},
   "outputs": [
    {
     "name": "stdout",
     "output_type": "stream",
     "text": [
      "H\n",
      "e\n",
      "l\n",
      "l\n",
      "o\n",
      " \n",
      "W\n",
      "o\n",
      "r\n",
      "l\n",
      "d\n"
     ]
    }
   ],
   "source": [
    "c = \"Hello World\"\n",
    "for i in c:\n",
    "    print(i)"
   ]
  },
  {
   "cell_type": "code",
   "execution_count": 34,
   "id": "5803deed-0585-4d60-9dc7-40c8d91b7a35",
   "metadata": {},
   "outputs": [
    {
     "data": {
      "text/plain": [
       "True"
      ]
     },
     "execution_count": 34,
     "metadata": {},
     "output_type": "execute_result"
    }
   ],
   "source": [
    "# Membership operators\n",
    "\"H\" in c"
   ]
  },
  {
   "cell_type": "code",
   "execution_count": 35,
   "id": "55e77d84-04f4-4e0b-b82b-8b67f8f1970a",
   "metadata": {},
   "outputs": [
    {
     "data": {
      "text/plain": [
       "False"
      ]
     },
     "execution_count": 35,
     "metadata": {},
     "output_type": "execute_result"
    }
   ],
   "source": [
    "\"Y\" in c"
   ]
  },
  {
   "cell_type": "markdown",
   "id": "64fe0bf6-1f39-44d8-a13a-949b105d7fea",
   "metadata": {
    "jp-MarkdownHeadingCollapsed": true
   },
   "source": [
    "### Functions in Stings"
   ]
  },
  {
   "cell_type": "code",
   "execution_count": 45,
   "id": "550941e9-88e0-44ba-944e-945e4ec0ce6c",
   "metadata": {},
   "outputs": [],
   "source": [
    "# Common functions\n",
    "\n",
    "c =\"Hello World\""
   ]
  },
  {
   "cell_type": "code",
   "execution_count": 38,
   "id": "bb95da87-287a-46d0-8834-29db36e25999",
   "metadata": {},
   "outputs": [
    {
     "data": {
      "text/plain": [
       "11"
      ]
     },
     "execution_count": 38,
     "metadata": {},
     "output_type": "execute_result"
    }
   ],
   "source": [
    "len(c)"
   ]
  },
  {
   "cell_type": "code",
   "execution_count": 41,
   "id": "5dd4fa1d-ecb6-4966-a961-f46d8eea03fa",
   "metadata": {},
   "outputs": [
    {
     "data": {
      "text/plain": [
       "'r'"
      ]
     },
     "execution_count": 41,
     "metadata": {},
     "output_type": "execute_result"
    }
   ],
   "source": [
    "max(c) # Tells the maximum according to ASCII"
   ]
  },
  {
   "cell_type": "code",
   "execution_count": 46,
   "id": "b2c2fe7c-6969-4f64-a9fb-ed5174b60524",
   "metadata": {},
   "outputs": [
    {
     "data": {
      "text/plain": [
       "' '"
      ]
     },
     "execution_count": 46,
     "metadata": {},
     "output_type": "execute_result"
    }
   ],
   "source": [
    "min(c)"
   ]
  },
  {
   "cell_type": "code",
   "execution_count": 48,
   "id": "12cb69c8-92c5-458d-877d-ce7c37402e69",
   "metadata": {},
   "outputs": [
    {
     "data": {
      "text/plain": [
       "[' ', 'H', 'W', 'd', 'e', 'l', 'l', 'l', 'o', 'o', 'r']"
      ]
     },
     "execution_count": 48,
     "metadata": {},
     "output_type": "execute_result"
    }
   ],
   "source": [
    "sorted(c) # Print sorted according to their ASCII values"
   ]
  },
  {
   "cell_type": "code",
   "execution_count": 49,
   "id": "0088e95d-9da7-4e9a-8148-fe17d3b14aad",
   "metadata": {},
   "outputs": [
    {
     "data": {
      "text/plain": [
       "['r', 'o', 'o', 'l', 'l', 'l', 'e', 'd', 'W', 'H', ' ']"
      ]
     },
     "execution_count": 49,
     "metadata": {},
     "output_type": "execute_result"
    }
   ],
   "source": [
    "sorted(c,reverse=True)"
   ]
  },
  {
   "cell_type": "code",
   "execution_count": 50,
   "id": "d46642a7-cbe3-4bd1-8442-9ada2675f430",
   "metadata": {},
   "outputs": [],
   "source": [
    "# Capitalize/Upper/Lower/Swapcase"
   ]
  },
  {
   "cell_type": "code",
   "execution_count": 51,
   "id": "82340cf6-40fd-4fcf-b07f-66327109374b",
   "metadata": {},
   "outputs": [],
   "source": [
    "c=\"it is raining today\""
   ]
  },
  {
   "cell_type": "code",
   "execution_count": 53,
   "id": "cb0107e3-c6a0-4dcd-9521-d79891b59434",
   "metadata": {},
   "outputs": [
    {
     "data": {
      "text/plain": [
       "'It is raining today'"
      ]
     },
     "execution_count": 53,
     "metadata": {},
     "output_type": "execute_result"
    }
   ],
   "source": [
    "c.capitalize() # Makes the first letter Capital of any sentence "
   ]
  },
  {
   "cell_type": "code",
   "execution_count": 55,
   "id": "71e8d3cc-2a67-46e4-b784-df776cfaa9e0",
   "metadata": {},
   "outputs": [
    {
     "data": {
      "text/plain": [
       "'It Is Raining Today'"
      ]
     },
     "execution_count": 55,
     "metadata": {},
     "output_type": "execute_result"
    }
   ],
   "source": [
    "c.title()  # Makes the first letter capital of every word in the sentence"
   ]
  },
  {
   "cell_type": "code",
   "execution_count": 57,
   "id": "916f881b-7195-4034-864b-9e4f1425dcad",
   "metadata": {},
   "outputs": [
    {
     "data": {
      "text/plain": [
       "'IT IS RAINING TODAY'"
      ]
     },
     "execution_count": 57,
     "metadata": {},
     "output_type": "execute_result"
    }
   ],
   "source": [
    "c.upper() # Converts the whole sentence into capital"
   ]
  },
  {
   "cell_type": "code",
   "execution_count": 59,
   "id": "38142608-b452-491f-82ae-1e72c46205b3",
   "metadata": {},
   "outputs": [
    {
     "data": {
      "text/plain": [
       "'it is raining today'"
      ]
     },
     "execution_count": 59,
     "metadata": {},
     "output_type": "execute_result"
    }
   ],
   "source": [
    "c.lower() # Converts the whole sentence into smaller alphabets"
   ]
  },
  {
   "cell_type": "code",
   "execution_count": 61,
   "id": "cd83d895-02e8-405c-8a8e-bdf49ffa0085",
   "metadata": {},
   "outputs": [
    {
     "data": {
      "text/plain": [
       "'IT IS RAINING TODAY'"
      ]
     },
     "execution_count": 61,
     "metadata": {},
     "output_type": "execute_result"
    }
   ],
   "source": [
    "c.swapcase() # Converts Upper to lower and lower to upper case"
   ]
  },
  {
   "cell_type": "code",
   "execution_count": 63,
   "id": "a598ccde-0904-48ea-8d2a-300048551333",
   "metadata": {},
   "outputs": [
    {
     "data": {
      "text/plain": [
       "2"
      ]
     },
     "execution_count": 63,
     "metadata": {},
     "output_type": "execute_result"
    }
   ],
   "source": [
    "# To find the frequency of any substring in any string \n",
    "c.count(\"t\")"
   ]
  },
  {
   "cell_type": "code",
   "execution_count": 67,
   "id": "3fcfc442-ca88-456b-a402-452608f82941",
   "metadata": {},
   "outputs": [
    {
     "data": {
      "text/plain": [
       "1"
      ]
     },
     "execution_count": 67,
     "metadata": {},
     "output_type": "execute_result"
    }
   ],
   "source": [
    "# Find/index  --> Gives the index of any substring and if we have more than 1 character of same type then it will give the index of 1st one\n",
    "c.find(\"t\")"
   ]
  },
  {
   "cell_type": "code",
   "execution_count": 68,
   "id": "192638a6-389a-4659-9aad-ed5169c5cc69",
   "metadata": {},
   "outputs": [
    {
     "data": {
      "text/plain": [
       "True"
      ]
     },
     "execution_count": 68,
     "metadata": {},
     "output_type": "execute_result"
    }
   ],
   "source": [
    "c.endswith(\"today\")"
   ]
  },
  {
   "cell_type": "code",
   "execution_count": 69,
   "id": "bb8e053e-d83b-4019-b950-99cd0d4a63ed",
   "metadata": {},
   "outputs": [
    {
     "data": {
      "text/plain": [
       "True"
      ]
     },
     "execution_count": 69,
     "metadata": {},
     "output_type": "execute_result"
    }
   ],
   "source": [
    "c.startswith(\"it\")"
   ]
  },
  {
   "cell_type": "code",
   "execution_count": 70,
   "id": "b176938d-41e9-4034-b316-9b9cfc4f208b",
   "metadata": {},
   "outputs": [
    {
     "data": {
      "text/plain": [
       "False"
      ]
     },
     "execution_count": 70,
     "metadata": {},
     "output_type": "execute_result"
    }
   ],
   "source": [
    "c.endswith('dff')"
   ]
  },
  {
   "cell_type": "code",
   "execution_count": 73,
   "id": "a92e1e61-abe0-4113-9f3b-b436463a30d9",
   "metadata": {},
   "outputs": [
    {
     "data": {
      "text/plain": [
       "'Hello my name is Vipul and I am 35 years old'"
      ]
     },
     "execution_count": 73,
     "metadata": {},
     "output_type": "execute_result"
    }
   ],
   "source": [
    "# format\n",
    "\n",
    "a=\"Hello my name is {} and I am {} years old\"\n",
    "a.format(\"Vipul\", 35)"
   ]
  },
  {
   "cell_type": "code",
   "execution_count": 75,
   "id": "bf9faf9d-619c-44c8-873b-65b0f319cf50",
   "metadata": {},
   "outputs": [
    {
     "data": {
      "text/plain": [
       "'Hello my name is 35 and I am Vipul years old'"
      ]
     },
     "execution_count": 75,
     "metadata": {},
     "output_type": "execute_result"
    }
   ],
   "source": [
    "a=\"Hello my name is {1} and I am {0} years old\"\n",
    "a.format(\"Vipul\", 35)                      # It uses the index and prints accordingly , we changed the index and see the results"
   ]
  },
  {
   "cell_type": "code",
   "execution_count": 76,
   "id": "e5d43a21-4750-4a18-ba48-bd237bf2e261",
   "metadata": {},
   "outputs": [
    {
     "data": {
      "text/plain": [
       "'Hello my name is Vipul and I am 35 years old'"
      ]
     },
     "execution_count": 76,
     "metadata": {},
     "output_type": "execute_result"
    }
   ],
   "source": [
    "a=\"Hello my name is {name} and I am {age} years old\"\n",
    "a.format(name=\"Vipul\", age=35)"
   ]
  },
  {
   "cell_type": "code",
   "execution_count": 78,
   "id": "1e4d56eb-089a-424b-956c-ed18d71be20d",
   "metadata": {},
   "outputs": [
    {
     "data": {
      "text/plain": [
       "True"
      ]
     },
     "execution_count": 78,
     "metadata": {},
     "output_type": "execute_result"
    }
   ],
   "source": [
    "\"Flat20\".isalnum()  # checks if string is the combination of both alphabet and numeric "
   ]
  },
  {
   "cell_type": "code",
   "execution_count": 81,
   "id": "f9595a38-7bf0-4eeb-8d24-8903728efede",
   "metadata": {},
   "outputs": [
    {
     "name": "stdout",
     "output_type": "stream",
     "text": [
      "True\n",
      "False\n"
     ]
    }
   ],
   "source": [
    "print(\"hafhdjhsjh\".isalpha())\n",
    "print(\"djfksjdfkj398498\".isalpha())"
   ]
  },
  {
   "cell_type": "code",
   "execution_count": 82,
   "id": "42a18d4e-a74b-4a49-89f7-c6f7b99fa0c5",
   "metadata": {},
   "outputs": [
    {
     "data": {
      "text/plain": [
       "True"
      ]
     },
     "execution_count": 82,
     "metadata": {},
     "output_type": "execute_result"
    }
   ],
   "source": [
    "\"2323\".isdigit()"
   ]
  },
  {
   "cell_type": "code",
   "execution_count": 86,
   "id": "c9c0c6d8-379d-4541-8391-4673f59e22dd",
   "metadata": {},
   "outputs": [
    {
     "name": "stdout",
     "output_type": "stream",
     "text": [
      "False\n",
      "True\n"
     ]
    }
   ],
   "source": [
    "print(\"hello world\".isidentifier())\n",
    "print(\"hello_world\".isidentifier())  # Checks whether it can be used as an identifier in python or not"
   ]
  },
  {
   "cell_type": "code",
   "execution_count": 94,
   "id": "ea658bbd-68b3-4550-b395-14b7833e2536",
   "metadata": {},
   "outputs": [
    {
     "data": {
      "text/plain": [
       "['Hey',\n",
       " 'this',\n",
       " 'is',\n",
       " 'vipul',\n",
       " 'baliyan',\n",
       " 'an',\n",
       " 'aspiring',\n",
       " 'data',\n",
       " 'scientist']"
      ]
     },
     "execution_count": 94,
     "metadata": {},
     "output_type": "execute_result"
    }
   ],
   "source": [
    "# split(0) --> It converts the string into a list \n",
    "\n",
    "\"Hey this is vipul baliyan an aspiring data scientist\".split()"
   ]
  },
  {
   "cell_type": "code",
   "execution_count": 101,
   "id": "3d20ae0e-c08c-4d6a-a25e-ac608ab9a794",
   "metadata": {},
   "outputs": [
    {
     "data": {
      "text/plain": [
       "'Hey this is vipul baliyan an aspiring data scientist'"
      ]
     },
     "execution_count": 101,
     "metadata": {},
     "output_type": "execute_result"
    }
   ],
   "source": [
    "# join() --> The opposite of split() function\n",
    "\n",
    "\" \".join(['Hey','this','is','vipul','baliyan','an','aspiring','data','scientist'])"
   ]
  },
  {
   "cell_type": "code",
   "execution_count": 102,
   "id": "fdd8ad14-f5b5-410f-be6b-990ca9529f0b",
   "metadata": {},
   "outputs": [
    {
     "data": {
      "text/plain": [
       "'Hey/this/is/vipul/baliyan/an/aspiring/data/scientist'"
      ]
     },
     "execution_count": 102,
     "metadata": {},
     "output_type": "execute_result"
    }
   ],
   "source": [
    "\"/\".join(['Hey','this','is','vipul','baliyan','an','aspiring','data','scientist'])"
   ]
  },
  {
   "cell_type": "code",
   "execution_count": 103,
   "id": "49ec84f6-1f42-4635-aca7-bc45ace02433",
   "metadata": {},
   "outputs": [
    {
     "data": {
      "text/plain": [
       "'Hey*this*is*vipul*baliyan*an*aspiring*data*scientist'"
      ]
     },
     "execution_count": 103,
     "metadata": {},
     "output_type": "execute_result"
    }
   ],
   "source": [
    "\"*\".join(['Hey','this','is','vipul','baliyan','an','aspiring','data','scientist'])"
   ]
  },
  {
   "cell_type": "code",
   "execution_count": 105,
   "id": "ffa9e386-855e-4bbc-bf96-0d33cf3e40a7",
   "metadata": {},
   "outputs": [
    {
     "data": {
      "text/plain": [
       "'Hi my name is Nitish'"
      ]
     },
     "execution_count": 105,
     "metadata": {},
     "output_type": "execute_result"
    }
   ],
   "source": [
    "# replace()\n",
    "\"Hi my name is vipul\".replace(\"vipul\",\"Nitish\")"
   ]
  },
  {
   "cell_type": "code",
   "execution_count": 107,
   "id": "8a193fd6-2fd6-4326-835b-637991ab29d1",
   "metadata": {},
   "outputs": [],
   "source": [
    "# strip --> Removes the tailing and start spaces \n",
    "\n",
    "c=\"              Hey how are you                 \""
   ]
  },
  {
   "cell_type": "code",
   "execution_count": 108,
   "id": "c6e43fa5-bfd8-4899-838d-a5f1ccd294b6",
   "metadata": {},
   "outputs": [
    {
     "data": {
      "text/plain": [
       "'Hey how are you'"
      ]
     },
     "execution_count": 108,
     "metadata": {},
     "output_type": "execute_result"
    }
   ],
   "source": [
    "c.strip()"
   ]
  },
  {
   "cell_type": "markdown",
   "id": "ab0f90cd-0d17-4b5d-8259-40a63fab1dd2",
   "metadata": {},
   "source": [
    "### List in Python\n",
    "##### Arrays vs List --> Arrays are homogeneous(same data type) whereas lists are heterogeneous(different data types)\n",
    "##### Arrays are stored at contagious memory location which is not in case of lists\n",
    "##### Arrays are faster as compared to list and take less time to traverse"
   ]
  },
  {
   "cell_type": "code",
   "execution_count": null,
   "id": "4943dded-ecfa-4238-acb3-7d7052756c90",
   "metadata": {},
   "outputs": [],
   "source": [
    "# "
   ]
  }
 ],
 "metadata": {
  "kernelspec": {
   "display_name": "Python 3 (ipykernel)",
   "language": "python",
   "name": "python3"
  },
  "language_info": {
   "codemirror_mode": {
    "name": "ipython",
    "version": 3
   },
   "file_extension": ".py",
   "mimetype": "text/x-python",
   "name": "python",
   "nbconvert_exporter": "python",
   "pygments_lexer": "ipython3",
   "version": "3.12.4"
  }
 },
 "nbformat": 4,
 "nbformat_minor": 5
}

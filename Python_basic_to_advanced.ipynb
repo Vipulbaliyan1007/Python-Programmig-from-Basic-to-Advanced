{
 "cells": [
  {
   "cell_type": "markdown",
   "id": "5ed6696d-dad3-4d79-bfc4-e35cf375514e",
   "metadata": {
    "jp-MarkdownHeadingCollapsed": true
   },
   "source": [
    "### Print function in python"
   ]
  },
  {
   "cell_type": "code",
   "execution_count": 1,
   "id": "88613318-31ea-41e2-aa57-3f7fe637a4c0",
   "metadata": {},
   "outputs": [
    {
     "name": "stdout",
     "output_type": "stream",
     "text": [
      "Hello\n"
     ]
    }
   ],
   "source": [
    "print('Hello')"
   ]
  },
  {
   "cell_type": "code",
   "execution_count": 2,
   "id": "6aaccf40-eb10-4aaf-bde8-fe8f83fcdb26",
   "metadata": {},
   "outputs": [
    {
     "name": "stdout",
     "output_type": "stream",
     "text": [
      "4\n"
     ]
    }
   ],
   "source": [
    "print(4)"
   ]
  },
  {
   "cell_type": "code",
   "execution_count": 3,
   "id": "6278be95-6477-469f-aa3d-212085f89e83",
   "metadata": {},
   "outputs": [
    {
     "name": "stdout",
     "output_type": "stream",
     "text": [
      "Vipul Varun Karitk Arjun Lakshya\n"
     ]
    }
   ],
   "source": [
    "print(\"Vipul\",\"Varun\", \"Karitk\", \"Arjun\", \"Lakshya\")"
   ]
  },
  {
   "cell_type": "code",
   "execution_count": 4,
   "id": "cd0b26b3-ba47-4257-ba61-7a25481ed32a",
   "metadata": {},
   "outputs": [
    {
     "name": "stdout",
     "output_type": "stream",
     "text": [
      "Vipul/Varun/Karitk/Arjun/Lakshya\n"
     ]
    }
   ],
   "source": [
    "# Use of sep in print where we can insert special charcters in between our stings, values\n",
    "print(\"Vipul\",\"Varun\", \"Karitk\", \"Arjun\", \"Lakshya\", sep='/')"
   ]
  },
  {
   "cell_type": "code",
   "execution_count": 5,
   "id": "d89fbfa0-e5ce-4a45-bcf4-9505a96af8ef",
   "metadata": {},
   "outputs": [
    {
     "name": "stdout",
     "output_type": "stream",
     "text": [
      "Vipul-Varun-Karitk-Arjun-Lakshya\n"
     ]
    }
   ],
   "source": [
    "print(\"Vipul\",\"Varun\", \"Karitk\", \"Arjun\", \"Lakshya\", sep='-')"
   ]
  },
  {
   "cell_type": "code",
   "execution_count": 6,
   "id": "432f2c07-bfb5-473a-b73a-0c47173df0c7",
   "metadata": {},
   "outputs": [
    {
     "name": "stdout",
     "output_type": "stream",
     "text": [
      "Hello\n",
      "world\n"
     ]
    }
   ],
   "source": [
    "print(\"Hello\")\n",
    "print(\"world\")"
   ]
  },
  {
   "cell_type": "code",
   "execution_count": 11,
   "id": "debeeabf-45af-445b-b90a-ee97060b0d52",
   "metadata": {},
   "outputs": [
    {
     "name": "stdout",
     "output_type": "stream",
     "text": [
      "Hello            world\n"
     ]
    }
   ],
   "source": [
    "# Using end ='' we can print the different lines in single one without going to next line + we can also control the number of spaces\n",
    "print(\"Hello\",end='            ')\n",
    "print(\"world\")"
   ]
  },
  {
   "cell_type": "markdown",
   "id": "1741ac88-b52c-4b39-a06b-eff41d5eeba2",
   "metadata": {
    "jp-MarkdownHeadingCollapsed": true
   },
   "source": [
    "### Data types of python\n",
    "##### Basic type --> interge, float, boolean, float, string \n",
    "##### container type --> List, Tuples, Sets, Dictionary\n",
    "##### User-defined type --> class, objects\n"
   ]
  },
  {
   "cell_type": "code",
   "execution_count": 19,
   "id": "1f5899d9-59ed-478e-903b-aff0e2b5b31f",
   "metadata": {},
   "outputs": [
    {
     "name": "stdout",
     "output_type": "stream",
     "text": [
      "5\n",
      "1e+308\n"
     ]
    }
   ],
   "source": [
    "# integer\n",
    "print(5)\n",
    "print(1e308)\n",
    "\n",
    "# Max size of integer possible in python after which it will show infinity"
   ]
  },
  {
   "cell_type": "code",
   "execution_count": 20,
   "id": "7de001e7-2907-43f4-b2dc-9cca253947c7",
   "metadata": {},
   "outputs": [
    {
     "name": "stdout",
     "output_type": "stream",
     "text": [
      "4.5\n",
      "1.7e+308\n"
     ]
    }
   ],
   "source": [
    "# float\n",
    "print(4.5)\n",
    "print(1.7e308)\n",
    "\n",
    "# Max size of integer possible in python after which it will show infinity"
   ]
  },
  {
   "cell_type": "code",
   "execution_count": null,
   "id": "fa7d598e-7e58-4a62-a5f7-8982e75eeb71",
   "metadata": {},
   "outputs": [],
   "source": [
    "# Boolean\n",
    "print(True)\n",
    "print(False)"
   ]
  },
  {
   "cell_type": "code",
   "execution_count": 23,
   "id": "cbeef59b-8c0e-43cc-b497-ff1891f61bca",
   "metadata": {},
   "outputs": [
    {
     "name": "stdout",
     "output_type": "stream",
     "text": [
      "(4+6j)\n"
     ]
    }
   ],
   "source": [
    "# Complex\n",
    "print(4+6j)"
   ]
  },
  {
   "cell_type": "code",
   "execution_count": 26,
   "id": "9a2c02f5-5ef6-4253-bb33-a17cb739065c",
   "metadata": {},
   "outputs": [
    {
     "name": "stdout",
     "output_type": "stream",
     "text": [
      "Hello\n",
      "Hello\n",
      "Hello\n"
     ]
    }
   ],
   "source": [
    "# Strings \n",
    "print('Hello')\n",
    "print(\"Hello\")\n",
    "print(\"\"\"Hello\"\"\")"
   ]
  },
  {
   "cell_type": "code",
   "execution_count": 29,
   "id": "5180af6d-0ba2-43f2-bc20-a26d62df30d8",
   "metadata": {},
   "outputs": [
    {
     "name": "stdout",
     "output_type": "stream",
     "text": [
      "[4, 46, 756, 34, 65]\n"
     ]
    }
   ],
   "source": [
    "# Lists\n",
    "print([4,46,756,34,65])\n",
    "\n",
    "# Ordered(index-based), Mutable, and allow duplicates"
   ]
  },
  {
   "cell_type": "code",
   "execution_count": 30,
   "id": "255ead1e-2b6c-4c4c-9042-7a87feac6cd4",
   "metadata": {},
   "outputs": [
    {
     "name": "stdout",
     "output_type": "stream",
     "text": [
      "(3, 54, 54, 64, 64, 34)\n"
     ]
    }
   ],
   "source": [
    "# Tuples\n",
    "print((3,54,54,64,64,34,))\n",
    "\n",
    "# Ordered(index-based),Immutable, and allow duplicates"
   ]
  },
  {
   "cell_type": "code",
   "execution_count": 31,
   "id": "7f426309-3c23-4f9d-9282-163bb844ac43",
   "metadata": {},
   "outputs": [
    {
     "name": "stdout",
     "output_type": "stream",
     "text": [
      "{545, 3, 4, 5, 454, 45}\n"
     ]
    }
   ],
   "source": [
    "# Sets\n",
    "print({3,454,545,45,4,5,4,})\n",
    "\n",
    "# Unordered, Mutable, and does not allow duplicates"
   ]
  },
  {
   "cell_type": "code",
   "execution_count": 35,
   "id": "73045638-4c2d-481e-ae0e-b86f66a9e3f3",
   "metadata": {},
   "outputs": [
    {
     "name": "stdout",
     "output_type": "stream",
     "text": [
      "{'Name': 'Vipul', 'Age': '24', 'Gender': 'Male'}\n"
     ]
    }
   ],
   "source": [
    "# Dictonary \n",
    "print({\"Name\":\"Vipul\", \"Age\":\"24\", \"Gender\":\"Male\"})\n",
    "\n",
    "\n",
    "# It is the set of key and value pairs \n",
    "# Ordered, Mutable, and does not allow duplicate keys"
   ]
  },
  {
   "cell_type": "markdown",
   "id": "374fdd8a-4b02-4a05-8f82-69e8d2fd0e51",
   "metadata": {
    "jp-MarkdownHeadingCollapsed": true
   },
   "source": [
    "### Another important concept in python is variable which stores the value or string \n",
    "##### Dynamic typing--> Declaration of variable is not necessary --> PHP, Python\n",
    "##### Static typing --> Declaration of variable before using is necessary  --> C, C++, Java"
   ]
  },
  {
   "cell_type": "code",
   "execution_count": 42,
   "id": "2f429012-54a1-4eb9-8ee8-bcddc240a60b",
   "metadata": {},
   "outputs": [],
   "source": [
    "name='Vipul'"
   ]
  },
  {
   "cell_type": "code",
   "execution_count": 44,
   "id": "fcf0b0e2-79ac-4fc7-80e4-fcafe196a2d9",
   "metadata": {},
   "outputs": [
    {
     "name": "stdout",
     "output_type": "stream",
     "text": [
      "Vipul\n"
     ]
    }
   ],
   "source": [
    "print(name)"
   ]
  },
  {
   "cell_type": "code",
   "execution_count": 55,
   "id": "e4cacbd7-b71a-44bb-a443-cc8d1ea9ac32",
   "metadata": {},
   "outputs": [],
   "source": [
    "# Dynamic binding --> A single varibale can store multiple datatypes.Python variables are not bound to a specific data type at the time of declaration. \n",
    "# The type of the object a variable refers to can change dynamically at runtime.\n",
    "\n",
    "\n",
    "# The opposite of this is static binding where the datatype remains same throughout the program"
   ]
  },
  {
   "cell_type": "code",
   "execution_count": 47,
   "id": "d9b553d9-1ea1-4e1a-ae4a-bce1b5191edd",
   "metadata": {},
   "outputs": [],
   "source": [
    "name='hello'"
   ]
  },
  {
   "cell_type": "code",
   "execution_count": 48,
   "id": "867fe27a-c121-4cfb-ab99-7e80a4d881e2",
   "metadata": {},
   "outputs": [
    {
     "name": "stdout",
     "output_type": "stream",
     "text": [
      "hello\n"
     ]
    }
   ],
   "source": [
    "print(name)"
   ]
  },
  {
   "cell_type": "code",
   "execution_count": 49,
   "id": "7a9b9b76-7e5d-497d-95af-402bdf2a938f",
   "metadata": {},
   "outputs": [],
   "source": [
    "name='4545'"
   ]
  },
  {
   "cell_type": "code",
   "execution_count": 50,
   "id": "11dc303a-68f8-46db-82ba-510984e94dd0",
   "metadata": {},
   "outputs": [
    {
     "name": "stdout",
     "output_type": "stream",
     "text": [
      "4545\n"
     ]
    }
   ],
   "source": [
    "print(name)"
   ]
  },
  {
   "cell_type": "code",
   "execution_count": 53,
   "id": "d254ccc3-9a36-4a21-a893-81208e8e48ae",
   "metadata": {},
   "outputs": [],
   "source": [
    "name=34545+353454"
   ]
  },
  {
   "cell_type": "code",
   "execution_count": 54,
   "id": "9bb26914-e45f-4d6c-b568-a22b8ebd0114",
   "metadata": {},
   "outputs": [
    {
     "name": "stdout",
     "output_type": "stream",
     "text": [
      "387999\n"
     ]
    }
   ],
   "source": [
    "print(name)"
   ]
  },
  {
   "cell_type": "code",
   "execution_count": 56,
   "id": "fce96c42-5449-417c-8b75-2ac139844297",
   "metadata": {},
   "outputs": [
    {
     "name": "stdout",
     "output_type": "stream",
     "text": [
      "23\n",
      "3434\n",
      "Hello\n"
     ]
    }
   ],
   "source": [
    "# Special Syntax in python\n",
    "\n",
    "a='23';b='3434';c=\"Hello\"\n",
    "print(a)\n",
    "print(b)\n",
    "print(c)"
   ]
  },
  {
   "cell_type": "code",
   "execution_count": 58,
   "id": "ef0d504d-614e-4686-920e-24102b6b2ee4",
   "metadata": {},
   "outputs": [
    {
     "name": "stdout",
     "output_type": "stream",
     "text": [
      "23\n",
      "2323\n",
      "Hello\n"
     ]
    }
   ],
   "source": [
    "a,b,c ='23','2323','Hello'\n",
    "print(a)\n",
    "print(b)\n",
    "print(c)"
   ]
  },
  {
   "cell_type": "markdown",
   "id": "48142677-a323-400a-ba51-359b7b9f3ae7",
   "metadata": {
    "jp-MarkdownHeadingCollapsed": true
   },
   "source": [
    "###  Keywords and Identifiers in python\n",
    "##### Keywords are reserved words in Python that have special meanings and cannot be used as variable names, function names, or any other identifier. \n",
    "#####  Identifiers are the names given to variables, functions, classes, or other entities in Python.\n",
    "##### Case-Sensitive: Identifiers are case-sensitive (name and Name are different).\n",
    "##### Start with a letter or underscore (_): Identifiers cannot start with a number.\n",
    "##### Only letters, numbers, and underscores allowed: You cannot use special characters like @, #, $, etc., in identifiers."
   ]
  },
  {
   "cell_type": "code",
   "execution_count": 60,
   "id": "87240ab0-1fe4-40e7-b56b-df673d4e6361",
   "metadata": {},
   "outputs": [
    {
     "name": "stdout",
     "output_type": "stream",
     "text": [
      "['False', 'None', 'True', 'and', 'as', 'assert', 'async', 'await', 'break', 'class', 'continue', 'def', 'del', 'elif', 'else', 'except', 'finally', 'for', 'from', 'global', 'if', 'import', 'in', 'is', 'lambda', 'nonlocal', 'not', 'or', 'pass', 'raise', 'return', 'try', 'while', 'with', 'yield']\n"
     ]
    }
   ],
   "source": [
    "# printing all the keywords in python'\n",
    "import keyword\n",
    "print(keyword.kwlist)\n"
   ]
  },
  {
   "cell_type": "markdown",
   "id": "5e7e249a-7047-4fb8-8efd-7cd27aa3a6b1",
   "metadata": {
    "jp-MarkdownHeadingCollapsed": true
   },
   "source": [
    "### taking input and type conversion\n",
    "##### There are bsically two types of software --> static software(without input) & dynamic software(with input and can interact with user)\n",
    "\n",
    "##### The output of any value taken thorugh the funntio named as input always comes in the string "
   ]
  },
  {
   "cell_type": "code",
   "execution_count": 2,
   "id": "8688cea0-bdec-421d-a649-d4793030929f",
   "metadata": {},
   "outputs": [
    {
     "name": "stdin",
     "output_type": "stream",
     "text": [
      "Enter your name buddy vipul\n"
     ]
    },
    {
     "data": {
      "text/plain": [
       "'vipul'"
      ]
     },
     "execution_count": 2,
     "metadata": {},
     "output_type": "execute_result"
    }
   ],
   "source": [
    " # This is the actual and complete way of writing and taking input but we can remove prompt and it will also work\n",
    "input(prompt='Enter your name buddy')"
   ]
  },
  {
   "cell_type": "code",
   "execution_count": 3,
   "id": "f0d0a462-39d6-4924-8c4e-a1ef28582a25",
   "metadata": {},
   "outputs": [
    {
     "name": "stdin",
     "output_type": "stream",
     "text": [
      "enter the name Vipul Baliyan\n"
     ]
    },
    {
     "data": {
      "text/plain": [
       "'Vipul Baliyan'"
      ]
     },
     "execution_count": 3,
     "metadata": {},
     "output_type": "execute_result"
    }
   ],
   "source": [
    "input(\"enter the name\")"
   ]
  },
  {
   "cell_type": "code",
   "execution_count": 9,
   "id": "1c6e5831-12ef-422a-bdd4-18ec8ac78737",
   "metadata": {},
   "outputs": [
    {
     "name": "stdin",
     "output_type": "stream",
     "text": [
      "Enter first number 23424\n",
      "Enter second number 454353\n"
     ]
    }
   ],
   "source": [
    "# trying to find the sun using sting function\n",
    "f1=input(\"Enter first number\")\n",
    "f2=input(\"Enter second number\")"
   ]
  },
  {
   "cell_type": "code",
   "execution_count": 10,
   "id": "d56e1ed5-829e-40b8-9d05-c1fe30982232",
   "metadata": {},
   "outputs": [
    {
     "name": "stdout",
     "output_type": "stream",
     "text": [
      "23424\n",
      "454353\n"
     ]
    }
   ],
   "source": [
    "print(f1)\n",
    "print(f2)"
   ]
  },
  {
   "cell_type": "code",
   "execution_count": 11,
   "id": "0733c8af-c77e-4781-8d7d-0b982da07b1e",
   "metadata": {},
   "outputs": [
    {
     "name": "stdout",
     "output_type": "stream",
     "text": [
      "23424454353\n"
     ]
    }
   ],
   "source": [
    "sum = f1 + f2\n",
    "print(sum)\n",
    "\n",
    "# Here the value will not be the sum of two numbers because the input we get from is in the string form so it will join the strings together and display a single value"
   ]
  },
  {
   "cell_type": "code",
   "execution_count": 12,
   "id": "7856e91c-ba13-4430-b4a6-518af4d5fda8",
   "metadata": {},
   "outputs": [],
   "source": [
    "# There are basically two types of type conversion in python  and it is not a permanant operation which can change the previous value of data\n",
    "# Implicit --> Automatically done by Python when it converts one data type to another without user intervention.\n",
    "# Explicit --> Manually done by the programmer using predefined Python functions to convert data types.\n",
    "# Type casting is permanent and type conversion is temporary"
   ]
  },
  {
   "cell_type": "code",
   "execution_count": 14,
   "id": "9392a13f-6f8c-4241-95e6-9959d81da42c",
   "metadata": {},
   "outputs": [
    {
     "name": "stdout",
     "output_type": "stream",
     "text": [
      "477777\n"
     ]
    }
   ],
   "source": [
    "# Using type conversion we can easily now find the sum of two numbers \n",
    "sum = int(f1)+ int(f2)\n",
    "print(sum)"
   ]
  },
  {
   "cell_type": "markdown",
   "id": "886f48bf-76bf-4119-83ec-9b6c0cda725d",
   "metadata": {
    "jp-MarkdownHeadingCollapsed": true
   },
   "source": [
    "### Literals in python --> literals are constant values that are directly assigned to variables or used in the code. They represent fixed values and do not change during the execution of the program. \n",
    "##### Numeric literals -->[interger, float, complex]\n",
    "##### String literals  -->[single line, multiple lines]\n",
    "##### Boolean literals -->[true, false]\n",
    "##### Special literals -->[none]\n"
   ]
  },
  {
   "cell_type": "code",
   "execution_count": 25,
   "id": "13119fd4-0976-4f0c-bcd6-be564d3eaef4",
   "metadata": {},
   "outputs": [],
   "source": [
    "a=0b1010 #binary literal\n",
    "b=100 #decimal literal \n",
    "c=0o310 #octal litersl\n",
    "d=0x12c #hexagonal literal\n",
    "\n",
    "\n",
    "#float literals\n",
    "float_a=10.4\n",
    "float_b=1.6e5\n",
    "float_c=1.5e-3\n",
    "\n",
    "\n",
    "#complex literals \n",
    "f=3+6j"
   ]
  },
  {
   "cell_type": "code",
   "execution_count": 27,
   "id": "78a5dd14-fea0-4918-92a5-f176e7bdd38b",
   "metadata": {},
   "outputs": [
    {
     "name": "stdout",
     "output_type": "stream",
     "text": [
      "10 100 200 300\n",
      "10.4 160000.0 0.0015\n",
      "(3+6j) 6.0 3.0\n"
     ]
    }
   ],
   "source": [
    "print(a,b,c,d)\n",
    "print(float_a,float_b,float_c)\n",
    "print(f,f.imag,f.real)"
   ]
  },
  {
   "cell_type": "code",
   "execution_count": 37,
   "id": "a0a8d158-ee05-4d8b-97ba-6a65dfa8e38c",
   "metadata": {},
   "outputs": [
    {
     "name": "stdout",
     "output_type": "stream",
     "text": [
      "Vipul\n",
      "Gurukul kangri\n",
      "It bsically stores large data or string with multiple lines\n",
      " and now i am writing the another line just to check whether i can print \n",
      " multile lines useing 3 interted commas\n",
      "♥☂☯☺✓ \n",
      "raw \\n string\n"
     ]
    }
   ],
   "source": [
    "# Strnig literals\n",
    "# Everything is sting there is no char datatype in python\n",
    "# no difference between ' ' and \" \"\n",
    "# unicode string allows us to print emojies and special charcter\n",
    "# raw sting is used if we want to use python\n",
    "\n",
    "name='Vipul'\n",
    "college=\"Gurukul kangri\"\n",
    "multiline_str= \"\"\"It bsically stores large data or string with multiple lines\n",
    " and now i am writing the another line just to check whether i can print \n",
    " multile lines useing 3 interted commas\"\"\"\n",
    "unicode= u\"\\u2665\\u2602\\u262F\\u263A\\u2713 \"\n",
    "raw_str=r\"raw \\n string\"\n",
    "\n",
    "print(name)\n",
    "print(college)\n",
    "print(multiline_str)\n",
    "print(unicode)\n",
    "print(raw_str)"
   ]
  },
  {
   "cell_type": "code",
   "execution_count": 36,
   "id": "b309a08a-db22-4838-9183-239bc4a101b1",
   "metadata": {},
   "outputs": [
    {
     "name": "stdout",
     "output_type": "stream",
     "text": [
      "35\n",
      "-23\n"
     ]
    }
   ],
   "source": [
    "# Boolean literal\n",
    "val1=True+34\n",
    "val2=False-23\n",
    "\n",
    "print(val1)\n",
    "print(val2)\n",
    "\n",
    "# python itself consider True = 1 and False = 0 by default"
   ]
  },
  {
   "cell_type": "code",
   "execution_count": 39,
   "id": "4aaf5f17-fd7e-4b5b-885e-862dca91cfb1",
   "metadata": {},
   "outputs": [
    {
     "name": "stdout",
     "output_type": "stream",
     "text": [
      "None\n"
     ]
    }
   ],
   "source": [
    "# Special literal --> NONE -->None is a special literal in Python that represents the absence of a value or a null value.\n",
    "\n",
    "a=None\n",
    "print(a)"
   ]
  },
  {
   "cell_type": "markdown",
   "id": "50b24b61-d8d0-4cd8-b19b-4105745f4ba9",
   "metadata": {
    "jp-MarkdownHeadingCollapsed": true
   },
   "source": [
    "### Operators in python\n",
    "##### Arithmetic operators --> {a + b } {a - b} {\ta * b} {a // b} {a / b} {a % b} {a**b}\n",
    "##### Comparision/relational operators -->  {==,!=,>=,<=,<,>}\t\n",
    "##### Logical operators --> {and , or , not}\n",
    "##### Assignment operators --> =, +=, -=, *=,/=, **=, //=\n",
    "##### Bitwise operators --> &(Bitwirse and), |(bitwise OR), ^(bitwise XOR), ~(bitwise not), <<(bitwise left shift), >>(bitwise right shift)\n",
    "##### Identity operators --> is, is not\n",
    "##### Membership operattors --> in, not in"
   ]
  },
  {
   "cell_type": "code",
   "execution_count": 40,
   "id": "6996f33d-78d8-4789-bb30-5f6cc3cca4ba",
   "metadata": {},
   "outputs": [],
   "source": [
    "x=10\n",
    "y=3"
   ]
  },
  {
   "cell_type": "code",
   "execution_count": 50,
   "id": "4f571b17-5046-464c-a5b1-3ca6b771b665",
   "metadata": {},
   "outputs": [
    {
     "name": "stdout",
     "output_type": "stream",
     "text": [
      "13\n",
      "7\n",
      "3.3333333333333335\n",
      "3\n",
      "1000\n",
      "30\n"
     ]
    }
   ],
   "source": [
    "# Arithmetic operators\n",
    "\n",
    "print(x+y)\n",
    "print(x-y)\n",
    "print(x/y)\n",
    "print(x//y) # It prints the value without decimal part or float part\n",
    "print(x**y)\n",
    "print(x*y)"
   ]
  },
  {
   "cell_type": "code",
   "execution_count": 51,
   "id": "3c167e90-7938-4c0c-b1b5-db979635ca9b",
   "metadata": {},
   "outputs": [
    {
     "name": "stdout",
     "output_type": "stream",
     "text": [
      "True\n",
      "False\n",
      "True\n",
      "False\n",
      "True\n"
     ]
    }
   ],
   "source": [
    "# Comparision or relational operators\n",
    "\n",
    "print(x>y)\n",
    "print(x<y)\n",
    "print(x>=y)\n",
    "print(x<=y)\n",
    "print(x!=y)"
   ]
  },
  {
   "cell_type": "code",
   "execution_count": 52,
   "id": "23cfd476-73c2-4b7d-b3e6-a4076c80bcf7",
   "metadata": {},
   "outputs": [
    {
     "name": "stdout",
     "output_type": "stream",
     "text": [
      "True\n",
      "False\n",
      "True\n",
      "False\n"
     ]
    }
   ],
   "source": [
    "# Logical operators \n",
    "\n",
    "x=True\n",
    "y=False\n",
    "\n",
    "print(x or y)\n",
    "print(x and y)\n",
    "print( not y)\n",
    "print(not x )"
   ]
  },
  {
   "cell_type": "code",
   "execution_count": 60,
   "id": "07964cf6-977c-4bf0-854a-7d3c3714c8fd",
   "metadata": {},
   "outputs": [
    {
     "name": "stdout",
     "output_type": "stream",
     "text": [
      "2\n",
      "3\n",
      "-4\n",
      "1\n",
      "0\n",
      "16\n"
     ]
    }
   ],
   "source": [
    "# Bitwise operators works on binary values \n",
    "\n",
    "x=2   #010\n",
    "y=3   #110\n",
    "\n",
    "print(x & y)\n",
    "print(x | y)\n",
    "print(~ y)\n",
    "print(x ^ y)\n",
    "print(x >> y)\n",
    "print(x << y)"
   ]
  },
  {
   "cell_type": "code",
   "execution_count": 70,
   "id": "3a868ca4-d73a-4ebb-a00f-51f7ed9ba951",
   "metadata": {},
   "outputs": [
    {
     "name": "stdout",
     "output_type": "stream",
     "text": [
      "True\n",
      "False\n"
     ]
    }
   ],
   "source": [
    "# Identity operators check whether two values are stored at the same location or not\n",
    "a=2\n",
    "b=2\n",
    "print(a is b)\n",
    "print(a is not b)"
   ]
  },
  {
   "cell_type": "code",
   "execution_count": 66,
   "id": "23984918-3220-4bf5-8d0f-adae4b387d7f",
   "metadata": {},
   "outputs": [
    {
     "name": "stdout",
     "output_type": "stream",
     "text": [
      "False\n"
     ]
    }
   ],
   "source": [
    "a=([1,3,5])\n",
    "b=([1,3,5])\n",
    "print(a is b)\n",
    "# Here we can understand that if two values seems to be same it does not mean they are located at same place or memory location"
   ]
  },
  {
   "cell_type": "code",
   "execution_count": 69,
   "id": "1d1e9234-e821-4079-b794-c9702459aa61",
   "metadata": {},
   "outputs": [
    {
     "name": "stdout",
     "output_type": "stream",
     "text": [
      "True\n",
      "False\n"
     ]
    }
   ],
   "source": [
    "# Membership operator tells whether particular member is the part of string or any bigger value or not\n",
    "x='Mona'\n",
    "print( 'M' in x)\n",
    "print( 'M' not in x)"
   ]
  },
  {
   "cell_type": "markdown",
   "id": "6e242e4f-296d-4a4c-ac4d-517b44c91972",
   "metadata": {
    "jp-MarkdownHeadingCollapsed": true
   },
   "source": [
    "### Decision Control statements or if else statements"
   ]
  },
  {
   "cell_type": "code",
   "execution_count": 12,
   "id": "c82426b7-13e6-4e59-a20d-30e1cac7b0e6",
   "metadata": {},
   "outputs": [
    {
     "name": "stdin",
     "output_type": "stream",
     "text": [
      "Enter your email vipulbaliyansfs@gmail.com\n",
      "Enter your passward 1234\n"
     ]
    },
    {
     "name": "stdout",
     "output_type": "stream",
     "text": [
      "Welcome Vipul\n"
     ]
    }
   ],
   "source": [
    "# correct email - vipulbaliyansfs@gmail.com\n",
    "# correct passward - 1234\n",
    "\n",
    "email = input(\"Enter your email\")\n",
    "passward = input(\"Enter your passward\")\n",
    "\n",
    "if email == \"vipulbaliyansfs@gmail.com\" and passward == \"1234\" :\n",
    "    print(\"Welcome Vipul\")\n",
    "elif email == \"vipulblaiyansfs@gmail.com\" and passward != \"1234\":\n",
    "    print(\"Passward is wrong enter again\")\n",
    "    passward = input(\"Please enter the correct passward\")\n",
    "    if passward == \"1234\":\n",
    "        print(\"Finally the entered passward is correct\")\n",
    "    else:\n",
    "        print(\"Your passward is still incorrect\")\n",
    "    \n",
    "else:\n",
    "   print(\"Incorrect cerredentials\")"
   ]
  },
  {
   "cell_type": "markdown",
   "id": "50fb33c5-614d-4329-be26-f6d7a864e488",
   "metadata": {},
   "source": [
    "### Indentation in python --> Indentation in Python is crucial because it defines the structure of the code, especially for blocks such as loops, conditional statements, functions, and classes. Unlike other programming languages that use braces {} to define blocks of code, Python uses indentation (usually four spaces or a tab)."
   ]
  },
  {
   "cell_type": "markdown",
   "id": "afbd07d7-d0a3-4ce9-8545-27adfa90ade0",
   "metadata": {
    "jp-MarkdownHeadingCollapsed": true
   },
   "source": [
    "### Loops in python --> In Python, loops are used to iterate over a sequence (like a list, tuple, string, or range) or repeat a block of code while a condition is met.\n",
    "##### There are two types of loops in python - for loop and while loop"
   ]
  },
  {
   "cell_type": "code",
   "execution_count": 14,
   "id": "be6ac00f-c276-4793-b851-732108852e16",
   "metadata": {},
   "outputs": [
    {
     "name": "stdin",
     "output_type": "stream",
     "text": [
      "Number bata bhai 11\n"
     ]
    },
    {
     "name": "stdout",
     "output_type": "stream",
     "text": [
      "11\n",
      "22\n",
      "33\n",
      "44\n",
      "55\n",
      "66\n",
      "77\n",
      "88\n",
      "99\n",
      "110\n"
     ]
    }
   ],
   "source": [
    "number = int(input(\"Number bata bhai\"))\n",
    "i = 1\n",
    "while i<11:\n",
    "    print(number*i)\n",
    "    i+=1"
   ]
  },
  {
   "cell_type": "markdown",
   "id": "6c5bea99-08f9-4a43-a2cf-6f390e5ad92b",
   "metadata": {
    "jp-MarkdownHeadingCollapsed": true
   },
   "source": [
    "### Guessing Game"
   ]
  },
  {
   "cell_type": "code",
   "execution_count": 15,
   "id": "1c1b36b2-1ece-49c6-8636-16d3f6b69cfd",
   "metadata": {},
   "outputs": [],
   "source": [
    "import random"
   ]
  },
  {
   "cell_type": "code",
   "execution_count": 17,
   "id": "1c809c26-7252-481a-85e7-430f4e2eb73b",
   "metadata": {},
   "outputs": [
    {
     "data": {
      "text/plain": [
       "66"
      ]
     },
     "execution_count": 17,
     "metadata": {},
     "output_type": "execute_result"
    }
   ],
   "source": [
    "random.randint(1,100)"
   ]
  },
  {
   "cell_type": "code",
   "execution_count": 23,
   "id": "edd250ca-2f0d-49fc-9065-45de69c7d0dd",
   "metadata": {},
   "outputs": [
    {
     "name": "stdin",
     "output_type": "stream",
     "text": [
      "Chal beta guess krr 56\n"
     ]
    },
    {
     "name": "stdout",
     "output_type": "stream",
     "text": [
      "Guess Lower\n"
     ]
    },
    {
     "name": "stdin",
     "output_type": "stream",
     "text": [
      "Chal beta guess krr 30\n"
     ]
    },
    {
     "name": "stdout",
     "output_type": "stream",
     "text": [
      "Guess higher\n"
     ]
    },
    {
     "name": "stdin",
     "output_type": "stream",
     "text": [
      "Chal beta guess krr 35\n"
     ]
    },
    {
     "name": "stdout",
     "output_type": "stream",
     "text": [
      "Guess higher\n"
     ]
    },
    {
     "name": "stdin",
     "output_type": "stream",
     "text": [
      "Chal beta guess krr 37\n"
     ]
    },
    {
     "name": "stdout",
     "output_type": "stream",
     "text": [
      "Guess higher\n"
     ]
    },
    {
     "name": "stdin",
     "output_type": "stream",
     "text": [
      "Chal beta guess krr 39\n"
     ]
    },
    {
     "name": "stdout",
     "output_type": "stream",
     "text": [
      "Guess higher\n"
     ]
    },
    {
     "name": "stdin",
     "output_type": "stream",
     "text": [
      "Chal beta guess krr 45\n"
     ]
    },
    {
     "name": "stdout",
     "output_type": "stream",
     "text": [
      "Guess Lower\n"
     ]
    },
    {
     "name": "stdin",
     "output_type": "stream",
     "text": [
      "Chal beta guess krr 44\n"
     ]
    },
    {
     "name": "stdout",
     "output_type": "stream",
     "text": [
      "Guess Lower\n"
     ]
    },
    {
     "name": "stdin",
     "output_type": "stream",
     "text": [
      "Chal beta guess krr 42\n"
     ]
    },
    {
     "name": "stdout",
     "output_type": "stream",
     "text": [
      "Guess higher\n"
     ]
    },
    {
     "name": "stdin",
     "output_type": "stream",
     "text": [
      "Chal beta guess krr 43\n"
     ]
    },
    {
     "name": "stdout",
     "output_type": "stream",
     "text": [
      "Sahi jawab\n",
      "You took 9 attempt\n"
     ]
    }
   ],
   "source": [
    "jackpot = random.randint(1,100)\n",
    "guess = int(input(\"Chal beta guess krr\"))\n",
    "counter =1\n",
    "\n",
    "while jackpot != guess:\n",
    "    if guess < jackpot:\n",
    "        print(\"Guess higher\")\n",
    "    else:\n",
    "        print(\"Guess Lower\")\n",
    "    guess = int(input(\"Chal beta guess krr\"))  \n",
    "    counter+=1\n",
    "print(\"Sahi jawab\")\n",
    "print(\"You took\",counter,\"attempt\")"
   ]
  },
  {
   "cell_type": "markdown",
   "id": "d02e9dd2-5955-4667-b7aa-e0362a32d019",
   "metadata": {
    "jp-MarkdownHeadingCollapsed": true
   },
   "source": [
    "### For loops"
   ]
  },
  {
   "cell_type": "code",
   "execution_count": 28,
   "id": "ed7a086c-a19d-448b-8241-16a33aa2e784",
   "metadata": {},
   "outputs": [
    {
     "data": {
      "text/plain": [
       "[0, 1, 2, 3, 4]"
      ]
     },
     "execution_count": 28,
     "metadata": {},
     "output_type": "execute_result"
    }
   ],
   "source": [
    "# range function\n",
    "list(range(5)) # Start number is automatically assumed to be zero"
   ]
  },
  {
   "cell_type": "code",
   "execution_count": 27,
   "id": "cff38bbf-b71c-498b-9ae1-1c8f86808a51",
   "metadata": {},
   "outputs": [
    {
     "data": {
      "text/plain": [
       "[5, 6, 7, 8, 9]"
      ]
     },
     "execution_count": 27,
     "metadata": {},
     "output_type": "execute_result"
    }
   ],
   "source": [
    "list(range(5,10))\n",
    "\n",
    "# last number is excluded in the range function"
   ]
  },
  {
   "cell_type": "code",
   "execution_count": 31,
   "id": "d50079ae-6689-4a02-a856-7d04b9f509fa",
   "metadata": {},
   "outputs": [
    {
     "data": {
      "text/plain": [
       "(5, 7, 9, 11, 13)"
      ]
     },
     "execution_count": 31,
     "metadata": {},
     "output_type": "execute_result"
    }
   ],
   "source": [
    "# use of step\n",
    "tuple(range(5,15,2)) # here 2 is used as step which gives the gap of 2 between the numbers"
   ]
  },
  {
   "cell_type": "code",
   "execution_count": 34,
   "id": "a56fcf1b-0d7a-4239-9c78-13b634725389",
   "metadata": {},
   "outputs": [
    {
     "data": {
      "text/plain": [
       "[10, 9, 8, 7, 6, 5, 4, 3, 2, 1]"
      ]
     },
     "execution_count": 34,
     "metadata": {},
     "output_type": "execute_result"
    }
   ],
   "source": [
    "list(range(10,0,-1)) # we can also use negative number for backward counting"
   ]
  },
  {
   "cell_type": "code",
   "execution_count": 35,
   "id": "58d5c175-45b0-4528-92fd-f7e0bab56a25",
   "metadata": {},
   "outputs": [],
   "source": [
    "                          # Sequence\n",
    "#In Python, a sequence is an ordered collection of elements, where each element has a specific position (or index) in the sequence.\n",
    "#Sequences allow access to elements by their index and support various operations like slicing, concatenation, and repetition.\n",
    "#Common types of sequences in Python include lists, tuples, strings, and range objects."
   ]
  },
  {
   "cell_type": "code",
   "execution_count": 37,
   "id": "13787bb6-46fd-409c-81af-55d5a32ace60",
   "metadata": {},
   "outputs": [
    {
     "name": "stdout",
     "output_type": "stream",
     "text": [
      "1\n",
      "2\n",
      "3\n",
      "4\n",
      "5\n",
      "6\n",
      "7\n",
      "8\n",
      "9\n",
      "10\n"
     ]
    }
   ],
   "source": [
    "for i in range(1,11):\n",
    "    print(i)\n"
   ]
  },
  {
   "cell_type": "code",
   "execution_count": 38,
   "id": "ebe237da-d968-487c-b0d6-95b7c3a84274",
   "metadata": {},
   "outputs": [
    {
     "name": "stdout",
     "output_type": "stream",
     "text": [
      "k\n",
      "o\n",
      "l\n",
      "k\n",
      "a\n",
      "t\n",
      "a\n"
     ]
    }
   ],
   "source": [
    "for i in \"kolkata\":\n",
    "    print(i)"
   ]
  },
  {
   "cell_type": "code",
   "execution_count": 39,
   "id": "275a30f4-b9a2-449d-ac4a-275669a8fe2a",
   "metadata": {},
   "outputs": [],
   "source": [
    "# If we know how many times out loop will work we should use for loop and if we don't know how many times our loop will work use while loop"
   ]
  },
  {
   "cell_type": "code",
   "execution_count": 52,
   "id": "6cf3702d-6068-4bb6-8bfe-3664262de496",
   "metadata": {},
   "outputs": [
    {
     "name": "stdin",
     "output_type": "stream",
     "text": [
      "Enter the number 6\n"
     ]
    },
    {
     "name": "stdout",
     "output_type": "stream",
     "text": [
      "* \n",
      "* * \n",
      "* * * \n",
      "* * * * \n",
      "* * * * * \n",
      "* * * * * * \n"
     ]
    }
   ],
   "source": [
    "# Nested loops \n",
    "bb = int(input(\"Enter the number\"))\n",
    "\n",
    "for i in range(1 , bb+1):\n",
    "    for j in range(0,i):\n",
    "        print(\"*\",end=\" \")\n",
    "    print(\"\")"
   ]
  },
  {
   "cell_type": "markdown",
   "id": "d3aca91b-fe33-4aa6-b650-1bad9d3d53c0",
   "metadata": {
    "jp-MarkdownHeadingCollapsed": true
   },
   "source": [
    "### Break, continue, pass"
   ]
  },
  {
   "cell_type": "code",
   "execution_count": 54,
   "id": "85c7cff8-7ce7-417c-80e9-5ac66c9c1340",
   "metadata": {},
   "outputs": [
    {
     "name": "stdout",
     "output_type": "stream",
     "text": [
      "1\n",
      "2\n",
      "3\n",
      "4\n"
     ]
    }
   ],
   "source": [
    "# Break --> It stops the loop after the particular condition is met\n",
    "for i in range(1,11):\n",
    "    if i == 5:\n",
    "        break\n",
    "    print(i)"
   ]
  },
  {
   "cell_type": "code",
   "execution_count": 59,
   "id": "b31e3f6c-0adc-47c3-ae3b-88ee3b54ecb6",
   "metadata": {},
   "outputs": [
    {
     "name": "stdout",
     "output_type": "stream",
     "text": [
      "10\n",
      "11\n",
      "12\n",
      "13\n",
      "14\n",
      "15\n",
      "17\n",
      "18\n",
      "19\n",
      "20\n"
     ]
    }
   ],
   "source": [
    "# Continue --> It skips the particular iteration on which we have applied it\n",
    "for i in range(10,21):\n",
    "    if i== 16:\n",
    "        continue\n",
    "    print(i)"
   ]
  },
  {
   "cell_type": "code",
   "execution_count": 63,
   "id": "60257bd5-acd0-470b-8cde-5df09fa8e9d5",
   "metadata": {},
   "outputs": [],
   "source": [
    "# pass --> If we don't want to write any code to any loop or any such condition we use pass to run the rest of the program smoothly\n",
    "for i in range (1,23,3):\n",
    "    pass"
   ]
  },
  {
   "cell_type": "markdown",
   "id": "8868519d-bfa7-48b2-97b0-ada9ae0af2a5",
   "metadata": {
    "jp-MarkdownHeadingCollapsed": true
   },
   "source": [
    "### Funtions and modules in python\n",
    "##### In Python, functions are reusable blocks of code designed to perform specific tasks. They allow you to organize your code, avoid repetition, and improve clarity by breaking down complex problems into smaller, manageable parts. Functions can accept input (arguments), perform operations, and return output (results)."
   ]
  },
  {
   "cell_type": "code",
   "execution_count": 80,
   "id": "39d11359-55a2-4e58-8cda-d8b4b03d7298",
   "metadata": {},
   "outputs": [],
   "source": [
    "# Built in funtions in python"
   ]
  },
  {
   "cell_type": "code",
   "execution_count": 79,
   "id": "acbfd054-f254-452b-a2e0-8de4112ec974",
   "metadata": {},
   "outputs": [
    {
     "name": "stdout",
     "output_type": "stream",
     "text": [
      "Hey, this function can print anything you pass in double or single quotes\n"
     ]
    }
   ],
   "source": [
    "# print()\n",
    "\n",
    "print(\"Hey, this function can print anything you pass in double or single quotes\")"
   ]
  },
  {
   "cell_type": "code",
   "execution_count": 71,
   "id": "8a9659db-f783-4b49-9af5-e3c1e295ba12",
   "metadata": {},
   "outputs": [
    {
     "name": "stdout",
     "output_type": "stream",
     "text": [
      "<class 'int'>\n",
      "<class 'str'>\n",
      "<class 'bool'>\n"
     ]
    }
   ],
   "source": [
    "# type()\n",
    "\n",
    "a=23\n",
    "b='12'\n",
    "c=True\n",
    "print(type(a))\n",
    "print(type(b))\n",
    "print(type(c))"
   ]
  },
  {
   "cell_type": "code",
   "execution_count": 76,
   "id": "af08be7a-2a76-4fe0-9479-4d19d5c7fbf4",
   "metadata": {},
   "outputs": [
    {
     "name": "stdout",
     "output_type": "stream",
     "text": [
      "3\n",
      "23\n",
      "3.5\n"
     ]
    }
   ],
   "source": [
    "# int etc.\n",
    "\n",
    "a=3.5\n",
    "b='23'\n",
    "print(int(a))\n",
    "print(int(b))\n",
    "print(str(a))"
   ]
  },
  {
   "cell_type": "code",
   "execution_count": 78,
   "id": "49243a98-7bbd-4a8f-b24f-fde8c9ca881a",
   "metadata": {},
   "outputs": [
    {
     "data": {
      "text/plain": [
       "454"
      ]
     },
     "execution_count": 78,
     "metadata": {},
     "output_type": "execute_result"
    }
   ],
   "source": [
    "# abs --> prints the absoulute value\n",
    "\n",
    "a=(-454)\n",
    "abs(a)"
   ]
  },
  {
   "cell_type": "code",
   "execution_count": 82,
   "id": "5cabe199-d28a-4335-8bb4-b59c941b8bc7",
   "metadata": {},
   "outputs": [
    {
     "data": {
      "text/plain": [
       "8"
      ]
     },
     "execution_count": 82,
     "metadata": {},
     "output_type": "execute_result"
    }
   ],
   "source": [
    "# power\n",
    "\n",
    "pow(2,3)"
   ]
  },
  {
   "cell_type": "code",
   "execution_count": 86,
   "id": "d0341763-985c-4f49-b4cb-354296f2372d",
   "metadata": {},
   "outputs": [
    {
     "name": "stdout",
     "output_type": "stream",
     "text": [
      "2\n",
      "4342\n",
      "u\n",
      "a\n"
     ]
    }
   ],
   "source": [
    "# min/max --> can work on both string as well as integer\n",
    "\n",
    "print(min([23,345,45,2,23,9]))\n",
    "print(max((23,53,5,54,54,5,45,4,545,4342)))\n",
    "print(max(\"mumbai\"))\n",
    "print(min(\"dhokla\"))"
   ]
  },
  {
   "cell_type": "code",
   "execution_count": 88,
   "id": "521a310e-6cd9-4e63-b5d8-75640fb7c68c",
   "metadata": {},
   "outputs": [
    {
     "data": {
      "text/plain": [
       "3.14"
      ]
     },
     "execution_count": 88,
     "metadata": {},
     "output_type": "execute_result"
    }
   ],
   "source": [
    "# round   --> round off the decimal part\n",
    "\n",
    "a=22/7\n",
    "round(a,2)"
   ]
  },
  {
   "cell_type": "code",
   "execution_count": 89,
   "id": "b24a23d8-84d1-469e-9dd0-76236fb517ea",
   "metadata": {},
   "outputs": [
    {
     "data": {
      "text/plain": [
       "(2, 1)"
      ]
     },
     "execution_count": 89,
     "metadata": {},
     "output_type": "execute_result"
    }
   ],
   "source": [
    "# divmod --> returns the remainder(%) as well as value without decimal place after division(//)\n",
    "\n",
    "divmod(5,2)"
   ]
  },
  {
   "cell_type": "code",
   "execution_count": 90,
   "id": "70e912d9-8a59-4d5c-84ff-3fe16571e382",
   "metadata": {},
   "outputs": [
    {
     "name": "stdout",
     "output_type": "stream",
     "text": [
      "0b100110000000\n",
      "0o55577\n",
      "0xe8\n"
     ]
    }
   ],
   "source": [
    "# bin/oct/hex\n",
    "\n",
    "print(bin(2432))\n",
    "print(oct(23423))\n",
    "print(hex(232))"
   ]
  },
  {
   "cell_type": "code",
   "execution_count": 93,
   "id": "8728aa49-d7b3-47c7-85e6-026087ecbcb1",
   "metadata": {},
   "outputs": [
    {
     "data": {
      "text/plain": [
       "2014863651504"
      ]
     },
     "execution_count": 93,
     "metadata": {},
     "output_type": "execute_result"
    }
   ],
   "source": [
    "# id  --> It tells the id of location at which this value is stored in memory\n",
    "\n",
    "a=2334\n",
    "id(a)"
   ]
  },
  {
   "cell_type": "code",
   "execution_count": 95,
   "id": "89b3ca05-f7e5-4906-98dc-b32e49471b8b",
   "metadata": {},
   "outputs": [
    {
     "name": "stdout",
     "output_type": "stream",
     "text": [
      "66\n",
      "103\n"
     ]
    }
   ],
   "source": [
    "# ord --> It gives the ASCII value of any string\n",
    "\n",
    "print(ord('B'))\n",
    "print(ord('g'))"
   ]
  },
  {
   "cell_type": "code",
   "execution_count": 97,
   "id": "9b52cf93-4155-4f92-b90e-2a5ae7b3ce62",
   "metadata": {},
   "outputs": [
    {
     "name": "stdout",
     "output_type": "stream",
     "text": [
      "10\n"
     ]
    }
   ],
   "source": [
    "# len()  --> gives the length of any tuple, list ,variable, string\n",
    "\n",
    "print(len([23,234,34,34,34,233,4,234,234234,54]))"
   ]
  },
  {
   "cell_type": "code",
   "execution_count": 98,
   "id": "37ba9d43-2fad-420f-8851-8dfb32bfe133",
   "metadata": {},
   "outputs": [
    {
     "name": "stdout",
     "output_type": "stream",
     "text": [
      "38121\n"
     ]
    }
   ],
   "source": [
    "# sum()   --> sum() function returns  the sum of all the values presnt in any list, tuple, dicrionary etc....\n",
    "\n",
    "print(sum([35423,34,34,24,234,23,4,2334,2,9]))"
   ]
  },
  {
   "cell_type": "code",
   "execution_count": 99,
   "id": "7c2ccc9c-8aee-43c2-825d-f6ea1ebab001",
   "metadata": {},
   "outputs": [
    {
     "name": "stdout",
     "output_type": "stream",
     "text": [
      "Help on method raw_input in module ipykernel.kernelbase:\n",
      "\n",
      "input = raw_input(prompt='') method of ipykernel.ipkernel.IPythonKernel instance\n",
      "    Forward raw_input to frontends\n",
      "\n",
      "    Raises\n",
      "    ------\n",
      "    StdinNotImplementedError if active frontend doesn't support stdin.\n",
      "\n"
     ]
    }
   ],
   "source": [
    "# help()  --> help funtion helps us to read about the properties of any other function presnt in python \n",
    "\n",
    "help('input')"
   ]
  },
  {
   "cell_type": "markdown",
   "id": "afa2ce6b-5815-4e3b-94d0-9b81502a7c16",
   "metadata": {
    "jp-MarkdownHeadingCollapsed": true
   },
   "source": [
    "\n",
    "\n",
    "### Build in modules in python --> math, random, os, time\n",
    "\n",
    "###### module--> A file containing set of functions you want to include in your program/application\n"
   ]
  },
  {
   "cell_type": "code",
   "execution_count": null,
   "id": "c8669671-3a84-4f48-9688-6a43279a062b",
   "metadata": {},
   "outputs": [
    {
     "name": "stdout",
     "output_type": "stream",
     "text": [
      "\n",
      "Please wait a moment while I gather a list of all available modules...\n",
      "\n"
     ]
    }
   ],
   "source": [
    "help('modules')"
   ]
  },
  {
   "cell_type": "code",
   "execution_count": 1,
   "id": "583ec583-434c-4091-8592-0e5ed5ad89e0",
   "metadata": {},
   "outputs": [],
   "source": [
    "import math"
   ]
  },
  {
   "cell_type": "code",
   "execution_count": 2,
   "id": "88b4f589-6667-4821-a5ee-49b5fbac5d6b",
   "metadata": {},
   "outputs": [
    {
     "data": {
      "text/plain": [
       "3.141592653589793"
      ]
     },
     "execution_count": 2,
     "metadata": {},
     "output_type": "execute_result"
    }
   ],
   "source": [
    "math.pi"
   ]
  },
  {
   "cell_type": "code",
   "execution_count": 3,
   "id": "53131781-6c9b-4738-b013-c10f90e97917",
   "metadata": {},
   "outputs": [
    {
     "data": {
      "text/plain": [
       "2.718281828459045"
      ]
     },
     "execution_count": 3,
     "metadata": {},
     "output_type": "execute_result"
    }
   ],
   "source": [
    "math.e"
   ]
  },
  {
   "cell_type": "code",
   "execution_count": 4,
   "id": "109e2d95-1ea1-4978-ac5c-1c28323615da",
   "metadata": {},
   "outputs": [
    {
     "data": {
      "text/plain": [
       "120"
      ]
     },
     "execution_count": 4,
     "metadata": {},
     "output_type": "execute_result"
    }
   ],
   "source": [
    "math.factorial(5)"
   ]
  },
  {
   "cell_type": "code",
   "execution_count": 5,
   "id": "3d219329-6ffc-4051-b16b-178b8b5394e1",
   "metadata": {},
   "outputs": [
    {
     "data": {
      "text/plain": [
       "6"
      ]
     },
     "execution_count": 5,
     "metadata": {},
     "output_type": "execute_result"
    }
   ],
   "source": [
    "math.ceil(5.5)"
   ]
  },
  {
   "cell_type": "code",
   "execution_count": 6,
   "id": "2c72aa6a-30d9-4db2-b459-2f0e057c29ab",
   "metadata": {},
   "outputs": [
    {
     "data": {
      "text/plain": [
       "5"
      ]
     },
     "execution_count": 6,
     "metadata": {},
     "output_type": "execute_result"
    }
   ],
   "source": [
    "math.floor(5.9)"
   ]
  },
  {
   "cell_type": "code",
   "execution_count": 7,
   "id": "62dd1954-5c7e-4bef-bae7-6717e96f2db1",
   "metadata": {},
   "outputs": [
    {
     "data": {
      "text/plain": [
       "10.0"
      ]
     },
     "execution_count": 7,
     "metadata": {},
     "output_type": "execute_result"
    }
   ],
   "source": [
    "math.sqrt(100)"
   ]
  },
  {
   "cell_type": "code",
   "execution_count": 23,
   "id": "e26175f4-eaf6-4ed7-95e9-cb4152b940e5",
   "metadata": {},
   "outputs": [],
   "source": [
    "\n",
    "# Random module\n"
   ]
  },
  {
   "cell_type": "code",
   "execution_count": 8,
   "id": "2d0db5b5-b186-4090-b65c-07b7a02c291d",
   "metadata": {},
   "outputs": [],
   "source": [
    "import random"
   ]
  },
  {
   "cell_type": "code",
   "execution_count": 9,
   "id": "fb0ea5d0-e59b-430e-92b7-ec02a997954b",
   "metadata": {},
   "outputs": [
    {
     "data": {
      "text/plain": [
       "14"
      ]
     },
     "execution_count": 9,
     "metadata": {},
     "output_type": "execute_result"
    }
   ],
   "source": [
    "random.randint(1,23)"
   ]
  },
  {
   "cell_type": "code",
   "execution_count": 13,
   "id": "ddc16402-942e-4a16-b73b-1bdef8a7598b",
   "metadata": {},
   "outputs": [
    {
     "data": {
      "text/plain": [
       "[3, 23, 23, 2, 3, 23, 2, 23, 23, 24, 2, 4]"
      ]
     },
     "execution_count": 13,
     "metadata": {},
     "output_type": "execute_result"
    }
   ],
   "source": [
    "a=[23,23,4,23,23,2,3,23,2,3,24,2]\n",
    "random.shuffle(a)           # It shuffles the list,tuple in different way every time we run it\n",
    "a"
   ]
  },
  {
   "cell_type": "code",
   "execution_count": 25,
   "id": "69c3c668-bc64-4c79-90e7-19f8b7c6e75d",
   "metadata": {},
   "outputs": [],
   "source": [
    "\n",
    "# time module\n"
   ]
  },
  {
   "cell_type": "code",
   "execution_count": 14,
   "id": "c99ccc64-4537-4092-a2e7-1f425292d10f",
   "metadata": {},
   "outputs": [],
   "source": [
    "import time"
   ]
  },
  {
   "cell_type": "code",
   "execution_count": 16,
   "id": "185724ba-8c47-4de6-b694-d2f59530657e",
   "metadata": {},
   "outputs": [
    {
     "data": {
      "text/plain": [
       "1726286174.480633"
      ]
     },
     "execution_count": 16,
     "metadata": {},
     "output_type": "execute_result"
    }
   ],
   "source": [
    "# time.time() is a function from the time module that returns the current time in seconds since the epoch (which is January 1, 1970, 00:00:00 UTC). \n",
    "\n",
    "time.time()  "
   ]
  },
  {
   "cell_type": "code",
   "execution_count": 17,
   "id": "ad08f4e3-54ea-4077-b0db-83121462fda6",
   "metadata": {},
   "outputs": [
    {
     "data": {
      "text/plain": [
       "'Sat Sep 14 09:26:46 2024'"
      ]
     },
     "execution_count": 17,
     "metadata": {},
     "output_type": "execute_result"
    }
   ],
   "source": [
    "# current time\n",
    "\n",
    "time.ctime()"
   ]
  },
  {
   "cell_type": "code",
   "execution_count": 20,
   "id": "23e7ba78-9d42-46eb-9234-19bdeced6826",
   "metadata": {},
   "outputs": [
    {
     "name": "stdout",
     "output_type": "stream",
     "text": [
      "hello\n",
      "world\n"
     ]
    }
   ],
   "source": [
    "print(\"hello\")\n",
    "time.sleep(2)  # takes 2 second to print the another result\n",
    "print('world')"
   ]
  },
  {
   "cell_type": "code",
   "execution_count": 26,
   "id": "7f23dde2-a1db-48c9-8195-add2161371e2",
   "metadata": {},
   "outputs": [],
   "source": [
    "\n",
    "# os moduke\n"
   ]
  },
  {
   "cell_type": "code",
   "execution_count": 21,
   "id": "91a03154-acea-48ba-8ad7-159de2760927",
   "metadata": {},
   "outputs": [],
   "source": [
    "import os"
   ]
  },
  {
   "cell_type": "code",
   "execution_count": 28,
   "id": "1661d9e7-4647-4cac-85db-815643252f6f",
   "metadata": {},
   "outputs": [
    {
     "data": {
      "text/plain": [
       "'C:\\\\Users\\\\vipul\\\\Python from Basics to advanced'"
      ]
     },
     "execution_count": 28,
     "metadata": {},
     "output_type": "execute_result"
    }
   ],
   "source": [
    "os.getcwd()  # get the current working directory"
   ]
  },
  {
   "cell_type": "code",
   "execution_count": 30,
   "id": "0c1a6b25-0fd9-4d73-b213-1faf1b0fc5d1",
   "metadata": {},
   "outputs": [
    {
     "data": {
      "text/plain": [
       "['.ipynb_checkpoints', '5_days_python.ipynb']"
      ]
     },
     "execution_count": 30,
     "metadata": {},
     "output_type": "execute_result"
    }
   ],
   "source": [
    "os.listdir()   # prints all the files presnt in current directory"
   ]
  },
  {
   "cell_type": "markdown",
   "id": "6fb9e1d9-0b96-4593-af48-0eeb427c2fef",
   "metadata": {
    "jp-MarkdownHeadingCollapsed": true
   },
   "source": [
    "### Strings in pyton\n",
    "##### Strings are sequence of characters \n",
    "##### In python specially strings are sequence of Unicode(Initially it was ASCII) characters"
   ]
  },
  {
   "cell_type": "code",
   "execution_count": 2,
   "id": "bc9a5115-2de7-4607-b71c-388fce867373",
   "metadata": {},
   "outputs": [
    {
     "name": "stdout",
     "output_type": "stream",
     "text": [
      "Hello\n"
     ]
    }
   ],
   "source": [
    "c=\"Hello\"\n",
    "print(c)"
   ]
  },
  {
   "cell_type": "code",
   "execution_count": 4,
   "id": "d64293ed-16e8-4c50-8e67-a81ce0c93c16",
   "metadata": {},
   "outputs": [
    {
     "name": "stdout",
     "output_type": "stream",
     "text": [
      "H\n"
     ]
    }
   ],
   "source": [
    "# Positive indexing starts from 1\n",
    "print(c[0])"
   ]
  },
  {
   "cell_type": "code",
   "execution_count": 5,
   "id": "b6effd2f-f9a5-42fa-b258-0aab20a277bd",
   "metadata": {},
   "outputs": [
    {
     "name": "stdout",
     "output_type": "stream",
     "text": [
      "o\n"
     ]
    }
   ],
   "source": [
    "# Negative indexing starts from right and move towards left and last digit in string is -1\n",
    "print(c[-1])"
   ]
  },
  {
   "cell_type": "code",
   "execution_count": 6,
   "id": "769fa910-03aa-4b82-a4f6-62f66ffd5600",
   "metadata": {},
   "outputs": [
    {
     "name": "stdout",
     "output_type": "stream",
     "text": [
      "Hello World\n"
     ]
    }
   ],
   "source": [
    "# Slicing \n",
    "a = \"Hello World\"\n",
    "print(a)"
   ]
  },
  {
   "cell_type": "code",
   "execution_count": 7,
   "id": "88c5024f-adb0-41a9-bbe8-8ef60269ca5a",
   "metadata": {},
   "outputs": [
    {
     "name": "stdout",
     "output_type": "stream",
     "text": [
      "Hello\n"
     ]
    }
   ],
   "source": [
    "print(a[0:5])"
   ]
  },
  {
   "cell_type": "code",
   "execution_count": 8,
   "id": "b233c97f-82bd-4c2a-bab6-e14711f7a06b",
   "metadata": {},
   "outputs": [
    {
     "name": "stdout",
     "output_type": "stream",
     "text": [
      " World\n"
     ]
    }
   ],
   "source": [
    "print(a[5:11])"
   ]
  },
  {
   "cell_type": "code",
   "execution_count": 9,
   "id": "015fa4fa-a2a6-4731-b4ec-59e6e6b94535",
   "metadata": {},
   "outputs": [
    {
     "name": "stdout",
     "output_type": "stream",
     "text": [
      "llo World\n"
     ]
    }
   ],
   "source": [
    "print(a[2:])"
   ]
  },
  {
   "cell_type": "code",
   "execution_count": 10,
   "id": "4df3b711-e733-42ea-bc4d-0a40069b3242",
   "metadata": {},
   "outputs": [
    {
     "name": "stdout",
     "output_type": "stream",
     "text": [
      "Hello Worl\n"
     ]
    }
   ],
   "source": [
    "print(a[:10])"
   ]
  },
  {
   "cell_type": "code",
   "execution_count": 11,
   "id": "4197c77c-5d07-4050-89e0-dc2310bcde43",
   "metadata": {},
   "outputs": [
    {
     "name": "stdout",
     "output_type": "stream",
     "text": [
      "HlWl\n"
     ]
    }
   ],
   "source": [
    "print(a[0:11:3])"
   ]
  },
  {
   "cell_type": "code",
   "execution_count": 13,
   "id": "28f3090e-e443-4e35-8e73-7c17c947d6d2",
   "metadata": {},
   "outputs": [
    {
     "name": "stdout",
     "output_type": "stream",
     "text": [
      "dlroW olleH\n"
     ]
    }
   ],
   "source": [
    "# It reverses the string \n",
    "print(a[::-1])"
   ]
  },
  {
   "cell_type": "code",
   "execution_count": 14,
   "id": "10c9107b-e90c-4990-86ba-e091adc33933",
   "metadata": {},
   "outputs": [],
   "source": [
    "# Strings are immutable data type\n",
    "# In strings we cannot add new character , we can't delete specified index charcter , we can only delete whole string using del"
   ]
  },
  {
   "cell_type": "code",
   "execution_count": 17,
   "id": "07dee651-3a06-4643-b20e-67ba9736a90b",
   "metadata": {},
   "outputs": [
    {
     "data": {
      "text/plain": [
       "'Hello World'"
      ]
     },
     "execution_count": 17,
     "metadata": {},
     "output_type": "execute_result"
    }
   ],
   "source": [
    "# operations in strnigs\n",
    "\n",
    "\"Hello\" + \" \" + \"World\" # Contatenation"
   ]
  },
  {
   "cell_type": "code",
   "execution_count": 18,
   "id": "e785a90f-8275-46c0-a81b-59f72cc6bd5b",
   "metadata": {},
   "outputs": [
    {
     "name": "stdout",
     "output_type": "stream",
     "text": [
      "**********\n"
     ]
    }
   ],
   "source": [
    "print(\"*\"*10)"
   ]
  },
  {
   "cell_type": "code",
   "execution_count": 21,
   "id": "b753974c-dad1-44f1-b333-a8d4fd9a9b35",
   "metadata": {},
   "outputs": [
    {
     "name": "stdout",
     "output_type": "stream",
     "text": [
      "hellohellohellohellohellohellohellohellohellohello\n"
     ]
    }
   ],
   "source": [
    "print(\"hello\"*10)\n",
    "\n",
    "# We can use + and * operator in strings "
   ]
  },
  {
   "cell_type": "code",
   "execution_count": 23,
   "id": "b9eb58fa-7a32-4e27-a7d2-2aa7f90f1104",
   "metadata": {},
   "outputs": [
    {
     "data": {
      "text/plain": [
       "False"
      ]
     },
     "execution_count": 23,
     "metadata": {},
     "output_type": "execute_result"
    }
   ],
   "source": [
    "# Lexiographically --> It means the word which comes first according to dictionary is greater\n",
    "\n",
    "\"Muzaffarnagar\">\"shamli\""
   ]
  },
  {
   "cell_type": "code",
   "execution_count": 25,
   "id": "d0d6e2a7-c6b6-4cd2-9b36-883bb9d87bf6",
   "metadata": {},
   "outputs": [
    {
     "data": {
      "text/plain": [
       "True"
      ]
     },
     "execution_count": 25,
     "metadata": {},
     "output_type": "execute_result"
    }
   ],
   "source": [
    "\"Delhi\" < \"Haryana\""
   ]
  },
  {
   "cell_type": "code",
   "execution_count": 27,
   "id": "06b55e48-593b-4923-988d-dc93afa40be0",
   "metadata": {},
   "outputs": [
    {
     "data": {
      "text/plain": [
       "True"
      ]
     },
     "execution_count": 27,
     "metadata": {},
     "output_type": "execute_result"
    }
   ],
   "source": [
    "\"kol\" > \"Kol\"  # Small letters ocmes first and capital letter comes later"
   ]
  },
  {
   "cell_type": "code",
   "execution_count": 28,
   "id": "36732541-53ec-4cf2-9d45-1d9401fa3a5c",
   "metadata": {},
   "outputs": [],
   "source": [
    "                                             # Using logical operators with string\n",
    "# Any empty sting \" \" in python is by default assumed as False(0)\n",
    "# Any non-empty sting \"dfjkdhfjksh\" in python is by default assumed as True(1)"
   ]
  },
  {
   "cell_type": "code",
   "execution_count": 29,
   "id": "27f0e514-720d-4f7f-8a73-7c57f3877c96",
   "metadata": {},
   "outputs": [
    {
     "data": {
      "text/plain": [
       "''"
      ]
     },
     "execution_count": 29,
     "metadata": {},
     "output_type": "execute_result"
    }
   ],
   "source": [
    "\"\" and \"dfk\"\n",
    "# False(0) and True(1) --> It will return False"
   ]
  },
  {
   "cell_type": "code",
   "execution_count": 30,
   "id": "a30eb693-22f3-4d84-81e1-88925b3154ac",
   "metadata": {},
   "outputs": [
    {
     "data": {
      "text/plain": [
       "'gfsdgsa'"
      ]
     },
     "execution_count": 30,
     "metadata": {},
     "output_type": "execute_result"
    }
   ],
   "source": [
    "\"\" or \"gfsdgsa\""
   ]
  },
  {
   "cell_type": "code",
   "execution_count": 31,
   "id": "e1c138dd-6a1a-4f91-954e-303b3aebecb9",
   "metadata": {},
   "outputs": [
    {
     "data": {
      "text/plain": [
       "True"
      ]
     },
     "execution_count": 31,
     "metadata": {},
     "output_type": "execute_result"
    }
   ],
   "source": [
    "not \"\""
   ]
  },
  {
   "cell_type": "code",
   "execution_count": 32,
   "id": "b910b362-c813-43c1-97bb-3f42581c6e69",
   "metadata": {},
   "outputs": [
    {
     "name": "stdout",
     "output_type": "stream",
     "text": [
      "H\n",
      "e\n",
      "l\n",
      "l\n",
      "o\n",
      " \n",
      "W\n",
      "o\n",
      "r\n",
      "l\n",
      "d\n"
     ]
    }
   ],
   "source": [
    "c = \"Hello World\"\n",
    "for i in c:\n",
    "    print(i)"
   ]
  },
  {
   "cell_type": "code",
   "execution_count": 34,
   "id": "5803deed-0585-4d60-9dc7-40c8d91b7a35",
   "metadata": {},
   "outputs": [
    {
     "data": {
      "text/plain": [
       "True"
      ]
     },
     "execution_count": 34,
     "metadata": {},
     "output_type": "execute_result"
    }
   ],
   "source": [
    "# Membership operators\n",
    "\"H\" in c"
   ]
  },
  {
   "cell_type": "code",
   "execution_count": 35,
   "id": "55e77d84-04f4-4e0b-b82b-8b67f8f1970a",
   "metadata": {},
   "outputs": [
    {
     "data": {
      "text/plain": [
       "False"
      ]
     },
     "execution_count": 35,
     "metadata": {},
     "output_type": "execute_result"
    }
   ],
   "source": [
    "\"Y\" in c"
   ]
  },
  {
   "cell_type": "markdown",
   "id": "64fe0bf6-1f39-44d8-a13a-949b105d7fea",
   "metadata": {
    "jp-MarkdownHeadingCollapsed": true
   },
   "source": [
    "### Functions in Stings"
   ]
  },
  {
   "cell_type": "code",
   "execution_count": 45,
   "id": "550941e9-88e0-44ba-944e-945e4ec0ce6c",
   "metadata": {},
   "outputs": [],
   "source": [
    "# Common functions\n",
    "\n",
    "c =\"Hello World\""
   ]
  },
  {
   "cell_type": "code",
   "execution_count": 38,
   "id": "bb95da87-287a-46d0-8834-29db36e25999",
   "metadata": {},
   "outputs": [
    {
     "data": {
      "text/plain": [
       "11"
      ]
     },
     "execution_count": 38,
     "metadata": {},
     "output_type": "execute_result"
    }
   ],
   "source": [
    "len(c)"
   ]
  },
  {
   "cell_type": "code",
   "execution_count": 41,
   "id": "5dd4fa1d-ecb6-4966-a961-f46d8eea03fa",
   "metadata": {},
   "outputs": [
    {
     "data": {
      "text/plain": [
       "'r'"
      ]
     },
     "execution_count": 41,
     "metadata": {},
     "output_type": "execute_result"
    }
   ],
   "source": [
    "max(c) # Tells the maximum according to ASCII"
   ]
  },
  {
   "cell_type": "code",
   "execution_count": 46,
   "id": "b2c2fe7c-6969-4f64-a9fb-ed5174b60524",
   "metadata": {},
   "outputs": [
    {
     "data": {
      "text/plain": [
       "' '"
      ]
     },
     "execution_count": 46,
     "metadata": {},
     "output_type": "execute_result"
    }
   ],
   "source": [
    "min(c)"
   ]
  },
  {
   "cell_type": "code",
   "execution_count": 48,
   "id": "12cb69c8-92c5-458d-877d-ce7c37402e69",
   "metadata": {},
   "outputs": [
    {
     "data": {
      "text/plain": [
       "[' ', 'H', 'W', 'd', 'e', 'l', 'l', 'l', 'o', 'o', 'r']"
      ]
     },
     "execution_count": 48,
     "metadata": {},
     "output_type": "execute_result"
    }
   ],
   "source": [
    "sorted(c) # Print sorted according to their ASCII values"
   ]
  },
  {
   "cell_type": "code",
   "execution_count": 49,
   "id": "0088e95d-9da7-4e9a-8148-fe17d3b14aad",
   "metadata": {},
   "outputs": [
    {
     "data": {
      "text/plain": [
       "['r', 'o', 'o', 'l', 'l', 'l', 'e', 'd', 'W', 'H', ' ']"
      ]
     },
     "execution_count": 49,
     "metadata": {},
     "output_type": "execute_result"
    }
   ],
   "source": [
    "sorted(c,reverse=True)"
   ]
  },
  {
   "cell_type": "code",
   "execution_count": 50,
   "id": "d46642a7-cbe3-4bd1-8442-9ada2675f430",
   "metadata": {},
   "outputs": [],
   "source": [
    "# Capitalize/Upper/Lower/Swapcase"
   ]
  },
  {
   "cell_type": "code",
   "execution_count": 51,
   "id": "82340cf6-40fd-4fcf-b07f-66327109374b",
   "metadata": {},
   "outputs": [],
   "source": [
    "c=\"it is raining today\""
   ]
  },
  {
   "cell_type": "code",
   "execution_count": 53,
   "id": "cb0107e3-c6a0-4dcd-9521-d79891b59434",
   "metadata": {},
   "outputs": [
    {
     "data": {
      "text/plain": [
       "'It is raining today'"
      ]
     },
     "execution_count": 53,
     "metadata": {},
     "output_type": "execute_result"
    }
   ],
   "source": [
    "c.capitalize() # Makes the first letter Capital of any sentence "
   ]
  },
  {
   "cell_type": "code",
   "execution_count": 55,
   "id": "71e8d3cc-2a67-46e4-b784-df776cfaa9e0",
   "metadata": {},
   "outputs": [
    {
     "data": {
      "text/plain": [
       "'It Is Raining Today'"
      ]
     },
     "execution_count": 55,
     "metadata": {},
     "output_type": "execute_result"
    }
   ],
   "source": [
    "c.title()  # Makes the first letter capital of every word in the sentence"
   ]
  },
  {
   "cell_type": "code",
   "execution_count": 57,
   "id": "916f881b-7195-4034-864b-9e4f1425dcad",
   "metadata": {},
   "outputs": [
    {
     "data": {
      "text/plain": [
       "'IT IS RAINING TODAY'"
      ]
     },
     "execution_count": 57,
     "metadata": {},
     "output_type": "execute_result"
    }
   ],
   "source": [
    "c.upper() # Converts the whole sentence into capital"
   ]
  },
  {
   "cell_type": "code",
   "execution_count": 59,
   "id": "38142608-b452-491f-82ae-1e72c46205b3",
   "metadata": {},
   "outputs": [
    {
     "data": {
      "text/plain": [
       "'it is raining today'"
      ]
     },
     "execution_count": 59,
     "metadata": {},
     "output_type": "execute_result"
    }
   ],
   "source": [
    "c.lower() # Converts the whole sentence into smaller alphabets"
   ]
  },
  {
   "cell_type": "code",
   "execution_count": 61,
   "id": "cd83d895-02e8-405c-8a8e-bdf49ffa0085",
   "metadata": {},
   "outputs": [
    {
     "data": {
      "text/plain": [
       "'IT IS RAINING TODAY'"
      ]
     },
     "execution_count": 61,
     "metadata": {},
     "output_type": "execute_result"
    }
   ],
   "source": [
    "c.swapcase() # Converts Upper to lower and lower to upper case"
   ]
  },
  {
   "cell_type": "code",
   "execution_count": 63,
   "id": "a598ccde-0904-48ea-8d2a-300048551333",
   "metadata": {},
   "outputs": [
    {
     "data": {
      "text/plain": [
       "2"
      ]
     },
     "execution_count": 63,
     "metadata": {},
     "output_type": "execute_result"
    }
   ],
   "source": [
    "# To find the frequency of any substring in any string \n",
    "c.count(\"t\")"
   ]
  },
  {
   "cell_type": "code",
   "execution_count": 67,
   "id": "3fcfc442-ca88-456b-a402-452608f82941",
   "metadata": {},
   "outputs": [
    {
     "data": {
      "text/plain": [
       "1"
      ]
     },
     "execution_count": 67,
     "metadata": {},
     "output_type": "execute_result"
    }
   ],
   "source": [
    "# Find/index  --> Gives the index of any substring and if we have more than 1 character of same type then it will give the index of 1st one\n",
    "c.find(\"t\")"
   ]
  },
  {
   "cell_type": "code",
   "execution_count": 68,
   "id": "192638a6-389a-4659-9aad-ed5169c5cc69",
   "metadata": {},
   "outputs": [
    {
     "data": {
      "text/plain": [
       "True"
      ]
     },
     "execution_count": 68,
     "metadata": {},
     "output_type": "execute_result"
    }
   ],
   "source": [
    "c.endswith(\"today\")"
   ]
  },
  {
   "cell_type": "code",
   "execution_count": 69,
   "id": "bb8e053e-d83b-4019-b950-99cd0d4a63ed",
   "metadata": {},
   "outputs": [
    {
     "data": {
      "text/plain": [
       "True"
      ]
     },
     "execution_count": 69,
     "metadata": {},
     "output_type": "execute_result"
    }
   ],
   "source": [
    "c.startswith(\"it\")"
   ]
  },
  {
   "cell_type": "code",
   "execution_count": 70,
   "id": "b176938d-41e9-4034-b316-9b9cfc4f208b",
   "metadata": {},
   "outputs": [
    {
     "data": {
      "text/plain": [
       "False"
      ]
     },
     "execution_count": 70,
     "metadata": {},
     "output_type": "execute_result"
    }
   ],
   "source": [
    "c.endswith('dff')"
   ]
  },
  {
   "cell_type": "code",
   "execution_count": 73,
   "id": "a92e1e61-abe0-4113-9f3b-b436463a30d9",
   "metadata": {},
   "outputs": [
    {
     "data": {
      "text/plain": [
       "'Hello my name is Vipul and I am 35 years old'"
      ]
     },
     "execution_count": 73,
     "metadata": {},
     "output_type": "execute_result"
    }
   ],
   "source": [
    "# format\n",
    "\n",
    "a=\"Hello my name is {} and I am {} years old\"\n",
    "a.format(\"Vipul\", 35)"
   ]
  },
  {
   "cell_type": "code",
   "execution_count": 75,
   "id": "bf9faf9d-619c-44c8-873b-65b0f319cf50",
   "metadata": {},
   "outputs": [
    {
     "data": {
      "text/plain": [
       "'Hello my name is 35 and I am Vipul years old'"
      ]
     },
     "execution_count": 75,
     "metadata": {},
     "output_type": "execute_result"
    }
   ],
   "source": [
    "a=\"Hello my name is {1} and I am {0} years old\"\n",
    "a.format(\"Vipul\", 35)                      # It uses the index and prints accordingly , we changed the index and see the results"
   ]
  },
  {
   "cell_type": "code",
   "execution_count": 76,
   "id": "e5d43a21-4750-4a18-ba48-bd237bf2e261",
   "metadata": {},
   "outputs": [
    {
     "data": {
      "text/plain": [
       "'Hello my name is Vipul and I am 35 years old'"
      ]
     },
     "execution_count": 76,
     "metadata": {},
     "output_type": "execute_result"
    }
   ],
   "source": [
    "a=\"Hello my name is {name} and I am {age} years old\"\n",
    "a.format(name=\"Vipul\", age=35)"
   ]
  },
  {
   "cell_type": "code",
   "execution_count": 78,
   "id": "1e4d56eb-089a-424b-956c-ed18d71be20d",
   "metadata": {},
   "outputs": [
    {
     "data": {
      "text/plain": [
       "True"
      ]
     },
     "execution_count": 78,
     "metadata": {},
     "output_type": "execute_result"
    }
   ],
   "source": [
    "\"Flat20\".isalnum()  # checks if string is the combination of both alphabet and numeric "
   ]
  },
  {
   "cell_type": "code",
   "execution_count": 81,
   "id": "f9595a38-7bf0-4eeb-8d24-8903728efede",
   "metadata": {},
   "outputs": [
    {
     "name": "stdout",
     "output_type": "stream",
     "text": [
      "True\n",
      "False\n"
     ]
    }
   ],
   "source": [
    "print(\"hafhdjhsjh\".isalpha())\n",
    "print(\"djfksjdfkj398498\".isalpha())"
   ]
  },
  {
   "cell_type": "code",
   "execution_count": 82,
   "id": "42a18d4e-a74b-4a49-89f7-c6f7b99fa0c5",
   "metadata": {},
   "outputs": [
    {
     "data": {
      "text/plain": [
       "True"
      ]
     },
     "execution_count": 82,
     "metadata": {},
     "output_type": "execute_result"
    }
   ],
   "source": [
    "\"2323\".isdigit()"
   ]
  },
  {
   "cell_type": "code",
   "execution_count": 86,
   "id": "c9c0c6d8-379d-4541-8391-4673f59e22dd",
   "metadata": {},
   "outputs": [
    {
     "name": "stdout",
     "output_type": "stream",
     "text": [
      "False\n",
      "True\n"
     ]
    }
   ],
   "source": [
    "print(\"hello world\".isidentifier())\n",
    "print(\"hello_world\".isidentifier())  # Checks whether it can be used as an identifier in python or not"
   ]
  },
  {
   "cell_type": "code",
   "execution_count": 94,
   "id": "ea658bbd-68b3-4550-b395-14b7833e2536",
   "metadata": {},
   "outputs": [
    {
     "data": {
      "text/plain": [
       "['Hey',\n",
       " 'this',\n",
       " 'is',\n",
       " 'vipul',\n",
       " 'baliyan',\n",
       " 'an',\n",
       " 'aspiring',\n",
       " 'data',\n",
       " 'scientist']"
      ]
     },
     "execution_count": 94,
     "metadata": {},
     "output_type": "execute_result"
    }
   ],
   "source": [
    "# split(0) --> It converts the string into a list \n",
    "\n",
    "\"Hey this is vipul baliyan an aspiring data scientist\".split()"
   ]
  },
  {
   "cell_type": "code",
   "execution_count": 101,
   "id": "3d20ae0e-c08c-4d6a-a25e-ac608ab9a794",
   "metadata": {},
   "outputs": [
    {
     "data": {
      "text/plain": [
       "'Hey this is vipul baliyan an aspiring data scientist'"
      ]
     },
     "execution_count": 101,
     "metadata": {},
     "output_type": "execute_result"
    }
   ],
   "source": [
    "# join() --> The opposite of split() function\n",
    "\n",
    "\" \".join(['Hey','this','is','vipul','baliyan','an','aspiring','data','scientist'])"
   ]
  },
  {
   "cell_type": "code",
   "execution_count": 102,
   "id": "fdd8ad14-f5b5-410f-be6b-990ca9529f0b",
   "metadata": {},
   "outputs": [
    {
     "data": {
      "text/plain": [
       "'Hey/this/is/vipul/baliyan/an/aspiring/data/scientist'"
      ]
     },
     "execution_count": 102,
     "metadata": {},
     "output_type": "execute_result"
    }
   ],
   "source": [
    "\"/\".join(['Hey','this','is','vipul','baliyan','an','aspiring','data','scientist'])"
   ]
  },
  {
   "cell_type": "code",
   "execution_count": 103,
   "id": "49ec84f6-1f42-4635-aca7-bc45ace02433",
   "metadata": {},
   "outputs": [
    {
     "data": {
      "text/plain": [
       "'Hey*this*is*vipul*baliyan*an*aspiring*data*scientist'"
      ]
     },
     "execution_count": 103,
     "metadata": {},
     "output_type": "execute_result"
    }
   ],
   "source": [
    "\"*\".join(['Hey','this','is','vipul','baliyan','an','aspiring','data','scientist'])"
   ]
  },
  {
   "cell_type": "code",
   "execution_count": 105,
   "id": "ffa9e386-855e-4bbc-bf96-0d33cf3e40a7",
   "metadata": {},
   "outputs": [
    {
     "data": {
      "text/plain": [
       "'Hi my name is Nitish'"
      ]
     },
     "execution_count": 105,
     "metadata": {},
     "output_type": "execute_result"
    }
   ],
   "source": [
    "# replace()\n",
    "\"Hi my name is vipul\".replace(\"vipul\",\"Nitish\")"
   ]
  },
  {
   "cell_type": "code",
   "execution_count": 107,
   "id": "8a193fd6-2fd6-4326-835b-637991ab29d1",
   "metadata": {},
   "outputs": [],
   "source": [
    "# strip --> Removes the tailing and start spaces \n",
    "\n",
    "c=\"              Hey how are you                 \""
   ]
  },
  {
   "cell_type": "code",
   "execution_count": 108,
   "id": "c6e43fa5-bfd8-4899-838d-a5f1ccd294b6",
   "metadata": {},
   "outputs": [
    {
     "data": {
      "text/plain": [
       "'Hey how are you'"
      ]
     },
     "execution_count": 108,
     "metadata": {},
     "output_type": "execute_result"
    }
   ],
   "source": [
    "c.strip()"
   ]
  },
  {
   "cell_type": "markdown",
   "id": "ab0f90cd-0d17-4b5d-8259-40a63fab1dd2",
   "metadata": {
    "jp-MarkdownHeadingCollapsed": true
   },
   "source": [
    "### List in Python\n",
    "##### Arrays vs List --> Arrays are homogeneous(same data type) whereas lists are heterogeneous(different data types)\n",
    "##### Arrays are stored at contagious memory location which is not in case of lists\n",
    "##### Arrays are faster as compared to list and take less time to traverse"
   ]
  },
  {
   "cell_type": "code",
   "execution_count": 2,
   "id": "4943dded-ecfa-4238-acb3-7d7052756c90",
   "metadata": {},
   "outputs": [
    {
     "name": "stdout",
     "output_type": "stream",
     "text": [
      "[23, 343, 34, 343, 45]\n"
     ]
    }
   ],
   "source": [
    "l=[23,343,34,343,45]\n",
    "print(l)"
   ]
  },
  {
   "cell_type": "code",
   "execution_count": 6,
   "id": "0800f22a-fc3a-4ef8-a951-b83f1a9b81d8",
   "metadata": {},
   "outputs": [
    {
     "name": "stdout",
     "output_type": "stream",
     "text": [
      "[23, [234, 34], 34, 65, 23]\n"
     ]
    }
   ],
   "source": [
    "m=[23,[234,34],34,65,23]\n",
    "print(m)"
   ]
  },
  {
   "cell_type": "code",
   "execution_count": 14,
   "id": "18d1c163-9ee1-439c-bfe6-73ab29455ebc",
   "metadata": {},
   "outputs": [
    {
     "name": "stdout",
     "output_type": "stream",
     "text": [
      "[23, 432, [534, 2432, [234, 34, 34, 34]]]\n"
     ]
    }
   ],
   "source": [
    "# Accessing elements from a list is almost same as in case of strngs\n",
    "n=[23,432,[534,2432,[234,34,34,34]]]\n",
    "print(n)"
   ]
  },
  {
   "cell_type": "code",
   "execution_count": 8,
   "id": "3a0a6da3-f83e-4ee6-b46c-26ed6cc10d7a",
   "metadata": {},
   "outputs": [
    {
     "data": {
      "text/plain": [
       "23"
      ]
     },
     "execution_count": 8,
     "metadata": {},
     "output_type": "execute_result"
    }
   ],
   "source": [
    "n[0]"
   ]
  },
  {
   "cell_type": "code",
   "execution_count": 15,
   "id": "ea12ec58-32b3-46e2-8f2f-bedaf5d26bd2",
   "metadata": {},
   "outputs": [
    {
     "data": {
      "text/plain": [
       "234"
      ]
     },
     "execution_count": 15,
     "metadata": {},
     "output_type": "execute_result"
    }
   ],
   "source": [
    "n[-1][-1][0]  # No of brackets used depends on the dimension of list we have"
   ]
  },
  {
   "cell_type": "code",
   "execution_count": 18,
   "id": "982b3bcd-28c7-48ff-bdce-6d2802cb5962",
   "metadata": {},
   "outputs": [
    {
     "name": "stdout",
     "output_type": "stream",
     "text": [
      "[23, 100, 400]\n"
     ]
    }
   ],
   "source": [
    "# Lists in python are mutable so they can be edited easily\n",
    "n[1]=100\n",
    "n[-1]=400\n",
    "print(n)"
   ]
  },
  {
   "cell_type": "code",
   "execution_count": 22,
   "id": "97dadbaa-563e-4281-b078-c6cf89459475",
   "metadata": {},
   "outputs": [
    {
     "name": "stdout",
     "output_type": "stream",
     "text": [
      "[100, 200, 300, 500, 300, 500, 300, 400]\n"
     ]
    }
   ],
   "source": [
    "n[0:2]=100,200,300,500\n",
    "print(n)"
   ]
  },
  {
   "cell_type": "code",
   "execution_count": 23,
   "id": "8f530be6-1df3-43c6-96ef-30c041ec36f4",
   "metadata": {},
   "outputs": [],
   "source": [
    "# If we want to add elements to a list it can be done using --> append,extend,insert"
   ]
  },
  {
   "cell_type": "code",
   "execution_count": 25,
   "id": "1665d8cd-44cf-465d-b7c2-279ff449c8fe",
   "metadata": {},
   "outputs": [
    {
     "name": "stdout",
     "output_type": "stream",
     "text": [
      "[100, 200, 300, 500, 300, 500, 300, 400, 'vipul', 'vipul']\n"
     ]
    }
   ],
   "source": [
    "# append() function add the element to the last of any list\n",
    "n.append('vipul')\n",
    "print(n)"
   ]
  },
  {
   "cell_type": "code",
   "execution_count": 30,
   "id": "893882ac-827e-4e03-b6c5-0fd038644167",
   "metadata": {},
   "outputs": [
    {
     "name": "stdout",
     "output_type": "stream",
     "text": [
      "[12, 323, 23, 67, 97, 34, 234, \"Let's go\"]\n"
     ]
    }
   ],
   "source": [
    "# extend() funtion --> we can add multiple elements together at the end of any list\n",
    "n=[12,323,23,67,97]\n",
    "n.extend([34,234,\"Let's go\"])\n",
    "print(n)"
   ]
  },
  {
   "cell_type": "code",
   "execution_count": 34,
   "id": "5c4b7f77-6458-4422-8b34-014d1b5b2ec7",
   "metadata": {},
   "outputs": [
    {
     "name": "stdout",
     "output_type": "stream",
     "text": [
      "[12, 323, 23, 999999, 22, 22, 22, 67, 97, 34, 234, \"Let's go\"]\n"
     ]
    }
   ],
   "source": [
    "# insert() funtion --> We can add any element at any desired positon we want\n",
    "n.insert(3,999999)\n",
    "print(n)"
   ]
  },
  {
   "cell_type": "code",
   "execution_count": 35,
   "id": "ecc05962-eb34-410d-ae62-ab9ea3bf6b20",
   "metadata": {},
   "outputs": [],
   "source": [
    "# For deleting we have for ways to do in python\n",
    "# delete\n",
    "# remove \n",
    "# pop\n",
    "# clear"
   ]
  },
  {
   "cell_type": "code",
   "execution_count": 39,
   "id": "68e0c9bb-c8e8-4fa6-aeec-e77cc17c0d25",
   "metadata": {},
   "outputs": [
    {
     "ename": "SyntaxError",
     "evalue": "cannot delete expression (2826157817.py, line 1)",
     "output_type": "error",
     "traceback": [
      "\u001b[1;36m  Cell \u001b[1;32mIn[39], line 1\u001b[1;36m\u001b[0m\n\u001b[1;33m    del n  -- deleted the whole list\u001b[0m\n\u001b[1;37m        ^\u001b[0m\n\u001b[1;31mSyntaxError\u001b[0m\u001b[1;31m:\u001b[0m cannot delete expression\n"
     ]
    }
   ],
   "source": [
    "del n  -- deleted the whole list"
   ]
  },
  {
   "cell_type": "code",
   "execution_count": 42,
   "id": "41edf743-6497-4bd9-9e28-3f37b1cc2f47",
   "metadata": {},
   "outputs": [
    {
     "name": "stdout",
     "output_type": "stream",
     "text": [
      "[65, 23]\n"
     ]
    }
   ],
   "source": [
    "del m[0]\n",
    "print(m)"
   ]
  },
  {
   "cell_type": "code",
   "execution_count": 49,
   "id": "44b0120d-3239-40a1-867f-dc9a70d866d3",
   "metadata": {},
   "outputs": [
    {
     "name": "stdout",
     "output_type": "stream",
     "text": [
      "[34, 234, 546, 6868, 342, 99, 67786, 700]\n"
     ]
    }
   ],
   "source": [
    "# remove() function --> If we don't know the index of any element we can use the name of element to delete it\n",
    "a=[34,45,234,546,6868,342,99,67786,700]\n",
    "a.remove(45)\n",
    "print(a)"
   ]
  },
  {
   "cell_type": "code",
   "execution_count": 51,
   "id": "231c051a-d0bb-4c12-9a15-5942a46da521",
   "metadata": {},
   "outputs": [
    {
     "name": "stdout",
     "output_type": "stream",
     "text": [
      "[34, 546, 6868, 342, 99, 67786, 700]\n"
     ]
    }
   ],
   "source": [
    "a.remove(234)\n",
    "print(a)"
   ]
  },
  {
   "cell_type": "code",
   "execution_count": 52,
   "id": "fdbf2370-e81c-40bf-aae1-0615b0f9f851",
   "metadata": {},
   "outputs": [
    {
     "name": "stdout",
     "output_type": "stream",
     "text": [
      "[34, 546, 6868, 342, 99, 67786]\n"
     ]
    }
   ],
   "source": [
    "# pop() function removes the items from the end of list\n",
    "a.pop()\n",
    "print(a)"
   ]
  },
  {
   "cell_type": "code",
   "execution_count": 53,
   "id": "9969d05a-b09d-4784-b372-547b0e073757",
   "metadata": {},
   "outputs": [],
   "source": [
    "# clear() --> It makes the list empty which means it does not delete the list\n",
    "a.clear()"
   ]
  },
  {
   "cell_type": "code",
   "execution_count": 55,
   "id": "fd116893-e947-4d6f-9d55-d52cb1c9b05e",
   "metadata": {},
   "outputs": [
    {
     "name": "stdout",
     "output_type": "stream",
     "text": [
      "[]\n"
     ]
    }
   ],
   "source": [
    "print(a)  # Her clearly we can see no elements are present in the list but the list still exists"
   ]
  },
  {
   "cell_type": "code",
   "execution_count": 56,
   "id": "6b48c004-036a-4da4-a577-01950a2687c1",
   "metadata": {},
   "outputs": [],
   "source": [
    "# some operations in list\n",
    "\n",
    "L1=[1,2,3,4]\n",
    "L2=[5,6,7,8]"
   ]
  },
  {
   "cell_type": "code",
   "execution_count": 58,
   "id": "58a7f9f5-cb20-4e31-b952-d0c41f4b967d",
   "metadata": {},
   "outputs": [
    {
     "name": "stdout",
     "output_type": "stream",
     "text": [
      "[1, 2, 3, 4, 5, 6, 7, 8]\n"
     ]
    }
   ],
   "source": [
    "# Concatenation does not change the values of list but it create the new list and the previous lists still remains same\n",
    "L3 = L1 + L2\n",
    "print(L3)"
   ]
  },
  {
   "cell_type": "code",
   "execution_count": 60,
   "id": "f8c2b421-18c7-4964-ae24-7b6de76ffcb4",
   "metadata": {},
   "outputs": [
    {
     "data": {
      "text/plain": [
       "[1, 2, 3, 4, 5, 6, 7, 8, 1, 2, 3, 4, 5, 6, 7, 8]"
      ]
     },
     "execution_count": 60,
     "metadata": {},
     "output_type": "execute_result"
    }
   ],
   "source": [
    "L3*2  # It repeats the list values two times\n"
   ]
  },
  {
   "cell_type": "code",
   "execution_count": 61,
   "id": "b6055962-98ad-459f-90cf-bdd64f173e72",
   "metadata": {},
   "outputs": [
    {
     "name": "stdout",
     "output_type": "stream",
     "text": [
      "1\n",
      "2\n",
      "3\n",
      "4\n",
      "5\n",
      "6\n",
      "7\n",
      "8\n"
     ]
    }
   ],
   "source": [
    "for i in L3:\n",
    "    print(i)"
   ]
  },
  {
   "cell_type": "code",
   "execution_count": 62,
   "id": "2935d338-10b9-4bf6-a8fc-7fbb4989469c",
   "metadata": {},
   "outputs": [
    {
     "data": {
      "text/plain": [
       "8"
      ]
     },
     "execution_count": 62,
     "metadata": {},
     "output_type": "execute_result"
    }
   ],
   "source": [
    "# we can also use certain functions in list\n",
    "len(L3)"
   ]
  },
  {
   "cell_type": "code",
   "execution_count": 63,
   "id": "dec187c3-645e-4fca-9402-30dc5aa61990",
   "metadata": {},
   "outputs": [
    {
     "data": {
      "text/plain": [
       "8"
      ]
     },
     "execution_count": 63,
     "metadata": {},
     "output_type": "execute_result"
    }
   ],
   "source": [
    "max(L3)"
   ]
  },
  {
   "cell_type": "code",
   "execution_count": 66,
   "id": "95f06093-95f9-4052-9a2c-88c9d4ccb97c",
   "metadata": {},
   "outputs": [
    {
     "data": {
      "text/plain": [
       "[8, 7, 6, 5, 4, 3, 2, 1]"
      ]
     },
     "execution_count": 66,
     "metadata": {},
     "output_type": "execute_result"
    }
   ],
   "source": [
    "sorted(L3,reverse=True)"
   ]
  },
  {
   "cell_type": "code",
   "execution_count": 67,
   "id": "bdb688c4-5045-48ba-931f-bd68fffd789a",
   "metadata": {},
   "outputs": [],
   "source": [
    "# sorted is not a permanent change but L.sort is a permanent change \n",
    "L3.sort(reverse=True)"
   ]
  },
  {
   "cell_type": "code",
   "execution_count": 68,
   "id": "f88d2155-356b-45a4-bf46-857da5bce6c8",
   "metadata": {},
   "outputs": [
    {
     "name": "stdout",
     "output_type": "stream",
     "text": [
      "[8, 7, 6, 5, 4, 3, 2, 1]\n"
     ]
    }
   ],
   "source": [
    "print(L3)"
   ]
  },
  {
   "cell_type": "code",
   "execution_count": 72,
   "id": "8e6fd39c-e703-4664-96f6-cd4b9b952c4b",
   "metadata": {},
   "outputs": [],
   "source": [
    "L3.sort(reverse=False)"
   ]
  },
  {
   "cell_type": "code",
   "execution_count": 73,
   "id": "1d90c3b0-9d75-4688-b833-77578f633245",
   "metadata": {},
   "outputs": [
    {
     "name": "stdout",
     "output_type": "stream",
     "text": [
      "[1, 2, 3, 4, 5, 6, 7, 8]\n"
     ]
    }
   ],
   "source": [
    "print(L3)"
   ]
  },
  {
   "cell_type": "code",
   "execution_count": null,
   "id": "276eee71-6248-4754-927c-cad521367d3a",
   "metadata": {},
   "outputs": [],
   "source": [
    "### Some problems"
   ]
  },
  {
   "cell_type": "code",
   "execution_count": 85,
   "id": "9def3ce6-c2de-41de-a337-ca54751c850f",
   "metadata": {},
   "outputs": [
    {
     "name": "stdout",
     "output_type": "stream",
     "text": [
      "How\n",
      "HowAre\n",
      "HowAreYou?\n"
     ]
    }
   ],
   "source": [
    "# tiele case\n",
    "sample='how are you?'\n",
    "sample.split()\n",
    "\n",
    "L= []\n",
    "for i in sample.split():\n",
    "    i.capitalize()\n",
    "    L.append(i.capitalize())\n",
    "    print(\"\".join(L))"
   ]
  },
  {
   "cell_type": "code",
   "execution_count": 86,
   "id": "29339fcb-3894-4ee0-8825-d48ca4c742b2",
   "metadata": {},
   "outputs": [
    {
     "name": "stdout",
     "output_type": "stream",
     "text": [
      "vipulbaliyansfs\n"
     ]
    }
   ],
   "source": [
    "# print name before @ in any gmail address -- vipulbaliyansfs@gmail.com\n",
    "sample='vipulbaliyansfs@gmail.com'\n",
    "print(sample[:sample.find('@')])"
   ]
  },
  {
   "cell_type": "code",
   "execution_count": 98,
   "id": "a96a3119-e638-4e08-838a-8b29bbc561ca",
   "metadata": {},
   "outputs": [
    {
     "name": "stdout",
     "output_type": "stream",
     "text": [
      "[1, 2, 3, 4, 5, 6, 7, 8, 78, 88]\n"
     ]
    }
   ],
   "source": [
    "# remove duplicates from the list and print the new one\n",
    "l1=[1,1,2,3,3,4,5,5,5,6,6,6,7,7,7,7,78,88,8,8,8,8,8]\n",
    "\n",
    "L=[]\n",
    "for i in l1:\n",
    "    if i not in L:\n",
    "        L.append(i)\n",
    "        L.sort()\n",
    "print(L)       "
   ]
  },
  {
   "cell_type": "markdown",
   "id": "3422e842-77d1-46f0-9629-4a766cde55d0",
   "metadata": {
    "jp-MarkdownHeadingCollapsed": true
   },
   "source": [
    "### Tuples --> They are almost same as list with some major differences "
   ]
  },
  {
   "cell_type": "code",
   "execution_count": 107,
   "id": "fa54ead9-0dfa-4345-8e97-881180f0870e",
   "metadata": {},
   "outputs": [
    {
     "name": "stdout",
     "output_type": "stream",
     "text": [
      "hello\n"
     ]
    },
    {
     "data": {
      "text/plain": [
       "str"
      ]
     },
     "execution_count": 107,
     "metadata": {},
     "output_type": "execute_result"
    }
   ],
   "source": [
    "# we cannot create single tuple just by passing values but we also have to use a comma after the entered element\n",
    "a=(\"hello\")  \n",
    "print(a) \n",
    "type(a)           # a tuple is not created"
   ]
  },
  {
   "cell_type": "code",
   "execution_count": 106,
   "id": "bec7591e-66e5-4bb4-9394-8e1a204e5385",
   "metadata": {},
   "outputs": [
    {
     "name": "stdout",
     "output_type": "stream",
     "text": [
      "('hello',)\n"
     ]
    },
    {
     "data": {
      "text/plain": [
       "tuple"
      ]
     },
     "execution_count": 106,
     "metadata": {},
     "output_type": "execute_result"
    }
   ],
   "source": [
    "a=(\"hello\",)\n",
    "print(a) \n",
    "type(a) # this is tuple "
   ]
  },
  {
   "cell_type": "code",
   "execution_count": 110,
   "id": "065c77fa-a47e-4eb0-82ab-e229899e1311",
   "metadata": {},
   "outputs": [
    {
     "name": "stdout",
     "output_type": "stream",
     "text": [
      "('g', 'o', 'o', 'g', 'l', 'e')\n"
     ]
    }
   ],
   "source": [
    "# we can also create tuple using type conversion\n",
    "T1= tuple(\"google\")\n",
    "print(T1)"
   ]
  },
  {
   "cell_type": "code",
   "execution_count": 113,
   "id": "d9a6dc4c-6dcd-4486-b495-9a43dc1b5a30",
   "metadata": {},
   "outputs": [],
   "source": [
    "# tuples are immutable we cannot edit and change \n",
    "# tupeles are read only datatypes"
   ]
  },
  {
   "cell_type": "markdown",
   "id": "6a6bb2da-6720-4a6e-a695-cec5957aef54",
   "metadata": {
    "jp-MarkdownHeadingCollapsed": true
   },
   "source": [
    "### Sets in python\n",
    "##### Cannot use duplicates in sets\n",
    "##### Sets have no indexing/slicing\n",
    "##### Sets does not allow mutable data types\n",
    "##### Set itself is a mutable data type  / No 2D SETS "
   ]
  },
  {
   "cell_type": "code",
   "execution_count": 114,
   "id": "d2cb2f9b-be6b-427c-b9b4-36e02dcbb337",
   "metadata": {},
   "outputs": [],
   "source": [
    "# create"
   ]
  },
  {
   "cell_type": "code",
   "execution_count": 116,
   "id": "5599f98b-d3c2-4337-ac41-3d52324926c1",
   "metadata": {},
   "outputs": [
    {
     "data": {
      "text/plain": [
       "dict"
      ]
     },
     "execution_count": 116,
     "metadata": {},
     "output_type": "execute_result"
    }
   ],
   "source": [
    "s={}\n",
    "type(s)   # By default a dictionary is created by using this syntax "
   ]
  },
  {
   "cell_type": "code",
   "execution_count": 119,
   "id": "276692d1-920c-46b4-9cf9-28e1b311d291",
   "metadata": {},
   "outputs": [
    {
     "data": {
      "text/plain": [
       "set"
      ]
     },
     "execution_count": 119,
     "metadata": {},
     "output_type": "execute_result"
    }
   ],
   "source": [
    "s=set()\n",
    "type(s)  # This is the correct way of creating an empty set"
   ]
  },
  {
   "cell_type": "code",
   "execution_count": 122,
   "id": "37c7e457-c388-44a0-b5a1-1e24d244effd",
   "metadata": {},
   "outputs": [
    {
     "name": "stdout",
     "output_type": "stream",
     "text": [
      "{1, 2, 3, 4, 5, 6, 7, 8, 9}\n"
     ]
    }
   ],
   "source": [
    "s={1,2,3,4,5,6,7,8,9}\n",
    "print(s)            # Homogeneous items"
   ]
  },
  {
   "cell_type": "code",
   "execution_count": 124,
   "id": "79277a98-26a4-4b0b-b01f-1daf5c50d9b7",
   "metadata": {},
   "outputs": [
    {
     "name": "stdout",
     "output_type": "stream",
     "text": [
      "{'Hello', 2, 6.4, True}\n"
     ]
    }
   ],
   "source": [
    "s={2,\"Hello\",6.4,True}\n",
    "print(s)                  # Set using heterogeneous items"
   ]
  },
  {
   "cell_type": "code",
   "execution_count": 128,
   "id": "b1c2923b-b736-4b47-9ddc-519a15a76489",
   "metadata": {},
   "outputs": [
    {
     "name": "stdout",
     "output_type": "stream",
     "text": [
      "{1, 2, 4, 454, 6, 8, 44, 77, 343}\n"
     ]
    }
   ],
   "source": [
    "# what if we use duplicates in sets let's see\n",
    "s={1,2,2,2,343,454,44,4,44,6,6,77,77,6,8,8}\n",
    "print(s)\n",
    "\n",
    "\n",
    "# we can clearly see set only displays unique items "
   ]
  },
  {
   "cell_type": "code",
   "execution_count": 129,
   "id": "fb0a2146-519c-49c6-9b25-d8a8a76b0ed9",
   "metadata": {},
   "outputs": [
    {
     "ename": "TypeError",
     "evalue": "unhashable type: 'list'",
     "output_type": "error",
     "traceback": [
      "\u001b[1;31m---------------------------------------------------------------------------\u001b[0m",
      "\u001b[1;31mTypeError\u001b[0m                                 Traceback (most recent call last)",
      "Cell \u001b[1;32mIn[129], line 1\u001b[0m\n\u001b[1;32m----> 1\u001b[0m s\u001b[38;5;241m=\u001b[39m{[\u001b[38;5;241m2\u001b[39m,\u001b[38;5;241m34\u001b[39m],\u001b[38;5;124m\"\u001b[39m\u001b[38;5;124mHello\u001b[39m\u001b[38;5;124m\"\u001b[39m}\n\u001b[0;32m      2\u001b[0m \u001b[38;5;28mprint\u001b[39m(s)\n",
      "\u001b[1;31mTypeError\u001b[0m: unhashable type: 'list'"
     ]
    }
   ],
   "source": [
    "s={[2,34],\"Hello\"}         \n",
    "print(s)              # we are unable to use mutable datatypes(list) in sets"
   ]
  },
  {
   "cell_type": "code",
   "execution_count": 131,
   "id": "457966a3-4696-4e40-974b-8f73cb1432b4",
   "metadata": {},
   "outputs": [
    {
     "name": "stdout",
     "output_type": "stream",
     "text": [
      "{'Hello', (2, 34)}\n"
     ]
    }
   ],
   "source": [
    "s={(2,34),\"Hello\"}         \n",
    "print(s)   # Here Hello is printed first and then the tuple(which is immutable) \n",
    "# It is because we do not have indexing in sets rather it use hashing"
   ]
  },
  {
   "cell_type": "code",
   "execution_count": 132,
   "id": "a7ddc4fb-28d6-47c7-96d2-bdef630b4dd7",
   "metadata": {},
   "outputs": [],
   "source": [
    "# We cannot edit or access items in sets using indexing and all its not possible\n",
    "# But if we use type conversion which means change set to list ,edit list and then list to edit ..it will work but its not editing set actually"
   ]
  },
  {
   "cell_type": "code",
   "execution_count": 141,
   "id": "196d2b94-3bc9-4172-a0f7-de03348fc898",
   "metadata": {},
   "outputs": [
    {
     "data": {
      "text/plain": [
       "2322074180672"
      ]
     },
     "execution_count": 141,
     "metadata": {},
     "output_type": "execute_result"
    }
   ],
   "source": [
    "S1={12,2,3,66}\n",
    "id(S1)"
   ]
  },
  {
   "cell_type": "code",
   "execution_count": 142,
   "id": "4bf70bf5-cb47-4929-879f-732e7f08fd92",
   "metadata": {},
   "outputs": [
    {
     "name": "stdout",
     "output_type": "stream",
     "text": [
      "{2, 3, 66, 12, 77}\n"
     ]
    },
    {
     "data": {
      "text/plain": [
       "2322074182240"
      ]
     },
     "execution_count": 142,
     "metadata": {},
     "output_type": "execute_result"
    }
   ],
   "source": [
    "S1={12,2,3,66}   # we can use add to make changes in set of add items \n",
    "S1.add(77)\n",
    "print(S1)\n",
    "id(S1)"
   ]
  },
  {
   "cell_type": "code",
   "execution_count": 143,
   "id": "a23a3a19-ab6c-4b07-a7fc-0802a0a6eb63",
   "metadata": {},
   "outputs": [],
   "source": [
    "# We have 3 ways of deletion in sets\n",
    "# del --> deletes the whole set at a time \n",
    "# remove --> It removes the particular item entered by user from the sets\n",
    "# pop() --> It removes the last item and here the items are stored using hashing technique "
   ]
  },
  {
   "cell_type": "code",
   "execution_count": 145,
   "id": "7242b836-0481-4d88-87a5-da5a0e1ff893",
   "metadata": {},
   "outputs": [],
   "source": [
    "# Contatenation and multiplication does not works in sets \n",
    "# funtions like len(), min(), Max(), loops,sorted,sort(), sum() easily works in sets"
   ]
  },
  {
   "cell_type": "code",
   "execution_count": 149,
   "id": "cf805039-6562-491e-b7e9-8ace592b4f4f",
   "metadata": {},
   "outputs": [
    {
     "data": {
      "text/plain": [
       "{1, 2, 3, 4, 5, 6, 7, 8, 9, 10}"
      ]
     },
     "execution_count": 149,
     "metadata": {},
     "output_type": "execute_result"
    }
   ],
   "source": [
    "# UNION \n",
    "s1={1,2,3,4,5,6,10}\n",
    "s2={5,6,7,8,9,10}\n",
    "s1.union(s2)           # prints all the unique items of both the sets"
   ]
  },
  {
   "cell_type": "code",
   "execution_count": 151,
   "id": "461dcf95-96e3-4835-a4cc-15b4f7875797",
   "metadata": {},
   "outputs": [
    {
     "data": {
      "text/plain": [
       "{5, 6, 10}"
      ]
     },
     "execution_count": 151,
     "metadata": {},
     "output_type": "execute_result"
    }
   ],
   "source": [
    "# INTERSECTION                         # Items present in both the sets\n",
    "s1.intersection(s2)"
   ]
  },
  {
   "cell_type": "code",
   "execution_count": 156,
   "id": "d17570ba-3f2d-479f-b1c0-8879122b172d",
   "metadata": {},
   "outputs": [
    {
     "data": {
      "text/plain": [
       "{1, 2, 3, 4}"
      ]
     },
     "execution_count": 156,
     "metadata": {},
     "output_type": "execute_result"
    }
   ],
   "source": [
    "# DIFFERENCE                     # Displays items present in one set which are not in another set\n",
    "s1.difference(s2)     # Items which are present in s1 only"
   ]
  },
  {
   "cell_type": "code",
   "execution_count": 157,
   "id": "74feaca1-ef77-438a-ba45-31dfd757a08c",
   "metadata": {},
   "outputs": [
    {
     "data": {
      "text/plain": [
       "{7, 8, 9}"
      ]
     },
     "execution_count": 157,
     "metadata": {},
     "output_type": "execute_result"
    }
   ],
   "source": [
    "s2.difference(s1)    # Items which are present in s2 only"
   ]
  },
  {
   "cell_type": "code",
   "execution_count": 159,
   "id": "9b1e8e14-d761-4f59-a5c3-d59ae04d0c24",
   "metadata": {},
   "outputs": [
    {
     "data": {
      "text/plain": [
       "{1, 2, 3, 4, 7, 8, 9}"
      ]
     },
     "execution_count": 159,
     "metadata": {},
     "output_type": "execute_result"
    }
   ],
   "source": [
    "# SYMMETRIC_DIFFERENCE         # Items which are not in both the sets\n",
    "\n",
    "s1.symmetric_difference(s2)                     # Prints unique item of s1 as well as s2"
   ]
  },
  {
   "cell_type": "code",
   "execution_count": 162,
   "id": "512c66ff-5973-48a4-8c58-535081ae885c",
   "metadata": {},
   "outputs": [
    {
     "data": {
      "text/plain": [
       "False"
      ]
     },
     "execution_count": 162,
     "metadata": {},
     "output_type": "execute_result"
    }
   ],
   "source": [
    "# ISDISJOINT()\n",
    "s1.isdisjoint(s2)            # tells if two sets are disjoint or not"
   ]
  },
  {
   "cell_type": "code",
   "execution_count": 163,
   "id": "b7a658c4-2e14-475b-9403-f8941bbe016f",
   "metadata": {},
   "outputs": [
    {
     "data": {
      "text/plain": [
       "False"
      ]
     },
     "execution_count": 163,
     "metadata": {},
     "output_type": "execute_result"
    }
   ],
   "source": [
    "s1.issubset(s2)        # Is s1 the subset of s2"
   ]
  },
  {
   "cell_type": "code",
   "execution_count": 165,
   "id": "1bc9ce1c-3e3a-4ce1-b336-b26dc0856478",
   "metadata": {},
   "outputs": [
    {
     "data": {
      "text/plain": [
       "False"
      ]
     },
     "execution_count": 165,
     "metadata": {},
     "output_type": "execute_result"
    }
   ],
   "source": [
    "s1.issuperset(s2)      # Is s1 the superset of s2"
   ]
  },
  {
   "cell_type": "markdown",
   "id": "b9c5980b-fd5b-41f2-bda0-67017a91f59d",
   "metadata": {},
   "source": [
    "### DICTIONARY\n",
    "##### Dictionary has no indexing\n",
    "##### It is mutable\n",
    "##### keys->Immutable, values-> they can be mutable\n",
    "##### keys shoud be unique\n",
    "\n",
    "#### Mutable --> lists, sets, dictionary\n",
    "#### Immutable --> strings, tuples, int, float , complex"
   ]
  },
  {
   "cell_type": "code",
   "execution_count": 1,
   "id": "92b4e25b-56c0-49ca-9bfa-d7151a4c235d",
   "metadata": {},
   "outputs": [],
   "source": [
    "d = {\"Name\":\"Vipul\", \"Age\":\"24\",\"Gender\":\"Male\"}"
   ]
  },
  {
   "cell_type": "code",
   "execution_count": 2,
   "id": "a3a62ec2-b640-4071-97a3-532e43db928b",
   "metadata": {},
   "outputs": [
    {
     "data": {
      "text/plain": [
       "{'Name': 'Vipul', 'Age': '24', 'Gender': 'Male'}"
      ]
     },
     "execution_count": 2,
     "metadata": {},
     "output_type": "execute_result"
    }
   ],
   "source": [
    "d"
   ]
  },
  {
   "cell_type": "code",
   "execution_count": 9,
   "id": "46d0e677-8934-4c62-80c8-bcb579e60653",
   "metadata": {},
   "outputs": [],
   "source": [
    "# Keys should always be immutable\n",
    "# d1={[1,2,3]:\"Vipul\"}            # Since we are using list which is mutable it throws error cause lists are mutable \n",
    "d2={(1,2,3):\"Vipul\"}                # Here we used tuples and code is running successfully"
   ]
  },
  {
   "cell_type": "code",
   "execution_count": 7,
   "id": "b4d81e8b-2a6f-471b-be1f-fdecf3a4b244",
   "metadata": {},
   "outputs": [
    {
     "data": {
      "text/plain": [
       "{'(1,2,3)': 'Vipul'}"
      ]
     },
     "execution_count": 7,
     "metadata": {},
     "output_type": "execute_result"
    }
   ],
   "source": [
    "d2"
   ]
  },
  {
   "cell_type": "code",
   "execution_count": 13,
   "id": "e22eed22-ab8d-4238-981d-129a6a00b5ef",
   "metadata": {},
   "outputs": [
    {
     "data": {
      "text/plain": [
       "{'Name': 'ViPul'}"
      ]
     },
     "execution_count": 13,
     "metadata": {},
     "output_type": "execute_result"
    }
   ],
   "source": [
    "# Keys should be unique\n",
    "d3={\"Name\":\"Baliyan\", \"Name\":\"ViPul\"}\n",
    "d3                       # It means it is updating the name i.e keys should be uniquee"
   ]
  },
  {
   "cell_type": "code",
   "execution_count": 16,
   "id": "f85c7e0f-ffdc-4772-9969-bb6f54a31e16",
   "metadata": {},
   "outputs": [
    {
     "data": {
      "text/plain": [
       "'ViPul'"
      ]
     },
     "execution_count": 16,
     "metadata": {},
     "output_type": "execute_result"
    }
   ],
   "source": [
    "d3['Name']"
   ]
  },
  {
   "cell_type": "code",
   "execution_count": 17,
   "id": "cdf94473-e94c-4d58-a6ba-4d4cfb826833",
   "metadata": {},
   "outputs": [
    {
     "data": {
      "text/plain": [
       "{'Name': 'VIPUL', 'College': 'GKV', 'Marks': {'M': 89, 'DA': 99, 'Eng': 77}}"
      ]
     },
     "execution_count": 17,
     "metadata": {},
     "output_type": "execute_result"
    }
   ],
   "source": [
    "# 2D dictionary\n",
    "\n",
    "d4 = {'Name':'VIPUL', 'College':'GKV', 'Marks':{'M':89,'DA':99,'Eng':77}}\n",
    "d4"
   ]
  },
  {
   "cell_type": "code",
   "execution_count": 18,
   "id": "4f8513bc-47db-4b23-8910-97b4c8d40f14",
   "metadata": {},
   "outputs": [
    {
     "data": {
      "text/plain": [
       "99"
      ]
     },
     "execution_count": 18,
     "metadata": {},
     "output_type": "execute_result"
    }
   ],
   "source": [
    "d4['Marks']['DA']"
   ]
  },
  {
   "cell_type": "code",
   "execution_count": 19,
   "id": "97ce0f52-588d-442d-9bac-a76e1678d0d3",
   "metadata": {},
   "outputs": [
    {
     "data": {
      "text/plain": [
       "{'Name': 'Vipul', 'College': 'GKV', 'Marks': {'M': 89, 'DA': 99, 'Eng': 77}}"
      ]
     },
     "execution_count": 19,
     "metadata": {},
     "output_type": "execute_result"
    }
   ],
   "source": [
    "d4['Name']='Vipul'\n",
    "d4"
   ]
  },
  {
   "cell_type": "code",
   "execution_count": 20,
   "id": "571d4ac6-7123-4854-83c9-9d4c002eecec",
   "metadata": {},
   "outputs": [
    {
     "data": {
      "text/plain": [
       "{'Name': 'Vipul',\n",
       " 'College': 'GKV',\n",
       " 'Marks': {'M': 89, 'DA': 99, 'Eng': 77},\n",
       " 'Age': '34'}"
      ]
     },
     "execution_count": 20,
     "metadata": {},
     "output_type": "execute_result"
    }
   ],
   "source": [
    "d4['Age']='34'\n",
    "d4"
   ]
  },
  {
   "cell_type": "code",
   "execution_count": 21,
   "id": "3f8e5ef4-0632-43c1-97c4-2ccb2241b325",
   "metadata": {},
   "outputs": [
    {
     "data": {
      "text/plain": [
       "{'Name': 'Vipul', 'Marks': {'M': 89, 'DA': 99, 'Eng': 77}, 'Age': '34'}"
      ]
     },
     "execution_count": 21,
     "metadata": {},
     "output_type": "execute_result"
    }
   ],
   "source": [
    "del d4['College']\n",
    "d4"
   ]
  },
  {
   "cell_type": "code",
   "execution_count": 22,
   "id": "2aa1720a-958f-452d-87d5-cf0c3d96d319",
   "metadata": {},
   "outputs": [],
   "source": [
    "# Concatenation and multiplication does not work with dictionary"
   ]
  },
  {
   "cell_type": "code",
   "execution_count": 23,
   "id": "379fdb3c-af7f-41a8-9108-43621acb564a",
   "metadata": {},
   "outputs": [
    {
     "name": "stdout",
     "output_type": "stream",
     "text": [
      "Name\n",
      "Marks\n",
      "Age\n"
     ]
    }
   ],
   "source": [
    "for i in d4:\n",
    "    print(i)           # Only keys are printed ...Values are not printed "
   ]
  },
  {
   "cell_type": "code",
   "execution_count": 26,
   "id": "b0c0800e-1a99-4f8e-92ea-4fbbb63459f0",
   "metadata": {},
   "outputs": [
    {
     "name": "stdout",
     "output_type": "stream",
     "text": [
      "Name Vipul\n",
      "Marks {'M': 89, 'DA': 99, 'Eng': 77}\n",
      "Age 34\n"
     ]
    }
   ],
   "source": [
    "for i in d4:\n",
    "    print(i,d4[i])      # If you want to print both key and value"
   ]
  },
  {
   "cell_type": "code",
   "execution_count": 2,
   "id": "1e6b06d7-18b4-493c-9863-0a987c59e722",
   "metadata": {},
   "outputs": [
    {
     "name": "stdout",
     "output_type": "stream",
     "text": [
      "{1: 1, 2: 4, 3: 9, 4: 16, 5: 25, 6: 36, 7: 49}\n"
     ]
    }
   ],
   "source": [
    "# Dictonary cmprehension --> it is writing compact code (10 lines code to 1 line) \n",
    "# syntax --> {key:value forloop}\n",
    "nums={1,2,3,4,5,6,7}\n",
    "print({num : num**2 for num in nums})"
   ]
  },
  {
   "cell_type": "markdown",
   "id": "c254b8fb-774b-48d9-884e-a00684684cc2",
   "metadata": {},
   "source": [
    "### Call by object reference -->When you pass a mutable object (like a list), Python passes the reference to the object, so any changes to the object inside the function will affect the original.When you pass an immutable object (like an integer or string), Python passes the reference to the value, but since the object itself is immutable, any modifications inside the function result in a new object, leaving the original unchanged."
   ]
  },
  {
   "cell_type": "markdown",
   "id": "479b19ce-198e-4014-a812-9deccaa94aaa",
   "metadata": {
    "jp-MarkdownHeadingCollapsed": true
   },
   "source": [
    "####  Aliasing --> In Python, aliasing refers to the situation where two or more variables refer to the same object in memory. This means that if you modify the object through one variable, the changes will be reflected when you access it via another variable, since both variables are pointing to the same object."
   ]
  },
  {
   "cell_type": "code",
   "execution_count": 27,
   "id": "4c1c0cfb-6c2f-462b-9cbb-1bfb3c2ac040",
   "metadata": {},
   "outputs": [],
   "source": [
    "a=5\n",
    "b=a"
   ]
  },
  {
   "cell_type": "code",
   "execution_count": 28,
   "id": "9e2a19db-1b98-4686-9173-355c0b886271",
   "metadata": {},
   "outputs": [
    {
     "data": {
      "text/plain": [
       "140711529626168"
      ]
     },
     "execution_count": 28,
     "metadata": {},
     "output_type": "execute_result"
    }
   ],
   "source": [
    "id(a)"
   ]
  },
  {
   "cell_type": "code",
   "execution_count": 29,
   "id": "324779d4-da28-4247-b566-c55c51b65971",
   "metadata": {
    "scrolled": true
   },
   "outputs": [
    {
     "data": {
      "text/plain": [
       "140711529626168"
      ]
     },
     "execution_count": 29,
     "metadata": {},
     "output_type": "execute_result"
    }
   ],
   "source": [
    "id(b)"
   ]
  },
  {
   "cell_type": "markdown",
   "id": "b7f38523-b1ae-4d80-a391-7ee9a7ad07d5",
   "metadata": {
    "jp-MarkdownHeadingCollapsed": true
   },
   "source": [
    "#### Reference count --> There is a funtion in python getrefcount() which tells how many variables are referring the same memory location and we have to add 1 reference more for the funtion itself which itself refers while counting "
   ]
  },
  {
   "cell_type": "code",
   "execution_count": 44,
   "id": "0394d39c-3b5d-45d9-b114-56f71ee82bce",
   "metadata": {},
   "outputs": [],
   "source": [
    "a=717"
   ]
  },
  {
   "cell_type": "code",
   "execution_count": 45,
   "id": "e23ffa12-73de-47d7-ab8b-73b830bf669e",
   "metadata": {},
   "outputs": [],
   "source": [
    "b=a"
   ]
  },
  {
   "cell_type": "code",
   "execution_count": 46,
   "id": "d48618dd-32fa-469d-95f5-c352dcf34d23",
   "metadata": {},
   "outputs": [],
   "source": [
    "c=b"
   ]
  },
  {
   "cell_type": "code",
   "execution_count": 47,
   "id": "7128d592-88ec-4c64-9b80-aa744eb2a4ee",
   "metadata": {},
   "outputs": [
    {
     "data": {
      "text/plain": [
       "4"
      ]
     },
     "execution_count": 47,
     "metadata": {},
     "output_type": "execute_result"
    }
   ],
   "source": [
    "import sys\n",
    "sys.getrefcount(a)"
   ]
  },
  {
   "cell_type": "markdown",
   "id": "ab90dc64-b6a1-493a-85ab-0b474aea08d8",
   "metadata": {},
   "source": [
    "### Garbage Collection\n",
    "##### Garbage collection in Python refers to the process of automatically identifying and reclaiming memory that is no longer in use by the program, freeing up resources and preventing memory leaks.\n",
    "##### 1. Reference Counting:\n",
    "###### Python keeps track of how many references (variables, objects) are pointing to an object in memory. This is called the reference count.\n",
    "#### 2. Generational Garbage Collection (Cycle Detection):\n",
    "##### Python uses a cyclic garbage collector to handle reference cycles — cases where objects reference each other, making it impossible for reference counting alone to detect that they are no longer needed.\n",
    "\n",
    "#### Python organizes objects into three generations:\n",
    "\n",
    "##### Generation 0: Newly created objects.\n",
    "##### Generation 1 and Generation 2: Objects that survive garbage collection (i.e., those that are not deleted) are moved to older generations."
   ]
  },
  {
   "cell_type": "markdown",
   "id": "a8a2b464-0d31-4b8b-a54b-76df64d6ef2d",
   "metadata": {
    "jp-MarkdownHeadingCollapsed": true
   },
   "source": [
    "### Functions in Python\n",
    "##### In Python, a function is a reusable block of code designed to perform a specific task. Functions help make programs more modular, readable, and easier to maintain. You can pass data to functions (parameters), execute some logic, and return results.\n",
    "##### Abstraction \n",
    "##### Abstraction means hiding the complex details and exposing only the essential features of something. In Python, abstraction in functions involves creating functions to perform a task without revealing the internal workings of that task to the user. \n",
    "#### Decomposition\n",
    "##### Decomposition is the process of breaking down a complex problem or system into smaller, more manageable parts. In Python, this is done by dividing tasks into smaller functions, each responsible for a specific part of the problem."
   ]
  },
  {
   "cell_type": "code",
   "execution_count": 48,
   "id": "26c07ef3-3412-4e7a-a156-eded358143f0",
   "metadata": {},
   "outputs": [],
   "source": [
    "# function for even odd\n",
    "def is_even(number):\n",
    "    '''\n",
    "    This function tells if a given number is even or odd\n",
    "    input-any valid interger\n",
    "    output - odd/even\n",
    "    created by - Vipul Baliyan\n",
    "    date - 20 sept , 2024\n",
    "    '''\n",
    "    if number % 2==0:\n",
    "        return 'even'\n",
    "    else:\n",
    "        return 'odd'"
   ]
  },
  {
   "cell_type": "code",
   "execution_count": 49,
   "id": "8366a6b3-4322-4562-83cb-632511d8ca0f",
   "metadata": {},
   "outputs": [
    {
     "name": "stdout",
     "output_type": "stream",
     "text": [
      "odd\n",
      "even\n",
      "odd\n",
      "even\n",
      "odd\n",
      "even\n",
      "odd\n",
      "even\n",
      "odd\n",
      "even\n"
     ]
    }
   ],
   "source": [
    "# Calling a function\n",
    "\n",
    "for i in range(1,11):\n",
    "    print(is_even(i))"
   ]
  },
  {
   "cell_type": "code",
   "execution_count": 50,
   "id": "d1320d52-4efd-471f-bf7b-c6a68b3ef1e9",
   "metadata": {},
   "outputs": [
    {
     "name": "stdout",
     "output_type": "stream",
     "text": [
      "\n",
      "    This function tells if a given number is even or odd\n",
      "    input-any valid interger\n",
      "    output - odd/even\n",
      "    created by - Vipul Baliyan\n",
      "    date - 20 sept , 2024\n",
      "    \n"
     ]
    }
   ],
   "source": [
    "# Print documentation\n",
    "print(is_even.__doc__)"
   ]
  },
  {
   "cell_type": "markdown",
   "id": "e0c3d105-cb24-4167-82e0-721dcd9d8ada",
   "metadata": {
    "jp-MarkdownHeadingCollapsed": true
   },
   "source": [
    "### Arguments in python functions\n",
    "#####  Python, arguments are values passed to functions when they are called. They allow functions to receive inputs and work with dynamic data. Python supports several types of arguments that provide flexibility in how functions are written and used.\n",
    "##### Default Arguments\n",
    "##### Positional Arguments\n",
    "##### Keyword Arguments\n",
    "##### Arbitary Arguments"
   ]
  },
  {
   "cell_type": "code",
   "execution_count": 51,
   "id": "17e0493a-26c3-4d14-8787-062723e6ab0a",
   "metadata": {},
   "outputs": [],
   "source": [
    "# Default Arguments\n",
    "def power(a=1,b=1):\n",
    "    return a**b   # Here we are providing default values or parameter in function so if user provide only one input the code still runs"
   ]
  },
  {
   "cell_type": "code",
   "execution_count": 55,
   "id": "f5daf98a-82d4-494e-9f79-2047e8892258",
   "metadata": {},
   "outputs": [
    {
     "name": "stdout",
     "output_type": "stream",
     "text": [
      "9\n",
      "3\n"
     ]
    }
   ],
   "source": [
    "print(power(3,2))\n",
    "print(power(3))  # Code is still running cause we have default parameter for both a and b provided in function"
   ]
  },
  {
   "cell_type": "code",
   "execution_count": 56,
   "id": "6f6256a4-1f8f-476d-ab90-1f7d6363ab0d",
   "metadata": {},
   "outputs": [],
   "source": [
    "# Positional arguments means the order we are sending our input should be according to the parameters present in the function"
   ]
  },
  {
   "cell_type": "code",
   "execution_count": 59,
   "id": "8032b5d2-9f1e-49c9-8a47-3bbed1937bd7",
   "metadata": {},
   "outputs": [
    {
     "data": {
      "text/plain": [
       "8"
      ]
     },
     "execution_count": 59,
     "metadata": {},
     "output_type": "execute_result"
    }
   ],
   "source": [
    "# Keyword arguments --> Here we explicitly tell the order and name of parameter as well as the value we are providing to each parameter\n",
    "\n",
    "power(b=3,a=2)   # It is not following the order of positional argument rather we have explicitly provided the value assigenment to each parameter\n",
    "                # It is used when we have so many parameters in the function "
   ]
  },
  {
   "cell_type": "code",
   "execution_count": 60,
   "id": "efdeffb1-1c33-49f6-a307-f0431e619194",
   "metadata": {},
   "outputs": [],
   "source": [
    "# Arbitary Functions -->In Python, arbitrary parameters allow functions to accept a variable number of arguments\n",
    "# It means you don't need to know beforehand how many arguments will be passed to the function.\n",
    "# Arbitrary Positional Arguments (*args)\n",
    "# Arbitrary Keyword Arguments (**kwargs)\n"
   ]
  },
  {
   "cell_type": "code",
   "execution_count": 66,
   "id": "ec117474-9899-453c-8e71-8d06a32b5f91",
   "metadata": {},
   "outputs": [],
   "source": [
    "def flexi(*number):\n",
    "    product=1\n",
    "    for i in number:\n",
    "        product = product*i\n",
    "    print(product)\n",
    "\n",
    "# This function multiplies all the inputs and retruns it "
   ]
  },
  {
   "cell_type": "code",
   "execution_count": 67,
   "id": "41fa12db-1098-4198-9d6e-6f22a74d61ab",
   "metadata": {},
   "outputs": [
    {
     "name": "stdout",
     "output_type": "stream",
     "text": [
      "1\n"
     ]
    }
   ],
   "source": [
    "flexi(1)"
   ]
  },
  {
   "cell_type": "code",
   "execution_count": 68,
   "id": "27b0b9d1-0860-40f3-afa3-d6f840784570",
   "metadata": {},
   "outputs": [
    {
     "name": "stdout",
     "output_type": "stream",
     "text": [
      "337824\n"
     ]
    }
   ],
   "source": [
    "flexi(1,2,2,34,2,3,23,2,3,3)"
   ]
  },
  {
   "cell_type": "code",
   "execution_count": 69,
   "id": "3556b1d2-2365-4ef0-8509-96e062a75d01",
   "metadata": {},
   "outputs": [],
   "source": [
    "# A function can use global variable but it cannot make any change in the global variable"
   ]
  },
  {
   "cell_type": "code",
   "execution_count": 70,
   "id": "e1bad76b-fd81-4832-88c5-551e93918296",
   "metadata": {},
   "outputs": [],
   "source": [
    "# Nested function is hidden from the main function and if we try to run nested function it will show error \n"
   ]
  },
  {
   "cell_type": "code",
   "execution_count": 72,
   "id": "deb88889-5cd1-4b75-8102-f06f7e5504ef",
   "metadata": {},
   "outputs": [],
   "source": [
    "# Everything in python is object\n",
    "\n",
    "def f(num):\n",
    "    return num**2"
   ]
  },
  {
   "cell_type": "code",
   "execution_count": 76,
   "id": "1e62631e-5a85-4804-ada4-49a95ee4b216",
   "metadata": {},
   "outputs": [],
   "source": [
    "x=f    # now x has also  become the funtion cause everything in python is object"
   ]
  },
  {
   "cell_type": "code",
   "execution_count": 77,
   "id": "b23e10ad-9a3a-4a75-a906-396aa3ac3227",
   "metadata": {},
   "outputs": [
    {
     "data": {
      "text/plain": [
       "4"
      ]
     },
     "execution_count": 77,
     "metadata": {},
     "output_type": "execute_result"
    }
   ],
   "source": [
    "x(2)"
   ]
  },
  {
   "cell_type": "code",
   "execution_count": 81,
   "id": "8051a00e-ebdf-4ddf-84e4-73aeff516a38",
   "metadata": {},
   "outputs": [],
   "source": [
    "del f    # funtion f is deleted but function x is still there --> call by reference"
   ]
  },
  {
   "cell_type": "code",
   "execution_count": 79,
   "id": "c9a237da-a453-4202-b4aa-debd9c23a2f9",
   "metadata": {},
   "outputs": [
    {
     "data": {
      "text/plain": [
       "9"
      ]
     },
     "execution_count": 79,
     "metadata": {},
     "output_type": "execute_result"
    }
   ],
   "source": [
    "x(3)"
   ]
  },
  {
   "cell_type": "code",
   "execution_count": 82,
   "id": "f42b0b07-c847-4b7e-a809-9c6b71f11dc8",
   "metadata": {},
   "outputs": [
    {
     "data": {
      "text/plain": [
       "function"
      ]
     },
     "execution_count": 82,
     "metadata": {},
     "output_type": "execute_result"
    }
   ],
   "source": [
    "type(x)"
   ]
  },
  {
   "cell_type": "code",
   "execution_count": 85,
   "id": "6aab74cd-b387-45ce-91f7-c2dcf58fb71a",
   "metadata": {},
   "outputs": [
    {
     "data": {
      "text/plain": [
       "[1, 2, 3, 4, 5, <function __main__.f(num)>]"
      ]
     },
     "execution_count": 85,
     "metadata": {},
     "output_type": "execute_result"
    }
   ],
   "source": [
    "list=[1,2,3,4,5,x]\n",
    "list           # Because function is an object we are able to use it in the list"
   ]
  },
  {
   "cell_type": "code",
   "execution_count": 90,
   "id": "25152925-b243-4019-af48-7c06c414df20",
   "metadata": {},
   "outputs": [],
   "source": [
    "# We can delete function\n",
    "# functions can be renamed\n",
    "# returning a function is possible\n",
    "# storing a function is possible\n",
    "# function can be passed as arguments"
   ]
  },
  {
   "cell_type": "code",
   "execution_count": 91,
   "id": "37d3fe18-fd70-41b7-9039-6342c4ed0412",
   "metadata": {},
   "outputs": [],
   "source": [
    "# Advantages of functions\n",
    "# 1 . Code modularity --> breaking logics of code into pieces\n",
    "# 2. Code readablity \n",
    "# 3. Code reusablity"
   ]
  },
  {
   "cell_type": "markdown",
   "id": "948e1f43-39cd-46c7-94c1-357a70517165",
   "metadata": {
    "jp-MarkdownHeadingCollapsed": true
   },
   "source": [
    "### Recursion\n",
    "#####  Recursion in Python refers to a function that calls itself in order to solve a problem. Recursive functions break down a problem into smaller instances of the same problem, solving each instance until it reaches a base case, which stops the recursion.\n",
    "###### Base Case: The condition under which the recursion stops. Without a base case, recursion would continue indefinitely, leading to a stack overflow.\n",
    "###### Recursive Case: The part of the function where the function calls itself with a modified version of its input.\n",
    "\n",
    "###### Palimdrone - A palindrome is a word, number, phrase, or sequence of characters that reads the same forward and backward (ignoring spaces, punctuation, and capitalization). In Python, you can easily check if a string is a palindrome by comparing it to its reversed version.\n",
    "#####  Memoization\n",
    "###### Memoization is an optimization technique used to speed up recursive algorithms by storing the results of expensive function calls and reusing them when the same inputs occur again. It’s particularly useful when solving problems like calculating the Fibonacci series, dynamic programming problems, or any computation-heavy function that involves repeated calls with the same parameters."
   ]
  },
  {
   "cell_type": "code",
   "execution_count": 97,
   "id": "daf47089-e30c-4a69-88ca-659ae8995d26",
   "metadata": {},
   "outputs": [],
   "source": [
    "# normal code to multiply numbers\n",
    "def multiply(a,b):\n",
    "    result= 0\n",
    "    for i in range(b):\n",
    "        result = result + a\n",
    "    print(result)\n"
   ]
  },
  {
   "cell_type": "code",
   "execution_count": 98,
   "id": "63c70dc5-7ff5-419a-8acb-4bf6d3ca327f",
   "metadata": {},
   "outputs": [
    {
     "name": "stdout",
     "output_type": "stream",
     "text": [
      "20\n"
     ]
    }
   ],
   "source": [
    "multiply(4,5)"
   ]
  },
  {
   "cell_type": "code",
   "execution_count": 100,
   "id": "64d3d27f-e554-4a64-a63d-468eaaab49d2",
   "metadata": {},
   "outputs": [
    {
     "name": "stdout",
     "output_type": "stream",
     "text": [
      "25\n"
     ]
    }
   ],
   "source": [
    "# code using recursion\n",
    "\n",
    "def mul(a,b):\n",
    "\n",
    "    if b==1:         # This is the base condition/case\n",
    "        return a\n",
    "    else:\n",
    "        return a + mul(a,b-1)   # recursive case where the function is calling itself \n",
    "         \n",
    "print(mul(5,5))"
   ]
  },
  {
   "cell_type": "code",
   "execution_count": 101,
   "id": "e6f5cace-28e0-415a-ba9a-205b7ab6b15f",
   "metadata": {},
   "outputs": [],
   "source": [
    "# Recursion works just like stack where the function which comes in the last is solved first and the funtion which comes first is solved in last"
   ]
  },
  {
   "cell_type": "code",
   "execution_count": 103,
   "id": "28623832-947a-4b36-9950-4f5ce2818b21",
   "metadata": {},
   "outputs": [
    {
     "name": "stdout",
     "output_type": "stream",
     "text": [
      "720\n"
     ]
    }
   ],
   "source": [
    "# Factorial of a given number using recusion\n",
    "\n",
    "def fact(num):\n",
    "    if num == 1:\n",
    "        return 1\n",
    "    else:\n",
    "        return num*fact(num-1)\n",
    "print(fact(6))"
   ]
  },
  {
   "cell_type": "code",
   "execution_count": 109,
   "id": "fa8d7bd2-ddbd-4ec5-a00e-45e4982c3fa0",
   "metadata": {},
   "outputs": [
    {
     "name": "stdout",
     "output_type": "stream",
     "text": [
      "Palindrome\n",
      "Palindrome\n",
      "Not a palindrome\n",
      "Palindrome\n"
     ]
    }
   ],
   "source": [
    "# Palindrome or not \n",
    "\n",
    "def pali(text):\n",
    "    if len(text)<=1:              # base conditon or base case  # making it <= so that it can also work with text with even elements\n",
    "        print(\"Palindrome\")\n",
    "    else:\n",
    "        if text[0]==text[-1]:\n",
    "            pali(text[1:-1])\n",
    "        else:\n",
    "            print(\"Not a palindrome\")\n",
    "pali(\"madam\")\n",
    "pali(\"malayalam\")\n",
    "pali(\"python\")\n",
    "pali(\"vaav\")"
   ]
  },
  {
   "cell_type": "code",
   "execution_count": 1,
   "id": "a9763e36-9716-4606-93e4-4cc9c79b9719",
   "metadata": {},
   "outputs": [],
   "source": [
    "# python has a recursive limit of 1000\n",
    "# The Fibonacci series is a sequence of numbers where each number is the sum of the two preceding ones, usually starting with 0 and 1."
   ]
  },
  {
   "cell_type": "code",
   "execution_count": 19,
   "id": "1a38cfa7-0d7e-4dc0-90c7-e078d236f247",
   "metadata": {},
   "outputs": [
    {
     "name": "stdout",
     "output_type": "stream",
     "text": [
      "1346269\n",
      "0.36695313453674316\n"
     ]
    }
   ],
   "source": [
    "# Fibonacci series\n",
    "import time\n",
    "def fib(num):\n",
    "    if num==0 or num==1:\n",
    "        return 1\n",
    "    else:\n",
    "        return fib(num-1) + fib(num-2)\n",
    "        \n",
    "start = time.time()\n",
    "print(fib(30))\n",
    "print(time.time()-start)\n",
    "\n",
    "\n",
    "#  This is not an efficient code cause it takes 2 power n time complexity"
   ]
  },
  {
   "cell_type": "code",
   "execution_count": 24,
   "id": "f7016816-ad00-4b8e-8989-039080d0e781",
   "metadata": {},
   "outputs": [
    {
     "name": "stdout",
     "output_type": "stream",
     "text": [
      "573147844013817084101\n",
      "0.0\n"
     ]
    }
   ],
   "source": [
    "# Efficient code for fibonacci series \n",
    "\n",
    "import time \n",
    "def memo(m,d):   # using a dictionary (d) to store the calculated fibonacci \n",
    "    if m in d:        \n",
    "        return d[m]\n",
    "    else:\n",
    "        d[m]=memo(m-1,d) + memo(m-2,d)\n",
    "        return d[m]\n",
    "start=time.time()\n",
    "d={0:1,1:1}\n",
    "print(memo(100,d))\n",
    "print(time.time()-start)"
   ]
  },
  {
   "cell_type": "markdown",
   "id": "f8f12ad9-cfe0-4bb1-bd9a-e1b980bfc209",
   "metadata": {
    "jp-MarkdownHeadingCollapsed": true
   },
   "source": [
    "### Lambda function\n",
    "##### A lambda function in Python is a small, anonymous function that is defined without a name. It is used for creating small, one-line functions on the fly, usually when the function is required for a short period and you don't want to define a full function using def.\n",
    "##### Lambda has no return value rather it itself is a fuction and it is returened\n",
    "\n",
    "###### # Lambda input: expression "
   ]
  },
  {
   "cell_type": "code",
   "execution_count": 30,
   "id": "a4c79105-639c-4eaa-82a7-de2db2b5ce90",
   "metadata": {},
   "outputs": [],
   "source": [
    "a= lambda x:x**2  # finding power of any number"
   ]
  },
  {
   "cell_type": "code",
   "execution_count": 31,
   "id": "57529f21-2861-468e-825c-efc930147c25",
   "metadata": {},
   "outputs": [
    {
     "data": {
      "text/plain": [
       "81"
      ]
     },
     "execution_count": 31,
     "metadata": {},
     "output_type": "execute_result"
    }
   ],
   "source": [
    "a(9)"
   ]
  },
  {
   "cell_type": "code",
   "execution_count": 32,
   "id": "5b676a93-efe0-4ffe-ae43-ad56b6301739",
   "metadata": {},
   "outputs": [],
   "source": [
    "b= lambda x,y:x+y      # Adding two numbers"
   ]
  },
  {
   "cell_type": "code",
   "execution_count": 33,
   "id": "c17e844a-f24b-44a5-b7e3-1044d2b96464",
   "metadata": {},
   "outputs": [
    {
     "data": {
      "text/plain": [
       "9"
      ]
     },
     "execution_count": 33,
     "metadata": {},
     "output_type": "execute_result"
    }
   ],
   "source": [
    "b(4,5)"
   ]
  },
  {
   "cell_type": "code",
   "execution_count": 34,
   "id": "8559291f-49c1-4643-b13f-fc88c32a2847",
   "metadata": {},
   "outputs": [],
   "source": [
    "c = lambda x:\"Even\" if x%2==0 else \"odd\"\n"
   ]
  },
  {
   "cell_type": "code",
   "execution_count": 35,
   "id": "796a374f-3203-42d6-acec-bf5fae38f3ee",
   "metadata": {},
   "outputs": [
    {
     "data": {
      "text/plain": [
       "'odd'"
      ]
     },
     "execution_count": 35,
     "metadata": {},
     "output_type": "execute_result"
    }
   ],
   "source": [
    "c(3)"
   ]
  },
  {
   "cell_type": "code",
   "execution_count": 36,
   "id": "8310bf8c-4f2b-4887-b3d1-7ba5a1b4cf02",
   "metadata": {},
   "outputs": [
    {
     "data": {
      "text/plain": [
       "'Even'"
      ]
     },
     "execution_count": 36,
     "metadata": {},
     "output_type": "execute_result"
    }
   ],
   "source": [
    "c(4)"
   ]
  },
  {
   "cell_type": "markdown",
   "id": "adf9ad1d-8533-4d46-b3a8-f4e271d096a9",
   "metadata": {
    "jp-MarkdownHeadingCollapsed": true
   },
   "source": [
    "### JSON data --> Javascript object notation\n",
    "##### It is basically used to storing and transferring data between the browser(client) and server\n",
    "##### Parsing of json --> Convertion json text to dictionary so that we can access the data using keys \n",
    "##### Paring of json --> Combining two or more json objects \n",
    "##### Cleaning or modifying json --> removes the falsy(none, false,0) values or unwanted values from json file"
   ]
  },
  {
   "cell_type": "code",
   "execution_count": 8,
   "id": "369d0cff-6ad5-40bf-bce2-5003bd3f61fd",
   "metadata": {},
   "outputs": [
    {
     "name": "stdout",
     "output_type": "stream",
     "text": [
      "<class 'str'>\n",
      "<class 'dict'>\n",
      "{'Name': 'Vipul', 'gender': 'Male', 'age': '', 'extra_value': 'some_value'}\n",
      "Male\n"
     ]
    }
   ],
   "source": [
    "# Parsing of json\n",
    "\n",
    "\n",
    "import json\n",
    "data = '{\"Name\":\"Vipul\", \"gender\":\"Male\", \"age\":\"\",\"extra_value\":\"some_value\"}'\n",
    "print(type(data))  # It is an string so we cannot use keys to get the values from the data , now we need to parse this json to dictionary \n",
    "parsed_json= json.loads(data)\n",
    "print(type(parsed_json))\n",
    "print(parsed_json)\n",
    "print(parsed_json['gender'])"
   ]
  },
  {
   "cell_type": "code",
   "execution_count": 10,
   "id": "f247d6c5-8141-4d1f-bf7f-2972fd163fc5",
   "metadata": {},
   "outputs": [
    {
     "name": "stdout",
     "output_type": "stream",
     "text": [
      "{'Name': 'Vipul', 'gender': 'Male', 'age': '', 'extra_value': 'some_value'}\n"
     ]
    }
   ],
   "source": [
    "# Paring of Json\n",
    "\n",
    "data1={\n",
    "    \"Name\":\"Vipul\",\n",
    "    \"gender\":\"Male\",\n",
    "}\n",
    "\n",
    "data2={\n",
    "    \"age\":\"\",\n",
    "    \"extra_value\":\"some_value\"   \n",
    "}\n",
    "merged_data={**data1,**data2}\n",
    "print(merged_data)"
   ]
  },
  {
   "cell_type": "code",
   "execution_count": 14,
   "id": "b4a6b61d-2ec2-467d-a845-ac03ff900c02",
   "metadata": {},
   "outputs": [
    {
     "name": "stdout",
     "output_type": "stream",
     "text": [
      "{'Name': 'Vipul', 'gender': 'Male'}\n"
     ]
    }
   ],
   "source": [
    "# Cleaning of Json\n",
    "data = {\"Name\":\"Vipul\", \"gender\":\"Male\", \"age\":\"\",\"extra_value\":\"some_value\"}\n",
    "cleaned_data={k:v for k,v in data.items() if v and k!=\"extra_value\"}\n",
    "print(cleaned_data)\n",
    "\n",
    "# empty value is removed as well as the extra_value filtered by us is also removed"
   ]
  },
  {
   "cell_type": "markdown",
   "id": "5bd0bcc9-5ec3-49a3-bb1f-78c8581d3c91",
   "metadata": {},
   "source": [
    "### Object Oriented Programming\n",
    "##### Object-Oriented Programming (OOP) in Python is a programming paradigm that relies on the concept of objects, which are instances of classes. OOP allows you to model real-world entities using objects that have attributes (properties) and methods (behaviors).\n",
    "###### Class, Objects, Attributes, Methods\n",
    "###### Inhertence\n",
    "###### Encapsulation\n",
    "###### Polymorphism\n",
    "###### Abstraction"
   ]
  },
  {
   "cell_type": "code",
   "execution_count": 37,
   "id": "0efbdcfb-f1ff-4ae6-83c4-ec5bcc410e5e",
   "metadata": {},
   "outputs": [],
   "source": [
    "# datatype --> class and if we make object of any variable using the datatype it is now referred as object"
   ]
  },
  {
   "cell_type": "code",
   "execution_count": 43,
   "id": "8d17aafc-572b-43ba-890a-a44e11c54ffa",
   "metadata": {},
   "outputs": [],
   "source": [
    "# Class is a blueprint how an object will behave\n",
    "# Object is  the instance of a class\n",
    "# The object is an entity that has a state and behavior associated with it."
   ]
  },
  {
   "cell_type": "code",
   "execution_count": 40,
   "id": "7270356d-dd3c-4501-97b2-e4b56fd1463f",
   "metadata": {},
   "outputs": [],
   "source": [
    "# Class --> Data or property   ,   functions or behavior"
   ]
  },
  {
   "cell_type": "code",
   "execution_count": 41,
   "id": "f2861780-f0f9-4469-9afb-c85311a7b42a",
   "metadata": {},
   "outputs": [],
   "source": [
    "# ThisIsPascalCase ----> used in oops\n",
    "# thisIsCamelCase  \n",
    "# snake_case ---> combined using underscore"
   ]
  },
  {
   "cell_type": "code",
   "execution_count": 42,
   "id": "2ad3530a-2215-46ea-ad3c-bfdec4b812c9",
   "metadata": {},
   "outputs": [],
   "source": [
    "# Whenever we create class it is always created in PascalCase and the data of class should be in snake_case"
   ]
  },
  {
   "cell_type": "code",
   "execution_count": 1,
   "id": "b2d10f4f-74ba-483f-95e8-e3609bcf592b",
   "metadata": {},
   "outputs": [],
   "source": [
    "# Method is a special type of function written inside of a class\n",
    "# len() --> funtion\n",
    "# l.append() --> method \n",
    "# state of object --> attribute ( class dog -- breed , colour, age)\n",
    "# behaviour --> method of object. (sleeping , eating , running,barking) -- It also reflects the response of an object to other objects."
   ]
  },
  {
   "cell_type": "code",
   "execution_count": 46,
   "id": "0408336b-ea07-4843-ad06-3793e27b8554",
   "metadata": {},
   "outputs": [],
   "source": [
    "# constructor --> It is a special method in which the code automatically executes when we create object of that particular class \n",
    "# contructor in python --> __init__   -> It is also a magic method"
   ]
  },
  {
   "cell_type": "code",
   "execution_count": 48,
   "id": "a504d050-e9fb-426a-9cdf-a1ea235e00a9",
   "metadata": {},
   "outputs": [],
   "source": [
    "# The object we are currently working with is self\n",
    " # def __init__(self):\n",
    "\n",
    "# Attributes are the variable that belong to the class\n",
    "# Attributes are always public and can be accessed using the dot (.) operator. Eg.: Myclass.Myattribute"
   ]
  },
  {
   "cell_type": "code",
   "execution_count": 6,
   "id": "73b519b6-c90d-4194-acde-3128b5f149c7",
   "metadata": {},
   "outputs": [],
   "source": [
    "class dog:\n",
    "    pass              #  --->  creating a class"
   ]
  },
  {
   "cell_type": "code",
   "execution_count": 7,
   "id": "ef669edc-727b-440a-ab70-11379a72dfe1",
   "metadata": {},
   "outputs": [],
   "source": [
    "obj=dog()          #---> creating an object"
   ]
  },
  {
   "cell_type": "code",
   "execution_count": null,
   "id": "0f33dbb7-6bce-4049-ba9f-eec63a3a665b",
   "metadata": {},
   "outputs": [],
   "source": [
    "# self in python -->using the “self”  we can access the attributes and methods of the class in Python"
   ]
  }
 ],
 "metadata": {
  "kernelspec": {
   "display_name": "Python 3 (ipykernel)",
   "language": "python",
   "name": "python3"
  },
  "language_info": {
   "codemirror_mode": {
    "name": "ipython",
    "version": 3
   },
   "file_extension": ".py",
   "mimetype": "text/x-python",
   "name": "python",
   "nbconvert_exporter": "python",
   "pygments_lexer": "ipython3",
   "version": "3.12.4"
  }
 },
 "nbformat": 4,
 "nbformat_minor": 5
}
